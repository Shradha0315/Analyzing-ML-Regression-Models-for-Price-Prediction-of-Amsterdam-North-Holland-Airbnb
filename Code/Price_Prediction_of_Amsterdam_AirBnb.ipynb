{
 "cells": [
  {
   "cell_type": "markdown",
   "metadata": {
    "id": "9LbOsVYg9JNi"
   },
   "source": [
    "Calendar_Listing and Sent_Review"
   ]
  },
  {
   "cell_type": "markdown",
   "metadata": {
    "id": "GSVdEu8b9XUE"
   },
   "source": [
    "Connecting to Google Drive and obtaining the raw data of reviews"
   ]
  },
  {
   "cell_type": "code",
   "execution_count": 1,
   "metadata": {
    "colab": {
     "base_uri": "https://localhost:8080/"
    },
    "id": "v8ZdDG9qB4jG",
    "outputId": "ac2adcd0-5cf4-4bef-9d2f-5529864c72cc"
   },
   "outputs": [
    {
     "name": "stdout",
     "output_type": "stream",
     "text": [
      "Requirement already satisfied: unidecode in c:\\users\\asus\\anaconda3\\lib\\site-packages (1.3.2)\n",
      "Note: you may need to restart the kernel to use updated packages.\n"
     ]
    }
   ],
   "source": [
    "pip install unidecode"
   ]
  },
  {
   "cell_type": "code",
   "execution_count": 2,
   "metadata": {
    "colab": {
     "base_uri": "https://localhost:8080/"
    },
    "id": "9ixf8IaBxN1x",
    "outputId": "37268555-57e8-443a-f39f-85dbea25c83f"
   },
   "outputs": [
    {
     "name": "stdout",
     "output_type": "stream",
     "text": [
      "Requirement already satisfied: mplleaflet in c:\\users\\asus\\anaconda3\\lib\\site-packages (0.0.5)\n",
      "Requirement already satisfied: six in c:\\users\\asus\\anaconda3\\lib\\site-packages (from mplleaflet) (1.15.0)\n",
      "Requirement already satisfied: jinja2 in c:\\users\\asus\\anaconda3\\lib\\site-packages (from mplleaflet) (2.11.3)\n",
      "Requirement already satisfied: MarkupSafe>=0.23 in c:\\users\\asus\\anaconda3\\lib\\site-packages (from jinja2->mplleaflet) (1.1.1)\n",
      "Note: you may need to restart the kernel to use updated packages.\n"
     ]
    }
   ],
   "source": [
    "pip install mplleaflet"
   ]
  },
  {
   "cell_type": "code",
   "execution_count": 3,
   "metadata": {
    "colab": {
     "base_uri": "https://localhost:8080/"
    },
    "id": "c2siKLdEtaB-",
    "outputId": "a4630ddb-539f-4c36-e8ec-13de96567ec5"
   },
   "outputs": [],
   "source": [
    "import glob\n",
    "import os\n",
    "from datetime import date\n",
    "today = date.today()\n",
    "import pandas as pd\n",
    "import numpy as np\n",
    "import matplotlib.pyplot as mp\n",
    "import seaborn as sns\n",
    "import io\n",
    "import requests\n",
    "from unidecode import unidecode\n",
    "%matplotlib inline\n",
    "from datetime import datetime\n",
    "import seaborn as sns\n",
    "from sklearn.preprocessing import StandardScaler, MinMaxScaler,LabelEncoder\n",
    "from sklearn.model_selection import train_test_split, cross_val_score\n",
    "import xgboost as xgb\n",
    "from xgboost import plot_importance\n",
    "from sklearn.metrics import explained_variance_score, mean_squared_error, r2_score\n",
    "import time\n",
    "from keras import models, layers, optimizers, regularizers\n",
    "from keras.utils.vis_utils import model_to_dot\n",
    "from IPython.display import SVG\n",
    "from statsmodels.tsa.seasonal import seasonal_decompose\n",
    "from textblob import TextBlob\n",
    "import mplleaflet\n",
    "from tqdm import tqdm\n",
    "from xgboost import plot_importance\n",
    "from xgboost import XGBRegressor\n",
    "from sklearn.model_selection import GridSearchCV\n",
    "from sklearn.model_selection import train_test_split\n",
    "from sklearn.preprocessing import LabelEncoder\n",
    "from functools import reduce"
   ]
  },
  {
   "cell_type": "markdown",
   "metadata": {
    "id": "W0DklFHf9d9C"
   },
   "source": [
    "Downloaded and stored Calendar.csv in Dataframe"
   ]
  },
  {
   "cell_type": "code",
   "execution_count": 4,
   "metadata": {
    "id": "O9m0GC8ntGKU"
   },
   "outputs": [],
   "source": [
    "cal_df = pd.read_csv('D:/DCU/CA660_Stats/Assignment1/Amsterdam_Netherlands/RawDataset/calendar.csv')\n",
    "# Dataset is now stored in a Pandas Dataframe"
   ]
  },
  {
   "cell_type": "markdown",
   "metadata": {
    "id": "q7LPeVMZA6Qx"
   },
   "source": [
    "Downloaded and stored Listing.csv in Dataframe"
   ]
  },
  {
   "cell_type": "code",
   "execution_count": 5,
   "metadata": {
    "id": "pMZwmYzTA-PF"
   },
   "outputs": [],
   "source": [
    "list_df = pd.read_csv('D:/DCU/CA660_Stats/Assignment1/Amsterdam_Netherlands/RawDataset/listings.csv')\n",
    "# Dataset is now stored in a Pandas Dataframe"
   ]
  },
  {
   "cell_type": "code",
   "execution_count": 6,
   "metadata": {
    "colab": {
     "base_uri": "https://localhost:8080/"
    },
    "id": "TU5o6SgGJE6C",
    "outputId": "d69b992e-5071-449a-df4a-bb1fb897ec1e"
   },
   "outputs": [
    {
     "data": {
      "text/plain": [
       "(1971365, 7)"
      ]
     },
     "execution_count": 6,
     "metadata": {},
     "output_type": "execute_result"
    }
   ],
   "source": [
    "cal_df.shape"
   ]
  },
  {
   "cell_type": "code",
   "execution_count": 7,
   "metadata": {
    "colab": {
     "base_uri": "https://localhost:8080/",
     "height": 206
    },
    "id": "_0HL208XtfEj",
    "outputId": "a3ac7dc0-c5b9-4821-8190-d4010fa6e1c8"
   },
   "outputs": [
    {
     "data": {
      "text/html": [
       "<div>\n",
       "<style scoped>\n",
       "    .dataframe tbody tr th:only-of-type {\n",
       "        vertical-align: middle;\n",
       "    }\n",
       "\n",
       "    .dataframe tbody tr th {\n",
       "        vertical-align: top;\n",
       "    }\n",
       "\n",
       "    .dataframe thead th {\n",
       "        text-align: right;\n",
       "    }\n",
       "</style>\n",
       "<table border=\"1\" class=\"dataframe\">\n",
       "  <thead>\n",
       "    <tr style=\"text-align: right;\">\n",
       "      <th></th>\n",
       "      <th>listing_id</th>\n",
       "      <th>date</th>\n",
       "      <th>available</th>\n",
       "      <th>price</th>\n",
       "      <th>adjusted_price</th>\n",
       "      <th>minimum_nights</th>\n",
       "      <th>maximum_nights</th>\n",
       "    </tr>\n",
       "  </thead>\n",
       "  <tbody>\n",
       "    <tr>\n",
       "      <th>0</th>\n",
       "      <td>2818</td>\n",
       "      <td>2021-11-04</td>\n",
       "      <td>f</td>\n",
       "      <td>$59.00</td>\n",
       "      <td>$59.00</td>\n",
       "      <td>3</td>\n",
       "      <td>1125</td>\n",
       "    </tr>\n",
       "    <tr>\n",
       "      <th>1</th>\n",
       "      <td>522471</td>\n",
       "      <td>2021-11-04</td>\n",
       "      <td>f</td>\n",
       "      <td>$180.00</td>\n",
       "      <td>$180.00</td>\n",
       "      <td>5</td>\n",
       "      <td>1125</td>\n",
       "    </tr>\n",
       "    <tr>\n",
       "      <th>2</th>\n",
       "      <td>522471</td>\n",
       "      <td>2021-11-05</td>\n",
       "      <td>f</td>\n",
       "      <td>$180.00</td>\n",
       "      <td>$180.00</td>\n",
       "      <td>5</td>\n",
       "      <td>1125</td>\n",
       "    </tr>\n",
       "    <tr>\n",
       "      <th>3</th>\n",
       "      <td>522471</td>\n",
       "      <td>2021-11-06</td>\n",
       "      <td>f</td>\n",
       "      <td>$180.00</td>\n",
       "      <td>$180.00</td>\n",
       "      <td>5</td>\n",
       "      <td>1125</td>\n",
       "    </tr>\n",
       "    <tr>\n",
       "      <th>4</th>\n",
       "      <td>522471</td>\n",
       "      <td>2021-11-07</td>\n",
       "      <td>f</td>\n",
       "      <td>$180.00</td>\n",
       "      <td>$180.00</td>\n",
       "      <td>5</td>\n",
       "      <td>1125</td>\n",
       "    </tr>\n",
       "  </tbody>\n",
       "</table>\n",
       "</div>"
      ],
      "text/plain": [
       "   listing_id        date available    price adjusted_price  minimum_nights  \\\n",
       "0        2818  2021-11-04         f   $59.00         $59.00               3   \n",
       "1      522471  2021-11-04         f  $180.00        $180.00               5   \n",
       "2      522471  2021-11-05         f  $180.00        $180.00               5   \n",
       "3      522471  2021-11-06         f  $180.00        $180.00               5   \n",
       "4      522471  2021-11-07         f  $180.00        $180.00               5   \n",
       "\n",
       "   maximum_nights  \n",
       "0            1125  \n",
       "1            1125  \n",
       "2            1125  \n",
       "3            1125  \n",
       "4            1125  "
      ]
     },
     "execution_count": 7,
     "metadata": {},
     "output_type": "execute_result"
    }
   ],
   "source": [
    "cal_df.head()"
   ]
  },
  {
   "cell_type": "code",
   "execution_count": 8,
   "metadata": {
    "colab": {
     "base_uri": "https://localhost:8080/"
    },
    "id": "hJbE2VEoDOSn",
    "outputId": "8bdaf929-55ed-4986-a42e-a8abffb03e20"
   },
   "outputs": [
    {
     "data": {
      "text/plain": [
       "(5402, 74)"
      ]
     },
     "execution_count": 8,
     "metadata": {},
     "output_type": "execute_result"
    }
   ],
   "source": [
    "list_df.shape"
   ]
  },
  {
   "cell_type": "code",
   "execution_count": 9,
   "metadata": {
    "colab": {
     "base_uri": "https://localhost:8080/",
     "height": 608
    },
    "id": "6eR1eR82BMuv",
    "outputId": "c4c07818-08a9-41d2-d158-797d84eefe25"
   },
   "outputs": [
    {
     "data": {
      "text/html": [
       "<div>\n",
       "<style scoped>\n",
       "    .dataframe tbody tr th:only-of-type {\n",
       "        vertical-align: middle;\n",
       "    }\n",
       "\n",
       "    .dataframe tbody tr th {\n",
       "        vertical-align: top;\n",
       "    }\n",
       "\n",
       "    .dataframe thead th {\n",
       "        text-align: right;\n",
       "    }\n",
       "</style>\n",
       "<table border=\"1\" class=\"dataframe\">\n",
       "  <thead>\n",
       "    <tr style=\"text-align: right;\">\n",
       "      <th></th>\n",
       "      <th>id</th>\n",
       "      <th>listing_url</th>\n",
       "      <th>scrape_id</th>\n",
       "      <th>last_scraped</th>\n",
       "      <th>name</th>\n",
       "      <th>description</th>\n",
       "      <th>neighborhood_overview</th>\n",
       "      <th>picture_url</th>\n",
       "      <th>host_id</th>\n",
       "      <th>host_url</th>\n",
       "      <th>...</th>\n",
       "      <th>review_scores_communication</th>\n",
       "      <th>review_scores_location</th>\n",
       "      <th>review_scores_value</th>\n",
       "      <th>license</th>\n",
       "      <th>instant_bookable</th>\n",
       "      <th>calculated_host_listings_count</th>\n",
       "      <th>calculated_host_listings_count_entire_homes</th>\n",
       "      <th>calculated_host_listings_count_private_rooms</th>\n",
       "      <th>calculated_host_listings_count_shared_rooms</th>\n",
       "      <th>reviews_per_month</th>\n",
       "    </tr>\n",
       "  </thead>\n",
       "  <tbody>\n",
       "    <tr>\n",
       "      <th>0</th>\n",
       "      <td>2818</td>\n",
       "      <td>https://www.airbnb.com/rooms/2818</td>\n",
       "      <td>20211104024252</td>\n",
       "      <td>2021-11-04</td>\n",
       "      <td>Quiet Garden View Room &amp; Super Fast WiFi</td>\n",
       "      <td>Quiet Garden View Room &amp; Super Fast WiFi&lt;br /&gt;...</td>\n",
       "      <td>Indische Buurt (\"Indies Neighborhood\") is a ne...</td>\n",
       "      <td>https://a0.muscache.com/pictures/10272854/8dcc...</td>\n",
       "      <td>3159</td>\n",
       "      <td>https://www.airbnb.com/users/show/3159</td>\n",
       "      <td>...</td>\n",
       "      <td>4.98</td>\n",
       "      <td>4.68</td>\n",
       "      <td>4.81</td>\n",
       "      <td>0363 5F3A 5684 6750 D14D</td>\n",
       "      <td>t</td>\n",
       "      <td>1</td>\n",
       "      <td>0</td>\n",
       "      <td>1</td>\n",
       "      <td>0</td>\n",
       "      <td>2.83</td>\n",
       "    </tr>\n",
       "    <tr>\n",
       "      <th>1</th>\n",
       "      <td>20168</td>\n",
       "      <td>https://www.airbnb.com/rooms/20168</td>\n",
       "      <td>20211104024252</td>\n",
       "      <td>2021-11-04</td>\n",
       "      <td>Studio with private bathroom in the centre 1</td>\n",
       "      <td>17th century Dutch townhouse in the heart of t...</td>\n",
       "      <td>Located just in between famous central canals....</td>\n",
       "      <td>https://a0.muscache.com/pictures/69979628/fd6a...</td>\n",
       "      <td>59484</td>\n",
       "      <td>https://www.airbnb.com/users/show/59484</td>\n",
       "      <td>...</td>\n",
       "      <td>4.62</td>\n",
       "      <td>4.87</td>\n",
       "      <td>4.49</td>\n",
       "      <td>0363 CBB3 2C10 0C2A 1E29</td>\n",
       "      <td>t</td>\n",
       "      <td>2</td>\n",
       "      <td>0</td>\n",
       "      <td>2</td>\n",
       "      <td>0</td>\n",
       "      <td>3.57</td>\n",
       "    </tr>\n",
       "    <tr>\n",
       "      <th>2</th>\n",
       "      <td>27886</td>\n",
       "      <td>https://www.airbnb.com/rooms/27886</td>\n",
       "      <td>20211104024252</td>\n",
       "      <td>2021-11-04</td>\n",
       "      <td>Romantic, stylish B&amp;B houseboat in canal district</td>\n",
       "      <td>Stylish and romantic houseboat on fantastic hi...</td>\n",
       "      <td>Central, quiet, safe, clean and beautiful.</td>\n",
       "      <td>https://a0.muscache.com/pictures/02c2da9d-660e...</td>\n",
       "      <td>97647</td>\n",
       "      <td>https://www.airbnb.com/users/show/97647</td>\n",
       "      <td>...</td>\n",
       "      <td>4.92</td>\n",
       "      <td>4.90</td>\n",
       "      <td>4.80</td>\n",
       "      <td>0363 974D 4986 7411 88D8</td>\n",
       "      <td>t</td>\n",
       "      <td>1</td>\n",
       "      <td>0</td>\n",
       "      <td>1</td>\n",
       "      <td>0</td>\n",
       "      <td>2.13</td>\n",
       "    </tr>\n",
       "    <tr>\n",
       "      <th>3</th>\n",
       "      <td>28871</td>\n",
       "      <td>https://www.airbnb.com/rooms/28871</td>\n",
       "      <td>20211104024252</td>\n",
       "      <td>2021-11-04</td>\n",
       "      <td>Comfortable double room</td>\n",
       "      <td>&lt;b&gt;The space&lt;/b&gt;&lt;br /&gt;In a monumental house ri...</td>\n",
       "      <td>Flower market , Leidseplein , Rembrantsplein</td>\n",
       "      <td>https://a0.muscache.com/pictures/160889/362340...</td>\n",
       "      <td>124245</td>\n",
       "      <td>https://www.airbnb.com/users/show/124245</td>\n",
       "      <td>...</td>\n",
       "      <td>4.94</td>\n",
       "      <td>4.97</td>\n",
       "      <td>4.82</td>\n",
       "      <td>0363 607B EA74 0BD8 2F6F</td>\n",
       "      <td>f</td>\n",
       "      <td>2</td>\n",
       "      <td>0</td>\n",
       "      <td>2</td>\n",
       "      <td>0</td>\n",
       "      <td>4.62</td>\n",
       "    </tr>\n",
       "    <tr>\n",
       "      <th>4</th>\n",
       "      <td>29051</td>\n",
       "      <td>https://www.airbnb.com/rooms/29051</td>\n",
       "      <td>20211104024252</td>\n",
       "      <td>2021-11-04</td>\n",
       "      <td>Comfortable single room</td>\n",
       "      <td>This room can also accomodate 2 people.  For a...</td>\n",
       "      <td>the street is quite lively especially on weeke...</td>\n",
       "      <td>https://a0.muscache.com/pictures/162009/bd6be2...</td>\n",
       "      <td>124245</td>\n",
       "      <td>https://www.airbnb.com/users/show/124245</td>\n",
       "      <td>...</td>\n",
       "      <td>4.90</td>\n",
       "      <td>4.86</td>\n",
       "      <td>4.75</td>\n",
       "      <td>0363 607B EA74 0BD8 2F6F</td>\n",
       "      <td>f</td>\n",
       "      <td>2</td>\n",
       "      <td>0</td>\n",
       "      <td>2</td>\n",
       "      <td>0</td>\n",
       "      <td>5.52</td>\n",
       "    </tr>\n",
       "  </tbody>\n",
       "</table>\n",
       "<p>5 rows × 74 columns</p>\n",
       "</div>"
      ],
      "text/plain": [
       "      id                         listing_url       scrape_id last_scraped  \\\n",
       "0   2818   https://www.airbnb.com/rooms/2818  20211104024252   2021-11-04   \n",
       "1  20168  https://www.airbnb.com/rooms/20168  20211104024252   2021-11-04   \n",
       "2  27886  https://www.airbnb.com/rooms/27886  20211104024252   2021-11-04   \n",
       "3  28871  https://www.airbnb.com/rooms/28871  20211104024252   2021-11-04   \n",
       "4  29051  https://www.airbnb.com/rooms/29051  20211104024252   2021-11-04   \n",
       "\n",
       "                                                name  \\\n",
       "0           Quiet Garden View Room & Super Fast WiFi   \n",
       "1       Studio with private bathroom in the centre 1   \n",
       "2  Romantic, stylish B&B houseboat in canal district   \n",
       "3                            Comfortable double room   \n",
       "4                            Comfortable single room   \n",
       "\n",
       "                                         description  \\\n",
       "0  Quiet Garden View Room & Super Fast WiFi<br />...   \n",
       "1  17th century Dutch townhouse in the heart of t...   \n",
       "2  Stylish and romantic houseboat on fantastic hi...   \n",
       "3  <b>The space</b><br />In a monumental house ri...   \n",
       "4  This room can also accomodate 2 people.  For a...   \n",
       "\n",
       "                               neighborhood_overview  \\\n",
       "0  Indische Buurt (\"Indies Neighborhood\") is a ne...   \n",
       "1  Located just in between famous central canals....   \n",
       "2         Central, quiet, safe, clean and beautiful.   \n",
       "3       Flower market , Leidseplein , Rembrantsplein   \n",
       "4  the street is quite lively especially on weeke...   \n",
       "\n",
       "                                         picture_url  host_id  \\\n",
       "0  https://a0.muscache.com/pictures/10272854/8dcc...     3159   \n",
       "1  https://a0.muscache.com/pictures/69979628/fd6a...    59484   \n",
       "2  https://a0.muscache.com/pictures/02c2da9d-660e...    97647   \n",
       "3  https://a0.muscache.com/pictures/160889/362340...   124245   \n",
       "4  https://a0.muscache.com/pictures/162009/bd6be2...   124245   \n",
       "\n",
       "                                   host_url  ... review_scores_communication  \\\n",
       "0    https://www.airbnb.com/users/show/3159  ...                        4.98   \n",
       "1   https://www.airbnb.com/users/show/59484  ...                        4.62   \n",
       "2   https://www.airbnb.com/users/show/97647  ...                        4.92   \n",
       "3  https://www.airbnb.com/users/show/124245  ...                        4.94   \n",
       "4  https://www.airbnb.com/users/show/124245  ...                        4.90   \n",
       "\n",
       "  review_scores_location review_scores_value                   license  \\\n",
       "0                   4.68                4.81  0363 5F3A 5684 6750 D14D   \n",
       "1                   4.87                4.49  0363 CBB3 2C10 0C2A 1E29   \n",
       "2                   4.90                4.80  0363 974D 4986 7411 88D8   \n",
       "3                   4.97                4.82  0363 607B EA74 0BD8 2F6F   \n",
       "4                   4.86                4.75  0363 607B EA74 0BD8 2F6F   \n",
       "\n",
       "  instant_bookable calculated_host_listings_count  \\\n",
       "0                t                              1   \n",
       "1                t                              2   \n",
       "2                t                              1   \n",
       "3                f                              2   \n",
       "4                f                              2   \n",
       "\n",
       "  calculated_host_listings_count_entire_homes  \\\n",
       "0                                           0   \n",
       "1                                           0   \n",
       "2                                           0   \n",
       "3                                           0   \n",
       "4                                           0   \n",
       "\n",
       "  calculated_host_listings_count_private_rooms  \\\n",
       "0                                            1   \n",
       "1                                            2   \n",
       "2                                            1   \n",
       "3                                            2   \n",
       "4                                            2   \n",
       "\n",
       "  calculated_host_listings_count_shared_rooms reviews_per_month  \n",
       "0                                           0              2.83  \n",
       "1                                           0              3.57  \n",
       "2                                           0              2.13  \n",
       "3                                           0              4.62  \n",
       "4                                           0              5.52  \n",
       "\n",
       "[5 rows x 74 columns]"
      ]
     },
     "execution_count": 9,
     "metadata": {},
     "output_type": "execute_result"
    }
   ],
   "source": [
    "list_df.head()"
   ]
  },
  {
   "cell_type": "markdown",
   "metadata": {
    "id": "Cxi_qgZjGvFk"
   },
   "source": [
    "Dropping Any NULL values from cal_df dataframe"
   ]
  },
  {
   "cell_type": "code",
   "execution_count": 10,
   "metadata": {
    "colab": {
     "base_uri": "https://localhost:8080/"
    },
    "id": "6brCRMaOCRmQ",
    "outputId": "7daa16f1-4a99-4505-edff-b775ea05544a"
   },
   "outputs": [
    {
     "data": {
      "text/plain": [
       "(1971365, 7)"
      ]
     },
     "execution_count": 10,
     "metadata": {},
     "output_type": "execute_result"
    }
   ],
   "source": [
    "cal_df.dropna(how = 'any', axis = 0,inplace=True)\n",
    "cal_df.shape"
   ]
  },
  {
   "cell_type": "markdown",
   "metadata": {
    "id": "ojzvG1XYG2o6"
   },
   "source": [
    "Filtering only for Booked Listings"
   ]
  },
  {
   "cell_type": "code",
   "execution_count": 11,
   "metadata": {
    "colab": {
     "base_uri": "https://localhost:8080/"
    },
    "id": "vGVpNpiICb1Q",
    "outputId": "b7a4b871-07ce-4374-e1ea-41c21c3e648b"
   },
   "outputs": [
    {
     "data": {
      "text/plain": [
       "(1412328, 7)"
      ]
     },
     "execution_count": 11,
     "metadata": {},
     "output_type": "execute_result"
    }
   ],
   "source": [
    "cal_reduced=cal_df.loc[cal_df['available'] == 'f']\n",
    "cal_reduced.shape"
   ]
  },
  {
   "cell_type": "code",
   "execution_count": 12,
   "metadata": {
    "colab": {
     "base_uri": "https://localhost:8080/"
    },
    "id": "0_pMSaRMDAz3",
    "outputId": "573655dc-e1e7-412d-c534-f70f3bdfd31b"
   },
   "outputs": [
    {
     "data": {
      "text/plain": [
       "listing_id        0\n",
       "date              0\n",
       "available         0\n",
       "price             0\n",
       "adjusted_price    0\n",
       "minimum_nights    0\n",
       "maximum_nights    0\n",
       "dtype: int64"
      ]
     },
     "execution_count": 12,
     "metadata": {},
     "output_type": "execute_result"
    }
   ],
   "source": [
    "cal_reduced.isnull().sum()"
   ]
  },
  {
   "cell_type": "markdown",
   "metadata": {
    "id": "rPCnRiD8G8_z"
   },
   "source": [
    "Dropping Unnnecessary Columns having Majority of NULL vales from list_df"
   ]
  },
  {
   "cell_type": "code",
   "execution_count": 13,
   "metadata": {
    "colab": {
     "base_uri": "https://localhost:8080/"
    },
    "id": "KAPkXhbtC_fp",
    "outputId": "dfea8cdf-547e-44f3-e7e0-2f9a875a7927"
   },
   "outputs": [
    {
     "data": {
      "text/plain": [
       "5402"
      ]
     },
     "execution_count": 13,
     "metadata": {},
     "output_type": "execute_result"
    }
   ],
   "source": [
    "list_df['neighbourhood_group_cleansed'].isnull().sum()"
   ]
  },
  {
   "cell_type": "code",
   "execution_count": 14,
   "metadata": {
    "id": "8fL3eZdrDTAQ"
   },
   "outputs": [],
   "source": [
    "list_df.drop('neighbourhood_group_cleansed',axis=1,inplace=True)"
   ]
  },
  {
   "cell_type": "code",
   "execution_count": 15,
   "metadata": {
    "colab": {
     "base_uri": "https://localhost:8080/"
    },
    "id": "oMuyBFWNDXOn",
    "outputId": "ad7cc3ee-958b-454b-cd54-826a2151f377"
   },
   "outputs": [
    {
     "data": {
      "text/plain": [
       "1505"
      ]
     },
     "execution_count": 15,
     "metadata": {},
     "output_type": "execute_result"
    }
   ],
   "source": [
    "list_df['host_acceptance_rate'].isnull().sum()"
   ]
  },
  {
   "cell_type": "code",
   "execution_count": 16,
   "metadata": {
    "id": "69bs8mhrDZRc"
   },
   "outputs": [],
   "source": [
    "list_df.drop('host_acceptance_rate',axis=1,inplace=True)"
   ]
  },
  {
   "cell_type": "code",
   "execution_count": 17,
   "metadata": {
    "id": "_tsgR37yDomh"
   },
   "outputs": [],
   "source": [
    "list_clean = ['name','host_since','listing_url', 'scrape_id', 'last_scraped', 'description', 'neighborhood_overview','picture_url', 'host_url', 'host_name', 'host_location', 'host_about', 'host_thumbnail_url', 'host_picture_url', 'host_neighbourhood', 'host_verifications','first_review','last_review', 'calendar_updated','calendar_last_scraped']\n",
    "list_clean_df = list_df.drop(list_clean, axis=1)"
   ]
  },
  {
   "cell_type": "code",
   "execution_count": 18,
   "metadata": {
    "colab": {
     "base_uri": "https://localhost:8080/"
    },
    "id": "-YvIrYltDyo6",
    "outputId": "40b49a1f-5d1b-47e2-d8c5-6e41c60c6423"
   },
   "outputs": [
    {
     "data": {
      "text/plain": [
       "id                                                 0\n",
       "host_id                                            0\n",
       "host_response_time                              1760\n",
       "host_response_rate                              1760\n",
       "host_is_superhost                                  1\n",
       "host_listings_count                                1\n",
       "host_total_listings_count                          1\n",
       "host_has_profile_pic                               1\n",
       "host_identity_verified                             1\n",
       "neighbourhood                                   1494\n",
       "neighbourhood_cleansed                             0\n",
       "latitude                                           0\n",
       "longitude                                          0\n",
       "property_type                                      0\n",
       "room_type                                          0\n",
       "accommodates                                       0\n",
       "bathrooms                                       5402\n",
       "bathrooms_text                                    14\n",
       "bedrooms                                         321\n",
       "beds                                             239\n",
       "amenities                                          0\n",
       "price                                              0\n",
       "minimum_nights                                     0\n",
       "maximum_nights                                     0\n",
       "minimum_minimum_nights                             1\n",
       "maximum_minimum_nights                             1\n",
       "minimum_maximum_nights                             1\n",
       "maximum_maximum_nights                             1\n",
       "minimum_nights_avg_ntm                             1\n",
       "maximum_nights_avg_ntm                             1\n",
       "has_availability                                   0\n",
       "availability_30                                    0\n",
       "availability_60                                    0\n",
       "availability_90                                    0\n",
       "availability_365                                   0\n",
       "number_of_reviews                                  0\n",
       "number_of_reviews_ltm                              0\n",
       "number_of_reviews_l30d                             0\n",
       "review_scores_rating                             468\n",
       "review_scores_accuracy                           479\n",
       "review_scores_cleanliness                        479\n",
       "review_scores_checkin                            479\n",
       "review_scores_communication                      479\n",
       "review_scores_location                           479\n",
       "review_scores_value                              479\n",
       "license                                           36\n",
       "instant_bookable                                   0\n",
       "calculated_host_listings_count                     0\n",
       "calculated_host_listings_count_entire_homes        0\n",
       "calculated_host_listings_count_private_rooms       0\n",
       "calculated_host_listings_count_shared_rooms        0\n",
       "reviews_per_month                                468\n",
       "dtype: int64"
      ]
     },
     "execution_count": 18,
     "metadata": {},
     "output_type": "execute_result"
    }
   ],
   "source": [
    "list_clean_df.isna().sum()"
   ]
  },
  {
   "cell_type": "code",
   "execution_count": 19,
   "metadata": {
    "id": "t88TbMDWD50_"
   },
   "outputs": [],
   "source": [
    "list_clean_df.drop (['license','bathrooms'], axis=1, inplace=True)"
   ]
  },
  {
   "cell_type": "code",
   "execution_count": 20,
   "metadata": {
    "colab": {
     "base_uri": "https://localhost:8080/"
    },
    "id": "1blaEmgjEAk6",
    "outputId": "b2919195-6215-4df5-907b-c9394d46de20"
   },
   "outputs": [
    {
     "name": "stdout",
     "output_type": "stream",
     "text": [
      "1\n"
     ]
    }
   ],
   "source": [
    "print(sum((list_clean_df.host_listings_count == list_clean_df.host_total_listings_count) == False))"
   ]
  },
  {
   "cell_type": "code",
   "execution_count": 21,
   "metadata": {
    "colab": {
     "base_uri": "https://localhost:8080/",
     "height": 170
    },
    "id": "s0ByIC-hEHYo",
    "outputId": "39208731-5423-46d6-e491-9456dd1f8031"
   },
   "outputs": [
    {
     "data": {
      "text/html": [
       "<div>\n",
       "<style scoped>\n",
       "    .dataframe tbody tr th:only-of-type {\n",
       "        vertical-align: middle;\n",
       "    }\n",
       "\n",
       "    .dataframe tbody tr th {\n",
       "        vertical-align: top;\n",
       "    }\n",
       "\n",
       "    .dataframe thead th {\n",
       "        text-align: right;\n",
       "    }\n",
       "</style>\n",
       "<table border=\"1\" class=\"dataframe\">\n",
       "  <thead>\n",
       "    <tr style=\"text-align: right;\">\n",
       "      <th></th>\n",
       "      <th>id</th>\n",
       "      <th>host_id</th>\n",
       "      <th>host_response_time</th>\n",
       "      <th>host_response_rate</th>\n",
       "      <th>host_is_superhost</th>\n",
       "      <th>host_listings_count</th>\n",
       "      <th>host_total_listings_count</th>\n",
       "      <th>host_has_profile_pic</th>\n",
       "      <th>host_identity_verified</th>\n",
       "      <th>neighbourhood</th>\n",
       "      <th>...</th>\n",
       "      <th>review_scores_checkin</th>\n",
       "      <th>review_scores_communication</th>\n",
       "      <th>review_scores_location</th>\n",
       "      <th>review_scores_value</th>\n",
       "      <th>instant_bookable</th>\n",
       "      <th>calculated_host_listings_count</th>\n",
       "      <th>calculated_host_listings_count_entire_homes</th>\n",
       "      <th>calculated_host_listings_count_private_rooms</th>\n",
       "      <th>calculated_host_listings_count_shared_rooms</th>\n",
       "      <th>reviews_per_month</th>\n",
       "    </tr>\n",
       "  </thead>\n",
       "  <tbody>\n",
       "    <tr>\n",
       "      <th>4683</th>\n",
       "      <td>46502181</td>\n",
       "      <td>5619022</td>\n",
       "      <td>NaN</td>\n",
       "      <td>NaN</td>\n",
       "      <td>NaN</td>\n",
       "      <td>NaN</td>\n",
       "      <td>NaN</td>\n",
       "      <td>NaN</td>\n",
       "      <td>NaN</td>\n",
       "      <td>NaN</td>\n",
       "      <td>...</td>\n",
       "      <td>5.0</td>\n",
       "      <td>5.0</td>\n",
       "      <td>4.93</td>\n",
       "      <td>4.57</td>\n",
       "      <td>f</td>\n",
       "      <td>1</td>\n",
       "      <td>0</td>\n",
       "      <td>1</td>\n",
       "      <td>0</td>\n",
       "      <td>3.65</td>\n",
       "    </tr>\n",
       "  </tbody>\n",
       "</table>\n",
       "<p>1 rows × 50 columns</p>\n",
       "</div>"
      ],
      "text/plain": [
       "            id  host_id host_response_time host_response_rate  \\\n",
       "4683  46502181  5619022                NaN                NaN   \n",
       "\n",
       "     host_is_superhost  host_listings_count  host_total_listings_count  \\\n",
       "4683               NaN                  NaN                        NaN   \n",
       "\n",
       "     host_has_profile_pic host_identity_verified neighbourhood  ...  \\\n",
       "4683                  NaN                    NaN           NaN  ...   \n",
       "\n",
       "     review_scores_checkin  review_scores_communication  \\\n",
       "4683                   5.0                          5.0   \n",
       "\n",
       "      review_scores_location review_scores_value instant_bookable  \\\n",
       "4683                    4.93                4.57                f   \n",
       "\n",
       "      calculated_host_listings_count  \\\n",
       "4683                               1   \n",
       "\n",
       "     calculated_host_listings_count_entire_homes  \\\n",
       "4683                                           0   \n",
       "\n",
       "      calculated_host_listings_count_private_rooms  \\\n",
       "4683                                             1   \n",
       "\n",
       "      calculated_host_listings_count_shared_rooms reviews_per_month  \n",
       "4683                                            0              3.65  \n",
       "\n",
       "[1 rows x 50 columns]"
      ]
     },
     "execution_count": 21,
     "metadata": {},
     "output_type": "execute_result"
    }
   ],
   "source": [
    "list_clean_df.loc[((list_clean_df.host_listings_count == list_clean_df.host_total_listings_count) == False)][:5]"
   ]
  },
  {
   "cell_type": "code",
   "execution_count": 22,
   "metadata": {
    "id": "RRSydXiiENux"
   },
   "outputs": [],
   "source": [
    "# Looking at the dataset, the vales in host_listings_count and host_total_listings_count is same except for 32 NULL values\n",
    "# The calculated fields are correlated to above 2 columns\n",
    "# So we can drop one column 'host_total_listings_count'\n",
    "list_clean_df.drop(['host_total_listings_count', 'calculated_host_listings_count', 'calculated_host_listings_count_entire_homes', 'calculated_host_listings_count_private_rooms', 'calculated_host_listings_count_shared_rooms'], axis=1, inplace=True)"
   ]
  },
  {
   "cell_type": "code",
   "execution_count": 23,
   "metadata": {
    "colab": {
     "base_uri": "https://localhost:8080/"
    },
    "id": "dwuUZxSHER99",
    "outputId": "aff806b0-551e-4e7b-bac8-9d8f2786624a"
   },
   "outputs": [
    {
     "data": {
      "text/plain": [
       "395"
      ]
     },
     "execution_count": 23,
     "metadata": {},
     "output_type": "execute_result"
    }
   ],
   "source": [
    "sum((list_clean_df.minimum_nights == list_clean_df.minimum_minimum_nights) == False)"
   ]
  },
  {
   "cell_type": "code",
   "execution_count": 24,
   "metadata": {
    "id": "ieNSfurhEWTg"
   },
   "outputs": [],
   "source": [
    "list_clean_df.drop(['minimum_minimum_nights', 'maximum_minimum_nights', 'minimum_maximum_nights', 'maximum_maximum_nights', 'minimum_nights_avg_ntm', 'maximum_nights_avg_ntm'], axis=1, inplace=True)"
   ]
  },
  {
   "cell_type": "code",
   "execution_count": 25,
   "metadata": {
    "colab": {
     "base_uri": "https://localhost:8080/"
    },
    "id": "oCGUzlfaEZ1X",
    "outputId": "b2a83972-f8ae-4c75-f8ab-1a6e7a7ac5c6"
   },
   "outputs": [
    {
     "data": {
      "text/plain": [
       "(5402, 39)"
      ]
     },
     "execution_count": 25,
     "metadata": {},
     "output_type": "execute_result"
    }
   ],
   "source": [
    "list_clean_df.shape"
   ]
  },
  {
   "cell_type": "code",
   "execution_count": 26,
   "metadata": {
    "colab": {
     "base_uri": "https://localhost:8080/"
    },
    "id": "er37mMuDEcx8",
    "outputId": "1428d8dd-5aa7-4323-e95e-51af55f7f6b1"
   },
   "outputs": [
    {
     "data": {
      "text/plain": [
       "id                                0\n",
       "host_id                           0\n",
       "host_response_time             1760\n",
       "host_response_rate             1760\n",
       "host_is_superhost                 1\n",
       "host_listings_count               1\n",
       "host_has_profile_pic              1\n",
       "host_identity_verified            1\n",
       "neighbourhood                  1494\n",
       "neighbourhood_cleansed            0\n",
       "latitude                          0\n",
       "longitude                         0\n",
       "property_type                     0\n",
       "room_type                         0\n",
       "accommodates                      0\n",
       "bathrooms_text                   14\n",
       "bedrooms                        321\n",
       "beds                            239\n",
       "amenities                         0\n",
       "price                             0\n",
       "minimum_nights                    0\n",
       "maximum_nights                    0\n",
       "has_availability                  0\n",
       "availability_30                   0\n",
       "availability_60                   0\n",
       "availability_90                   0\n",
       "availability_365                  0\n",
       "number_of_reviews                 0\n",
       "number_of_reviews_ltm             0\n",
       "number_of_reviews_l30d            0\n",
       "review_scores_rating            468\n",
       "review_scores_accuracy          479\n",
       "review_scores_cleanliness       479\n",
       "review_scores_checkin           479\n",
       "review_scores_communication     479\n",
       "review_scores_location          479\n",
       "review_scores_value             479\n",
       "instant_bookable                  0\n",
       "reviews_per_month               468\n",
       "dtype: int64"
      ]
     },
     "execution_count": 26,
     "metadata": {},
     "output_type": "execute_result"
    }
   ],
   "source": [
    "list_clean_df.isnull().sum()"
   ]
  },
  {
   "cell_type": "markdown",
   "metadata": {
    "id": "vHwSbNMyiiXL"
   },
   "source": [
    "Merging Calendar and Listing"
   ]
  },
  {
   "cell_type": "code",
   "execution_count": 27,
   "metadata": {
    "colab": {
     "base_uri": "https://localhost:8080/"
    },
    "id": "DsRUkAc-JthX",
    "outputId": "81d79cd6-5a96-4233-ae6e-4897903089ad"
   },
   "outputs": [
    {
     "data": {
      "text/plain": [
       "(1412328, 45)"
      ]
     },
     "execution_count": 27,
     "metadata": {},
     "output_type": "execute_result"
    }
   ],
   "source": [
    "cal_reduced = cal_reduced.rename(columns={'listing_id':'id'})\n",
    "merge_df = pd.merge(list_clean_df,cal_reduced, on ='id')\n",
    "merge_df.shape"
   ]
  },
  {
   "cell_type": "code",
   "execution_count": 28,
   "metadata": {
    "colab": {
     "base_uri": "https://localhost:8080/",
     "height": 486
    },
    "id": "4g1FRxTOKLgg",
    "outputId": "a0fd9395-9c00-4f4c-90cd-271e55ebb5d3"
   },
   "outputs": [
    {
     "data": {
      "text/html": [
       "<div>\n",
       "<style scoped>\n",
       "    .dataframe tbody tr th:only-of-type {\n",
       "        vertical-align: middle;\n",
       "    }\n",
       "\n",
       "    .dataframe tbody tr th {\n",
       "        vertical-align: top;\n",
       "    }\n",
       "\n",
       "    .dataframe thead th {\n",
       "        text-align: right;\n",
       "    }\n",
       "</style>\n",
       "<table border=\"1\" class=\"dataframe\">\n",
       "  <thead>\n",
       "    <tr style=\"text-align: right;\">\n",
       "      <th></th>\n",
       "      <th>id</th>\n",
       "      <th>host_id</th>\n",
       "      <th>host_response_time</th>\n",
       "      <th>host_response_rate</th>\n",
       "      <th>host_is_superhost</th>\n",
       "      <th>host_listings_count</th>\n",
       "      <th>host_has_profile_pic</th>\n",
       "      <th>host_identity_verified</th>\n",
       "      <th>neighbourhood</th>\n",
       "      <th>neighbourhood_cleansed</th>\n",
       "      <th>...</th>\n",
       "      <th>review_scores_location</th>\n",
       "      <th>review_scores_value</th>\n",
       "      <th>instant_bookable</th>\n",
       "      <th>reviews_per_month</th>\n",
       "      <th>date</th>\n",
       "      <th>available</th>\n",
       "      <th>price_y</th>\n",
       "      <th>adjusted_price</th>\n",
       "      <th>minimum_nights_y</th>\n",
       "      <th>maximum_nights_y</th>\n",
       "    </tr>\n",
       "  </thead>\n",
       "  <tbody>\n",
       "    <tr>\n",
       "      <th>0</th>\n",
       "      <td>2818</td>\n",
       "      <td>3159</td>\n",
       "      <td>within an hour</td>\n",
       "      <td>100%</td>\n",
       "      <td>t</td>\n",
       "      <td>1.0</td>\n",
       "      <td>t</td>\n",
       "      <td>t</td>\n",
       "      <td>Amsterdam, North Holland, Netherlands</td>\n",
       "      <td>Oostelijk Havengebied - Indische Buurt</td>\n",
       "      <td>...</td>\n",
       "      <td>4.68</td>\n",
       "      <td>4.81</td>\n",
       "      <td>t</td>\n",
       "      <td>2.83</td>\n",
       "      <td>2021-11-04</td>\n",
       "      <td>f</td>\n",
       "      <td>$59.00</td>\n",
       "      <td>$59.00</td>\n",
       "      <td>3</td>\n",
       "      <td>1125</td>\n",
       "    </tr>\n",
       "    <tr>\n",
       "      <th>1</th>\n",
       "      <td>2818</td>\n",
       "      <td>3159</td>\n",
       "      <td>within an hour</td>\n",
       "      <td>100%</td>\n",
       "      <td>t</td>\n",
       "      <td>1.0</td>\n",
       "      <td>t</td>\n",
       "      <td>t</td>\n",
       "      <td>Amsterdam, North Holland, Netherlands</td>\n",
       "      <td>Oostelijk Havengebied - Indische Buurt</td>\n",
       "      <td>...</td>\n",
       "      <td>4.68</td>\n",
       "      <td>4.81</td>\n",
       "      <td>t</td>\n",
       "      <td>2.83</td>\n",
       "      <td>2021-11-08</td>\n",
       "      <td>f</td>\n",
       "      <td>$59.00</td>\n",
       "      <td>$59.00</td>\n",
       "      <td>3</td>\n",
       "      <td>1125</td>\n",
       "    </tr>\n",
       "    <tr>\n",
       "      <th>2</th>\n",
       "      <td>2818</td>\n",
       "      <td>3159</td>\n",
       "      <td>within an hour</td>\n",
       "      <td>100%</td>\n",
       "      <td>t</td>\n",
       "      <td>1.0</td>\n",
       "      <td>t</td>\n",
       "      <td>t</td>\n",
       "      <td>Amsterdam, North Holland, Netherlands</td>\n",
       "      <td>Oostelijk Havengebied - Indische Buurt</td>\n",
       "      <td>...</td>\n",
       "      <td>4.68</td>\n",
       "      <td>4.81</td>\n",
       "      <td>t</td>\n",
       "      <td>2.83</td>\n",
       "      <td>2021-11-09</td>\n",
       "      <td>f</td>\n",
       "      <td>$59.00</td>\n",
       "      <td>$59.00</td>\n",
       "      <td>3</td>\n",
       "      <td>1125</td>\n",
       "    </tr>\n",
       "    <tr>\n",
       "      <th>3</th>\n",
       "      <td>2818</td>\n",
       "      <td>3159</td>\n",
       "      <td>within an hour</td>\n",
       "      <td>100%</td>\n",
       "      <td>t</td>\n",
       "      <td>1.0</td>\n",
       "      <td>t</td>\n",
       "      <td>t</td>\n",
       "      <td>Amsterdam, North Holland, Netherlands</td>\n",
       "      <td>Oostelijk Havengebied - Indische Buurt</td>\n",
       "      <td>...</td>\n",
       "      <td>4.68</td>\n",
       "      <td>4.81</td>\n",
       "      <td>t</td>\n",
       "      <td>2.83</td>\n",
       "      <td>2021-11-10</td>\n",
       "      <td>f</td>\n",
       "      <td>$59.00</td>\n",
       "      <td>$59.00</td>\n",
       "      <td>3</td>\n",
       "      <td>1125</td>\n",
       "    </tr>\n",
       "    <tr>\n",
       "      <th>4</th>\n",
       "      <td>2818</td>\n",
       "      <td>3159</td>\n",
       "      <td>within an hour</td>\n",
       "      <td>100%</td>\n",
       "      <td>t</td>\n",
       "      <td>1.0</td>\n",
       "      <td>t</td>\n",
       "      <td>t</td>\n",
       "      <td>Amsterdam, North Holland, Netherlands</td>\n",
       "      <td>Oostelijk Havengebied - Indische Buurt</td>\n",
       "      <td>...</td>\n",
       "      <td>4.68</td>\n",
       "      <td>4.81</td>\n",
       "      <td>t</td>\n",
       "      <td>2.83</td>\n",
       "      <td>2021-11-11</td>\n",
       "      <td>f</td>\n",
       "      <td>$59.00</td>\n",
       "      <td>$59.00</td>\n",
       "      <td>3</td>\n",
       "      <td>1125</td>\n",
       "    </tr>\n",
       "  </tbody>\n",
       "</table>\n",
       "<p>5 rows × 45 columns</p>\n",
       "</div>"
      ],
      "text/plain": [
       "     id  host_id host_response_time host_response_rate host_is_superhost  \\\n",
       "0  2818     3159     within an hour               100%                 t   \n",
       "1  2818     3159     within an hour               100%                 t   \n",
       "2  2818     3159     within an hour               100%                 t   \n",
       "3  2818     3159     within an hour               100%                 t   \n",
       "4  2818     3159     within an hour               100%                 t   \n",
       "\n",
       "   host_listings_count host_has_profile_pic host_identity_verified  \\\n",
       "0                  1.0                    t                      t   \n",
       "1                  1.0                    t                      t   \n",
       "2                  1.0                    t                      t   \n",
       "3                  1.0                    t                      t   \n",
       "4                  1.0                    t                      t   \n",
       "\n",
       "                           neighbourhood  \\\n",
       "0  Amsterdam, North Holland, Netherlands   \n",
       "1  Amsterdam, North Holland, Netherlands   \n",
       "2  Amsterdam, North Holland, Netherlands   \n",
       "3  Amsterdam, North Holland, Netherlands   \n",
       "4  Amsterdam, North Holland, Netherlands   \n",
       "\n",
       "                   neighbourhood_cleansed  ...  review_scores_location  \\\n",
       "0  Oostelijk Havengebied - Indische Buurt  ...                    4.68   \n",
       "1  Oostelijk Havengebied - Indische Buurt  ...                    4.68   \n",
       "2  Oostelijk Havengebied - Indische Buurt  ...                    4.68   \n",
       "3  Oostelijk Havengebied - Indische Buurt  ...                    4.68   \n",
       "4  Oostelijk Havengebied - Indische Buurt  ...                    4.68   \n",
       "\n",
       "   review_scores_value instant_bookable reviews_per_month        date  \\\n",
       "0                 4.81                t              2.83  2021-11-04   \n",
       "1                 4.81                t              2.83  2021-11-08   \n",
       "2                 4.81                t              2.83  2021-11-09   \n",
       "3                 4.81                t              2.83  2021-11-10   \n",
       "4                 4.81                t              2.83  2021-11-11   \n",
       "\n",
       "  available  price_y  adjusted_price minimum_nights_y maximum_nights_y  \n",
       "0         f   $59.00          $59.00                3             1125  \n",
       "1         f   $59.00          $59.00                3             1125  \n",
       "2         f   $59.00          $59.00                3             1125  \n",
       "3         f   $59.00          $59.00                3             1125  \n",
       "4         f   $59.00          $59.00                3             1125  \n",
       "\n",
       "[5 rows x 45 columns]"
      ]
     },
     "execution_count": 28,
     "metadata": {},
     "output_type": "execute_result"
    }
   ],
   "source": [
    "merge_df.head(5)"
   ]
  },
  {
   "cell_type": "markdown",
   "metadata": {
    "id": "s4ldWITvioQ3"
   },
   "source": [
    "Checking Dupicate pair of listing ID and Price_y"
   ]
  },
  {
   "cell_type": "code",
   "execution_count": 29,
   "metadata": {
    "id": "ecyz7uy0KWD2"
   },
   "outputs": [],
   "source": [
    "temp=[]\n",
    "for index, row in merge_df.iterrows():\n",
    "    temp.append(str(row['id'])+row['price_y'])"
   ]
  },
  {
   "cell_type": "code",
   "execution_count": 30,
   "metadata": {
    "colab": {
     "base_uri": "https://localhost:8080/"
    },
    "id": "46HyT7HELIIt",
    "outputId": "665764d0-518c-4650-d005-2c845e129024"
   },
   "outputs": [
    {
     "name": "stdout",
     "output_type": "stream",
     "text": [
      "33851\n"
     ]
    }
   ],
   "source": [
    "x = np.array(temp) \n",
    "print(len(np.unique(x)))"
   ]
  },
  {
   "cell_type": "code",
   "execution_count": 31,
   "metadata": {
    "colab": {
     "base_uri": "https://localhost:8080/"
    },
    "id": "VjgpeykULO1p",
    "outputId": "e2e78f1e-988e-4e15-a21b-d225e135fb98"
   },
   "outputs": [
    {
     "name": "stdout",
     "output_type": "stream",
     "text": [
      "     id price_y        pair\n",
      "0  2818  $59.00  2818$59.00\n",
      "1  2818  $59.00  2818$59.00\n",
      "2  2818  $59.00  2818$59.00\n",
      "3  2818  $59.00  2818$59.00\n",
      "4  2818  $59.00  2818$59.00\n",
      "5  2818  $59.00  2818$59.00\n",
      "6  2818  $59.00  2818$59.00\n",
      "7  2818  $59.00  2818$59.00\n",
      "8  2818  $59.00  2818$59.00\n",
      "9  2818  $59.00  2818$59.00\n"
     ]
    }
   ],
   "source": [
    "merge_df['pair']=pd.Series(temp)\n",
    "#merge_df.assign(key=1)\n",
    "print(merge_df[['id', 'price_y', 'pair']].head(10))"
   ]
  },
  {
   "cell_type": "markdown",
   "metadata": {
    "id": "dfCDCKpgiuyC"
   },
   "source": [
    "Dropping Duplicate Values of pair column"
   ]
  },
  {
   "cell_type": "code",
   "execution_count": 32,
   "metadata": {
    "colab": {
     "base_uri": "https://localhost:8080/"
    },
    "id": "2ECgPI-CLZNx",
    "outputId": "96b4987f-97fe-4f08-88a7-928d03cd9fab"
   },
   "outputs": [
    {
     "name": "stderr",
     "output_type": "stream",
     "text": [
      "C:\\Users\\Asus\\anaconda3\\lib\\site-packages\\pandas\\core\\frame.py:4308: SettingWithCopyWarning: \n",
      "A value is trying to be set on a copy of a slice from a DataFrame\n",
      "\n",
      "See the caveats in the documentation: https://pandas.pydata.org/pandas-docs/stable/user_guide/indexing.html#returning-a-view-versus-a-copy\n",
      "  return super().drop(\n"
     ]
    },
    {
     "data": {
      "text/plain": [
       "(33851, 45)"
      ]
     },
     "execution_count": 32,
     "metadata": {},
     "output_type": "execute_result"
    }
   ],
   "source": [
    "join_df = merge_df.drop_duplicates(subset='pair', keep='first')\n",
    "join_df.drop('pair',axis=1,inplace=True)\n",
    "join_df.shape"
   ]
  },
  {
   "cell_type": "code",
   "execution_count": 33,
   "metadata": {
    "colab": {
     "base_uri": "https://localhost:8080/"
    },
    "id": "_BUiOCOWMyk2",
    "outputId": "dc141139-be4c-443f-9cdd-72a909bdc79c"
   },
   "outputs": [
    {
     "data": {
      "text/plain": [
       "(33851, 45)"
      ]
     },
     "execution_count": 33,
     "metadata": {},
     "output_type": "execute_result"
    }
   ],
   "source": [
    "join_df.shape"
   ]
  },
  {
   "cell_type": "markdown",
   "metadata": {
    "id": "4fHCDQe1iziU"
   },
   "source": [
    "Merging Sentiment Score of Reviews with Calendar and Listing"
   ]
  },
  {
   "cell_type": "code",
   "execution_count": 34,
   "metadata": {
    "colab": {
     "base_uri": "https://localhost:8080/"
    },
    "id": "IHJHzCy6M4DQ",
    "outputId": "033bb007-5475-43f8-9050-0f67b628c3b7"
   },
   "outputs": [
    {
     "data": {
      "text/plain": [
       "(29842, 47)"
      ]
     },
     "execution_count": 34,
     "metadata": {},
     "output_type": "execute_result"
    }
   ],
   "source": [
    "concise_review=pd.read_csv('D:/DCU/CA660_Stats/Assignment1/Amsterdam_Netherlands/Intermediate/sent_review.csv')\n",
    "concise_review = concise_review.rename(columns = {'listing_id' : 'id'})\n",
    "clean_df = pd.merge(join_df, concise_review, on = 'id')\n",
    "clean_df.shape"
   ]
  },
  {
   "cell_type": "code",
   "execution_count": 35,
   "metadata": {
    "colab": {
     "base_uri": "https://localhost:8080/",
     "height": 486
    },
    "id": "Bl-DrwUcX9i1",
    "outputId": "e2510a85-0412-47f4-d85b-1419e7ff2a30"
   },
   "outputs": [
    {
     "data": {
      "text/html": [
       "<div>\n",
       "<style scoped>\n",
       "    .dataframe tbody tr th:only-of-type {\n",
       "        vertical-align: middle;\n",
       "    }\n",
       "\n",
       "    .dataframe tbody tr th {\n",
       "        vertical-align: top;\n",
       "    }\n",
       "\n",
       "    .dataframe thead th {\n",
       "        text-align: right;\n",
       "    }\n",
       "</style>\n",
       "<table border=\"1\" class=\"dataframe\">\n",
       "  <thead>\n",
       "    <tr style=\"text-align: right;\">\n",
       "      <th></th>\n",
       "      <th>id</th>\n",
       "      <th>host_id</th>\n",
       "      <th>host_response_time</th>\n",
       "      <th>host_response_rate</th>\n",
       "      <th>host_is_superhost</th>\n",
       "      <th>host_listings_count</th>\n",
       "      <th>host_has_profile_pic</th>\n",
       "      <th>host_identity_verified</th>\n",
       "      <th>neighbourhood</th>\n",
       "      <th>neighbourhood_cleansed</th>\n",
       "      <th>...</th>\n",
       "      <th>instant_bookable</th>\n",
       "      <th>reviews_per_month</th>\n",
       "      <th>date</th>\n",
       "      <th>available</th>\n",
       "      <th>price_y</th>\n",
       "      <th>adjusted_price</th>\n",
       "      <th>minimum_nights_y</th>\n",
       "      <th>maximum_nights_y</th>\n",
       "      <th>Mean_Sent_Pol</th>\n",
       "      <th>Total_Review_By_Listing</th>\n",
       "    </tr>\n",
       "  </thead>\n",
       "  <tbody>\n",
       "    <tr>\n",
       "      <th>0</th>\n",
       "      <td>2818</td>\n",
       "      <td>3159</td>\n",
       "      <td>within an hour</td>\n",
       "      <td>100%</td>\n",
       "      <td>t</td>\n",
       "      <td>1.0</td>\n",
       "      <td>t</td>\n",
       "      <td>t</td>\n",
       "      <td>Amsterdam, North Holland, Netherlands</td>\n",
       "      <td>Oostelijk Havengebied - Indische Buurt</td>\n",
       "      <td>...</td>\n",
       "      <td>t</td>\n",
       "      <td>2.83</td>\n",
       "      <td>2021-11-04</td>\n",
       "      <td>f</td>\n",
       "      <td>$59.00</td>\n",
       "      <td>$59.00</td>\n",
       "      <td>3</td>\n",
       "      <td>1125</td>\n",
       "      <td>0.383577</td>\n",
       "      <td>239</td>\n",
       "    </tr>\n",
       "    <tr>\n",
       "      <th>1</th>\n",
       "      <td>2818</td>\n",
       "      <td>3159</td>\n",
       "      <td>within an hour</td>\n",
       "      <td>100%</td>\n",
       "      <td>t</td>\n",
       "      <td>1.0</td>\n",
       "      <td>t</td>\n",
       "      <td>t</td>\n",
       "      <td>Amsterdam, North Holland, Netherlands</td>\n",
       "      <td>Oostelijk Havengebied - Indische Buurt</td>\n",
       "      <td>...</td>\n",
       "      <td>t</td>\n",
       "      <td>2.83</td>\n",
       "      <td>2021-12-02</td>\n",
       "      <td>f</td>\n",
       "      <td>$69.00</td>\n",
       "      <td>$69.00</td>\n",
       "      <td>3</td>\n",
       "      <td>1125</td>\n",
       "      <td>0.383577</td>\n",
       "      <td>239</td>\n",
       "    </tr>\n",
       "    <tr>\n",
       "      <th>2</th>\n",
       "      <td>2818</td>\n",
       "      <td>3159</td>\n",
       "      <td>within an hour</td>\n",
       "      <td>100%</td>\n",
       "      <td>t</td>\n",
       "      <td>1.0</td>\n",
       "      <td>t</td>\n",
       "      <td>t</td>\n",
       "      <td>Amsterdam, North Holland, Netherlands</td>\n",
       "      <td>Oostelijk Havengebied - Indische Buurt</td>\n",
       "      <td>...</td>\n",
       "      <td>t</td>\n",
       "      <td>2.83</td>\n",
       "      <td>2021-12-28</td>\n",
       "      <td>f</td>\n",
       "      <td>$61.00</td>\n",
       "      <td>$61.00</td>\n",
       "      <td>3</td>\n",
       "      <td>1125</td>\n",
       "      <td>0.383577</td>\n",
       "      <td>239</td>\n",
       "    </tr>\n",
       "    <tr>\n",
       "      <th>3</th>\n",
       "      <td>2818</td>\n",
       "      <td>3159</td>\n",
       "      <td>within an hour</td>\n",
       "      <td>100%</td>\n",
       "      <td>t</td>\n",
       "      <td>1.0</td>\n",
       "      <td>t</td>\n",
       "      <td>t</td>\n",
       "      <td>Amsterdam, North Holland, Netherlands</td>\n",
       "      <td>Oostelijk Havengebied - Indische Buurt</td>\n",
       "      <td>...</td>\n",
       "      <td>t</td>\n",
       "      <td>2.83</td>\n",
       "      <td>2021-12-30</td>\n",
       "      <td>f</td>\n",
       "      <td>$65.00</td>\n",
       "      <td>$65.00</td>\n",
       "      <td>3</td>\n",
       "      <td>1125</td>\n",
       "      <td>0.383577</td>\n",
       "      <td>239</td>\n",
       "    </tr>\n",
       "    <tr>\n",
       "      <th>4</th>\n",
       "      <td>2818</td>\n",
       "      <td>3159</td>\n",
       "      <td>within an hour</td>\n",
       "      <td>100%</td>\n",
       "      <td>t</td>\n",
       "      <td>1.0</td>\n",
       "      <td>t</td>\n",
       "      <td>t</td>\n",
       "      <td>Amsterdam, North Holland, Netherlands</td>\n",
       "      <td>Oostelijk Havengebied - Indische Buurt</td>\n",
       "      <td>...</td>\n",
       "      <td>t</td>\n",
       "      <td>2.83</td>\n",
       "      <td>2021-12-31</td>\n",
       "      <td>f</td>\n",
       "      <td>$63.00</td>\n",
       "      <td>$63.00</td>\n",
       "      <td>3</td>\n",
       "      <td>1125</td>\n",
       "      <td>0.383577</td>\n",
       "      <td>239</td>\n",
       "    </tr>\n",
       "  </tbody>\n",
       "</table>\n",
       "<p>5 rows × 47 columns</p>\n",
       "</div>"
      ],
      "text/plain": [
       "     id  host_id host_response_time host_response_rate host_is_superhost  \\\n",
       "0  2818     3159     within an hour               100%                 t   \n",
       "1  2818     3159     within an hour               100%                 t   \n",
       "2  2818     3159     within an hour               100%                 t   \n",
       "3  2818     3159     within an hour               100%                 t   \n",
       "4  2818     3159     within an hour               100%                 t   \n",
       "\n",
       "   host_listings_count host_has_profile_pic host_identity_verified  \\\n",
       "0                  1.0                    t                      t   \n",
       "1                  1.0                    t                      t   \n",
       "2                  1.0                    t                      t   \n",
       "3                  1.0                    t                      t   \n",
       "4                  1.0                    t                      t   \n",
       "\n",
       "                           neighbourhood  \\\n",
       "0  Amsterdam, North Holland, Netherlands   \n",
       "1  Amsterdam, North Holland, Netherlands   \n",
       "2  Amsterdam, North Holland, Netherlands   \n",
       "3  Amsterdam, North Holland, Netherlands   \n",
       "4  Amsterdam, North Holland, Netherlands   \n",
       "\n",
       "                   neighbourhood_cleansed  ...  instant_bookable  \\\n",
       "0  Oostelijk Havengebied - Indische Buurt  ...                 t   \n",
       "1  Oostelijk Havengebied - Indische Buurt  ...                 t   \n",
       "2  Oostelijk Havengebied - Indische Buurt  ...                 t   \n",
       "3  Oostelijk Havengebied - Indische Buurt  ...                 t   \n",
       "4  Oostelijk Havengebied - Indische Buurt  ...                 t   \n",
       "\n",
       "   reviews_per_month        date available  price_y adjusted_price  \\\n",
       "0               2.83  2021-11-04         f   $59.00         $59.00   \n",
       "1               2.83  2021-12-02         f   $69.00         $69.00   \n",
       "2               2.83  2021-12-28         f   $61.00         $61.00   \n",
       "3               2.83  2021-12-30         f   $65.00         $65.00   \n",
       "4               2.83  2021-12-31         f   $63.00         $63.00   \n",
       "\n",
       "   minimum_nights_y  maximum_nights_y Mean_Sent_Pol Total_Review_By_Listing  \n",
       "0                 3              1125      0.383577                     239  \n",
       "1                 3              1125      0.383577                     239  \n",
       "2                 3              1125      0.383577                     239  \n",
       "3                 3              1125      0.383577                     239  \n",
       "4                 3              1125      0.383577                     239  \n",
       "\n",
       "[5 rows x 47 columns]"
      ]
     },
     "execution_count": 35,
     "metadata": {},
     "output_type": "execute_result"
    }
   ],
   "source": [
    "clean_df.head()"
   ]
  },
  {
   "cell_type": "code",
   "execution_count": 36,
   "metadata": {
    "colab": {
     "base_uri": "https://localhost:8080/"
    },
    "id": "kxgOGmBhYJyh",
    "outputId": "38108fa4-83d9-4238-981b-49ba27cced4a"
   },
   "outputs": [
    {
     "data": {
      "text/plain": [
       "Index(['id', 'host_id', 'host_response_time', 'host_response_rate',\n",
       "       'host_is_superhost', 'host_listings_count', 'host_has_profile_pic',\n",
       "       'host_identity_verified', 'neighbourhood', 'neighbourhood_cleansed',\n",
       "       'latitude', 'longitude', 'property_type', 'room_type', 'accommodates',\n",
       "       'bathrooms_text', 'bedrooms', 'beds', 'amenities', 'price_x',\n",
       "       'minimum_nights_x', 'maximum_nights_x', 'has_availability',\n",
       "       'availability_30', 'availability_60', 'availability_90',\n",
       "       'availability_365', 'number_of_reviews', 'number_of_reviews_ltm',\n",
       "       'number_of_reviews_l30d', 'review_scores_rating',\n",
       "       'review_scores_accuracy', 'review_scores_cleanliness',\n",
       "       'review_scores_checkin', 'review_scores_communication',\n",
       "       'review_scores_location', 'review_scores_value', 'instant_bookable',\n",
       "       'reviews_per_month', 'date', 'available', 'price_y', 'adjusted_price',\n",
       "       'minimum_nights_y', 'maximum_nights_y', 'Mean_Sent_Pol',\n",
       "       'Total_Review_By_Listing'],\n",
       "      dtype='object')"
      ]
     },
     "execution_count": 36,
     "metadata": {},
     "output_type": "execute_result"
    }
   ],
   "source": [
    "clean_df.columns"
   ]
  },
  {
   "cell_type": "markdown",
   "metadata": {
    "id": "P5KLXtTmHQxR"
   },
   "source": [
    "Handling NULL vales in clean_df(Calendar+Listing+Sentiment_Reviews)"
   ]
  },
  {
   "cell_type": "code",
   "execution_count": 37,
   "metadata": {
    "id": "ur2_kXh8jD5S"
   },
   "outputs": [],
   "source": [
    "# Handling Null Values in different columns\n",
    "clean_df.host_has_profile_pic = clean_df.host_has_profile_pic.fillna('f')\n",
    "clean_df.host_is_superhost = clean_df.host_is_superhost.fillna('Null')\n",
    "clean_df.host_identity_verified = clean_df.host_identity_verified.fillna('Null')\n",
    "clean_df.neighbourhood = clean_df.neighbourhood.fillna('Null')\n",
    "clean_df.reviews_per_month = clean_df.reviews_per_month.fillna('0')\n",
    "clean_df.property_type=clean_df.property_type.fillna('Null')"
   ]
  },
  {
   "cell_type": "markdown",
   "metadata": {
    "id": "-aYPQPWZHayr"
   },
   "source": [
    "Replacing Special Characters in Columns of clean_df"
   ]
  },
  {
   "cell_type": "code",
   "execution_count": 38,
   "metadata": {
    "id": "2oN0TzTcXjs9"
   },
   "outputs": [],
   "source": [
    "clean_df = clean_df.rename(columns = {'listing_id' : 'id'})\n",
    "clean_df['host_response_rate'] = clean_df['host_response_rate'].apply(lambda x : float(str(x).replace('%', '')) / 100)\n",
    "clean_df['price_x'] = clean_df['price_x'].apply(lambda x : float(str(x).replace('$', '').replace(',', '')))\n",
    "clean_df['price_y'] = clean_df['price_y'].apply(lambda x : float(x.replace('$', '').replace(',', '')))\n",
    "clean_df['adjusted_price'] = clean_df['adjusted_price'].apply(lambda x : float(x.replace('$', '').replace(',', '')))"
   ]
  },
  {
   "cell_type": "code",
   "execution_count": 39,
   "metadata": {
    "colab": {
     "base_uri": "https://localhost:8080/",
     "height": 486
    },
    "id": "Qa7kC_buYxAN",
    "outputId": "76d13836-09c2-4264-d2c8-08733c1ca683"
   },
   "outputs": [
    {
     "data": {
      "text/html": [
       "<div>\n",
       "<style scoped>\n",
       "    .dataframe tbody tr th:only-of-type {\n",
       "        vertical-align: middle;\n",
       "    }\n",
       "\n",
       "    .dataframe tbody tr th {\n",
       "        vertical-align: top;\n",
       "    }\n",
       "\n",
       "    .dataframe thead th {\n",
       "        text-align: right;\n",
       "    }\n",
       "</style>\n",
       "<table border=\"1\" class=\"dataframe\">\n",
       "  <thead>\n",
       "    <tr style=\"text-align: right;\">\n",
       "      <th></th>\n",
       "      <th>id</th>\n",
       "      <th>host_id</th>\n",
       "      <th>host_response_time</th>\n",
       "      <th>host_response_rate</th>\n",
       "      <th>host_is_superhost</th>\n",
       "      <th>host_listings_count</th>\n",
       "      <th>host_has_profile_pic</th>\n",
       "      <th>host_identity_verified</th>\n",
       "      <th>neighbourhood</th>\n",
       "      <th>neighbourhood_cleansed</th>\n",
       "      <th>...</th>\n",
       "      <th>instant_bookable</th>\n",
       "      <th>reviews_per_month</th>\n",
       "      <th>date</th>\n",
       "      <th>available</th>\n",
       "      <th>price_y</th>\n",
       "      <th>adjusted_price</th>\n",
       "      <th>minimum_nights_y</th>\n",
       "      <th>maximum_nights_y</th>\n",
       "      <th>Mean_Sent_Pol</th>\n",
       "      <th>Total_Review_By_Listing</th>\n",
       "    </tr>\n",
       "  </thead>\n",
       "  <tbody>\n",
       "    <tr>\n",
       "      <th>0</th>\n",
       "      <td>2818</td>\n",
       "      <td>3159</td>\n",
       "      <td>within an hour</td>\n",
       "      <td>1.0</td>\n",
       "      <td>t</td>\n",
       "      <td>1.0</td>\n",
       "      <td>t</td>\n",
       "      <td>t</td>\n",
       "      <td>Amsterdam, North Holland, Netherlands</td>\n",
       "      <td>Oostelijk Havengebied - Indische Buurt</td>\n",
       "      <td>...</td>\n",
       "      <td>t</td>\n",
       "      <td>2.83</td>\n",
       "      <td>2021-11-04</td>\n",
       "      <td>f</td>\n",
       "      <td>59.0</td>\n",
       "      <td>59.0</td>\n",
       "      <td>3</td>\n",
       "      <td>1125</td>\n",
       "      <td>0.383577</td>\n",
       "      <td>239</td>\n",
       "    </tr>\n",
       "    <tr>\n",
       "      <th>1</th>\n",
       "      <td>2818</td>\n",
       "      <td>3159</td>\n",
       "      <td>within an hour</td>\n",
       "      <td>1.0</td>\n",
       "      <td>t</td>\n",
       "      <td>1.0</td>\n",
       "      <td>t</td>\n",
       "      <td>t</td>\n",
       "      <td>Amsterdam, North Holland, Netherlands</td>\n",
       "      <td>Oostelijk Havengebied - Indische Buurt</td>\n",
       "      <td>...</td>\n",
       "      <td>t</td>\n",
       "      <td>2.83</td>\n",
       "      <td>2021-12-02</td>\n",
       "      <td>f</td>\n",
       "      <td>69.0</td>\n",
       "      <td>69.0</td>\n",
       "      <td>3</td>\n",
       "      <td>1125</td>\n",
       "      <td>0.383577</td>\n",
       "      <td>239</td>\n",
       "    </tr>\n",
       "    <tr>\n",
       "      <th>2</th>\n",
       "      <td>2818</td>\n",
       "      <td>3159</td>\n",
       "      <td>within an hour</td>\n",
       "      <td>1.0</td>\n",
       "      <td>t</td>\n",
       "      <td>1.0</td>\n",
       "      <td>t</td>\n",
       "      <td>t</td>\n",
       "      <td>Amsterdam, North Holland, Netherlands</td>\n",
       "      <td>Oostelijk Havengebied - Indische Buurt</td>\n",
       "      <td>...</td>\n",
       "      <td>t</td>\n",
       "      <td>2.83</td>\n",
       "      <td>2021-12-28</td>\n",
       "      <td>f</td>\n",
       "      <td>61.0</td>\n",
       "      <td>61.0</td>\n",
       "      <td>3</td>\n",
       "      <td>1125</td>\n",
       "      <td>0.383577</td>\n",
       "      <td>239</td>\n",
       "    </tr>\n",
       "    <tr>\n",
       "      <th>3</th>\n",
       "      <td>2818</td>\n",
       "      <td>3159</td>\n",
       "      <td>within an hour</td>\n",
       "      <td>1.0</td>\n",
       "      <td>t</td>\n",
       "      <td>1.0</td>\n",
       "      <td>t</td>\n",
       "      <td>t</td>\n",
       "      <td>Amsterdam, North Holland, Netherlands</td>\n",
       "      <td>Oostelijk Havengebied - Indische Buurt</td>\n",
       "      <td>...</td>\n",
       "      <td>t</td>\n",
       "      <td>2.83</td>\n",
       "      <td>2021-12-30</td>\n",
       "      <td>f</td>\n",
       "      <td>65.0</td>\n",
       "      <td>65.0</td>\n",
       "      <td>3</td>\n",
       "      <td>1125</td>\n",
       "      <td>0.383577</td>\n",
       "      <td>239</td>\n",
       "    </tr>\n",
       "    <tr>\n",
       "      <th>4</th>\n",
       "      <td>2818</td>\n",
       "      <td>3159</td>\n",
       "      <td>within an hour</td>\n",
       "      <td>1.0</td>\n",
       "      <td>t</td>\n",
       "      <td>1.0</td>\n",
       "      <td>t</td>\n",
       "      <td>t</td>\n",
       "      <td>Amsterdam, North Holland, Netherlands</td>\n",
       "      <td>Oostelijk Havengebied - Indische Buurt</td>\n",
       "      <td>...</td>\n",
       "      <td>t</td>\n",
       "      <td>2.83</td>\n",
       "      <td>2021-12-31</td>\n",
       "      <td>f</td>\n",
       "      <td>63.0</td>\n",
       "      <td>63.0</td>\n",
       "      <td>3</td>\n",
       "      <td>1125</td>\n",
       "      <td>0.383577</td>\n",
       "      <td>239</td>\n",
       "    </tr>\n",
       "  </tbody>\n",
       "</table>\n",
       "<p>5 rows × 47 columns</p>\n",
       "</div>"
      ],
      "text/plain": [
       "     id  host_id host_response_time  host_response_rate host_is_superhost  \\\n",
       "0  2818     3159     within an hour                 1.0                 t   \n",
       "1  2818     3159     within an hour                 1.0                 t   \n",
       "2  2818     3159     within an hour                 1.0                 t   \n",
       "3  2818     3159     within an hour                 1.0                 t   \n",
       "4  2818     3159     within an hour                 1.0                 t   \n",
       "\n",
       "   host_listings_count host_has_profile_pic host_identity_verified  \\\n",
       "0                  1.0                    t                      t   \n",
       "1                  1.0                    t                      t   \n",
       "2                  1.0                    t                      t   \n",
       "3                  1.0                    t                      t   \n",
       "4                  1.0                    t                      t   \n",
       "\n",
       "                           neighbourhood  \\\n",
       "0  Amsterdam, North Holland, Netherlands   \n",
       "1  Amsterdam, North Holland, Netherlands   \n",
       "2  Amsterdam, North Holland, Netherlands   \n",
       "3  Amsterdam, North Holland, Netherlands   \n",
       "4  Amsterdam, North Holland, Netherlands   \n",
       "\n",
       "                   neighbourhood_cleansed  ...  instant_bookable  \\\n",
       "0  Oostelijk Havengebied - Indische Buurt  ...                 t   \n",
       "1  Oostelijk Havengebied - Indische Buurt  ...                 t   \n",
       "2  Oostelijk Havengebied - Indische Buurt  ...                 t   \n",
       "3  Oostelijk Havengebied - Indische Buurt  ...                 t   \n",
       "4  Oostelijk Havengebied - Indische Buurt  ...                 t   \n",
       "\n",
       "   reviews_per_month        date available  price_y adjusted_price  \\\n",
       "0               2.83  2021-11-04         f     59.0           59.0   \n",
       "1               2.83  2021-12-02         f     69.0           69.0   \n",
       "2               2.83  2021-12-28         f     61.0           61.0   \n",
       "3               2.83  2021-12-30         f     65.0           65.0   \n",
       "4               2.83  2021-12-31         f     63.0           63.0   \n",
       "\n",
       "   minimum_nights_y  maximum_nights_y Mean_Sent_Pol  Total_Review_By_Listing  \n",
       "0                 3              1125      0.383577                      239  \n",
       "1                 3              1125      0.383577                      239  \n",
       "2                 3              1125      0.383577                      239  \n",
       "3                 3              1125      0.383577                      239  \n",
       "4                 3              1125      0.383577                      239  \n",
       "\n",
       "[5 rows x 47 columns]"
      ]
     },
     "execution_count": 39,
     "metadata": {},
     "output_type": "execute_result"
    }
   ],
   "source": [
    "clean_df.head()"
   ]
  },
  {
   "cell_type": "code",
   "execution_count": 40,
   "metadata": {
    "id": "_ycXlxxfZDsl"
   },
   "outputs": [],
   "source": [
    "export_csv = clean_df.to_csv ('D:/DCU/CA660_Stats/Assignment1/Amsterdam_Netherlands/Intermediate/Merged_Clean.csv', index = None, header=True)"
   ]
  },
  {
   "cell_type": "markdown",
   "metadata": {
    "id": "QOzfuSb5Hijv"
   },
   "source": [
    "Encoding Categorical Variables using LabelEncoder"
   ]
  },
  {
   "cell_type": "code",
   "execution_count": 41,
   "metadata": {
    "id": "GF-oFnekcG1e"
   },
   "outputs": [],
   "source": [
    "from sklearn.preprocessing import LabelEncoder\n",
    "clean_df['host_is_superhost'] = LabelEncoder().fit_transform(clean_df.host_is_superhost)\n",
    "clean_df['host_response_time'] = LabelEncoder().fit_transform(clean_df.host_response_time)\n",
    "clean_df['host_has_profile_pic'] = LabelEncoder().fit_transform(clean_df.host_has_profile_pic)\n",
    "clean_df['host_identity_verified'] = LabelEncoder().fit_transform(clean_df.host_identity_verified)\n",
    "clean_df['neighbourhood'] = LabelEncoder().fit_transform(clean_df.neighbourhood)\n",
    "clean_df['neighbourhood_cleansed'] = LabelEncoder().fit_transform(clean_df.neighbourhood_cleansed)\n",
    "clean_df['property_type'] = LabelEncoder().fit_transform(clean_df.property_type)\n",
    "clean_df['room_type'] = LabelEncoder().fit_transform(clean_df.room_type)\n",
    "clean_df['beds'] = LabelEncoder().fit_transform(clean_df.beds)\n",
    "clean_df['has_availability'] = LabelEncoder().fit_transform(clean_df.has_availability)\n",
    "clean_df['instant_bookable'] = LabelEncoder().fit_transform(clean_df.instant_bookable)"
   ]
  },
  {
   "cell_type": "markdown",
   "metadata": {
    "id": "SH3TRSTZHpNL"
   },
   "source": [
    "Taking only Numeric Columns"
   ]
  },
  {
   "cell_type": "code",
   "execution_count": 42,
   "metadata": {
    "id": "JqG-RXrscONk"
   },
   "outputs": [],
   "source": [
    "s_columns = [col for col in clean_df.columns if clean_df[col].dtype == 'float64' or clean_df[col].dtype == 'int64']\n",
    "clean_numeric = clean_df[s_columns]"
   ]
  },
  {
   "cell_type": "code",
   "execution_count": 43,
   "metadata": {
    "colab": {
     "base_uri": "https://localhost:8080/"
    },
    "id": "mi7zSIfojOvL",
    "outputId": "54d958f4-c356-40be-83c8-5db75ede8406"
   },
   "outputs": [
    {
     "data": {
      "text/plain": [
       "(29842, 33)"
      ]
     },
     "execution_count": 43,
     "metadata": {},
     "output_type": "execute_result"
    }
   ],
   "source": [
    "clean_numeric.shape"
   ]
  },
  {
   "cell_type": "code",
   "execution_count": 44,
   "metadata": {
    "colab": {
     "base_uri": "https://localhost:8080/",
     "height": 226
    },
    "id": "P8eesoSHjRCQ",
    "outputId": "afede448-b95c-4150-f9f0-ec611ea18e3b"
   },
   "outputs": [
    {
     "data": {
      "text/html": [
       "<div>\n",
       "<style scoped>\n",
       "    .dataframe tbody tr th:only-of-type {\n",
       "        vertical-align: middle;\n",
       "    }\n",
       "\n",
       "    .dataframe tbody tr th {\n",
       "        vertical-align: top;\n",
       "    }\n",
       "\n",
       "    .dataframe thead th {\n",
       "        text-align: right;\n",
       "    }\n",
       "</style>\n",
       "<table border=\"1\" class=\"dataframe\">\n",
       "  <thead>\n",
       "    <tr style=\"text-align: right;\">\n",
       "      <th></th>\n",
       "      <th>id</th>\n",
       "      <th>host_id</th>\n",
       "      <th>host_response_rate</th>\n",
       "      <th>host_listings_count</th>\n",
       "      <th>latitude</th>\n",
       "      <th>longitude</th>\n",
       "      <th>accommodates</th>\n",
       "      <th>bedrooms</th>\n",
       "      <th>beds</th>\n",
       "      <th>price_x</th>\n",
       "      <th>...</th>\n",
       "      <th>review_scores_communication</th>\n",
       "      <th>review_scores_location</th>\n",
       "      <th>review_scores_value</th>\n",
       "      <th>reviews_per_month</th>\n",
       "      <th>price_y</th>\n",
       "      <th>adjusted_price</th>\n",
       "      <th>minimum_nights_y</th>\n",
       "      <th>maximum_nights_y</th>\n",
       "      <th>Mean_Sent_Pol</th>\n",
       "      <th>Total_Review_By_Listing</th>\n",
       "    </tr>\n",
       "  </thead>\n",
       "  <tbody>\n",
       "    <tr>\n",
       "      <th>0</th>\n",
       "      <td>2818</td>\n",
       "      <td>3159</td>\n",
       "      <td>1.0</td>\n",
       "      <td>1.0</td>\n",
       "      <td>52.36435</td>\n",
       "      <td>4.94358</td>\n",
       "      <td>2</td>\n",
       "      <td>1.0</td>\n",
       "      <td>1</td>\n",
       "      <td>59.0</td>\n",
       "      <td>...</td>\n",
       "      <td>4.98</td>\n",
       "      <td>4.68</td>\n",
       "      <td>4.81</td>\n",
       "      <td>2.83</td>\n",
       "      <td>59.0</td>\n",
       "      <td>59.0</td>\n",
       "      <td>3</td>\n",
       "      <td>1125</td>\n",
       "      <td>0.383577</td>\n",
       "      <td>239</td>\n",
       "    </tr>\n",
       "    <tr>\n",
       "      <th>1</th>\n",
       "      <td>2818</td>\n",
       "      <td>3159</td>\n",
       "      <td>1.0</td>\n",
       "      <td>1.0</td>\n",
       "      <td>52.36435</td>\n",
       "      <td>4.94358</td>\n",
       "      <td>2</td>\n",
       "      <td>1.0</td>\n",
       "      <td>1</td>\n",
       "      <td>59.0</td>\n",
       "      <td>...</td>\n",
       "      <td>4.98</td>\n",
       "      <td>4.68</td>\n",
       "      <td>4.81</td>\n",
       "      <td>2.83</td>\n",
       "      <td>69.0</td>\n",
       "      <td>69.0</td>\n",
       "      <td>3</td>\n",
       "      <td>1125</td>\n",
       "      <td>0.383577</td>\n",
       "      <td>239</td>\n",
       "    </tr>\n",
       "    <tr>\n",
       "      <th>2</th>\n",
       "      <td>2818</td>\n",
       "      <td>3159</td>\n",
       "      <td>1.0</td>\n",
       "      <td>1.0</td>\n",
       "      <td>52.36435</td>\n",
       "      <td>4.94358</td>\n",
       "      <td>2</td>\n",
       "      <td>1.0</td>\n",
       "      <td>1</td>\n",
       "      <td>59.0</td>\n",
       "      <td>...</td>\n",
       "      <td>4.98</td>\n",
       "      <td>4.68</td>\n",
       "      <td>4.81</td>\n",
       "      <td>2.83</td>\n",
       "      <td>61.0</td>\n",
       "      <td>61.0</td>\n",
       "      <td>3</td>\n",
       "      <td>1125</td>\n",
       "      <td>0.383577</td>\n",
       "      <td>239</td>\n",
       "    </tr>\n",
       "    <tr>\n",
       "      <th>3</th>\n",
       "      <td>2818</td>\n",
       "      <td>3159</td>\n",
       "      <td>1.0</td>\n",
       "      <td>1.0</td>\n",
       "      <td>52.36435</td>\n",
       "      <td>4.94358</td>\n",
       "      <td>2</td>\n",
       "      <td>1.0</td>\n",
       "      <td>1</td>\n",
       "      <td>59.0</td>\n",
       "      <td>...</td>\n",
       "      <td>4.98</td>\n",
       "      <td>4.68</td>\n",
       "      <td>4.81</td>\n",
       "      <td>2.83</td>\n",
       "      <td>65.0</td>\n",
       "      <td>65.0</td>\n",
       "      <td>3</td>\n",
       "      <td>1125</td>\n",
       "      <td>0.383577</td>\n",
       "      <td>239</td>\n",
       "    </tr>\n",
       "    <tr>\n",
       "      <th>4</th>\n",
       "      <td>2818</td>\n",
       "      <td>3159</td>\n",
       "      <td>1.0</td>\n",
       "      <td>1.0</td>\n",
       "      <td>52.36435</td>\n",
       "      <td>4.94358</td>\n",
       "      <td>2</td>\n",
       "      <td>1.0</td>\n",
       "      <td>1</td>\n",
       "      <td>59.0</td>\n",
       "      <td>...</td>\n",
       "      <td>4.98</td>\n",
       "      <td>4.68</td>\n",
       "      <td>4.81</td>\n",
       "      <td>2.83</td>\n",
       "      <td>63.0</td>\n",
       "      <td>63.0</td>\n",
       "      <td>3</td>\n",
       "      <td>1125</td>\n",
       "      <td>0.383577</td>\n",
       "      <td>239</td>\n",
       "    </tr>\n",
       "  </tbody>\n",
       "</table>\n",
       "<p>5 rows × 33 columns</p>\n",
       "</div>"
      ],
      "text/plain": [
       "     id  host_id  host_response_rate  host_listings_count  latitude  \\\n",
       "0  2818     3159                 1.0                  1.0  52.36435   \n",
       "1  2818     3159                 1.0                  1.0  52.36435   \n",
       "2  2818     3159                 1.0                  1.0  52.36435   \n",
       "3  2818     3159                 1.0                  1.0  52.36435   \n",
       "4  2818     3159                 1.0                  1.0  52.36435   \n",
       "\n",
       "   longitude  accommodates  bedrooms  beds  price_x  ...  \\\n",
       "0    4.94358             2       1.0     1     59.0  ...   \n",
       "1    4.94358             2       1.0     1     59.0  ...   \n",
       "2    4.94358             2       1.0     1     59.0  ...   \n",
       "3    4.94358             2       1.0     1     59.0  ...   \n",
       "4    4.94358             2       1.0     1     59.0  ...   \n",
       "\n",
       "   review_scores_communication  review_scores_location  review_scores_value  \\\n",
       "0                         4.98                    4.68                 4.81   \n",
       "1                         4.98                    4.68                 4.81   \n",
       "2                         4.98                    4.68                 4.81   \n",
       "3                         4.98                    4.68                 4.81   \n",
       "4                         4.98                    4.68                 4.81   \n",
       "\n",
       "   reviews_per_month  price_y  adjusted_price  minimum_nights_y  \\\n",
       "0               2.83     59.0            59.0                 3   \n",
       "1               2.83     69.0            69.0                 3   \n",
       "2               2.83     61.0            61.0                 3   \n",
       "3               2.83     65.0            65.0                 3   \n",
       "4               2.83     63.0            63.0                 3   \n",
       "\n",
       "   maximum_nights_y  Mean_Sent_Pol  Total_Review_By_Listing  \n",
       "0              1125       0.383577                      239  \n",
       "1              1125       0.383577                      239  \n",
       "2              1125       0.383577                      239  \n",
       "3              1125       0.383577                      239  \n",
       "4              1125       0.383577                      239  \n",
       "\n",
       "[5 rows x 33 columns]"
      ]
     },
     "execution_count": 44,
     "metadata": {},
     "output_type": "execute_result"
    }
   ],
   "source": [
    "clean_numeric.head()"
   ]
  },
  {
   "cell_type": "markdown",
   "metadata": {
    "id": "KnnmkOG7IW5w"
   },
   "source": [
    "Checking if the columns in clean_numeric have NULL values"
   ]
  },
  {
   "cell_type": "code",
   "execution_count": 45,
   "metadata": {
    "colab": {
     "base_uri": "https://localhost:8080/"
    },
    "id": "Coqm_wnydFCw",
    "outputId": "c7dbcc87-830e-4cf6-ca74-486b553110ce"
   },
   "outputs": [
    {
     "data": {
      "text/plain": [
       "Index(['host_response_rate', 'host_listings_count', 'bedrooms',\n",
       "       'review_scores_accuracy', 'review_scores_cleanliness',\n",
       "       'review_scores_checkin', 'review_scores_communication',\n",
       "       'review_scores_location', 'review_scores_value'],\n",
       "      dtype='object')"
      ]
     },
     "execution_count": 45,
     "metadata": {},
     "output_type": "execute_result"
    }
   ],
   "source": [
    "clean_numeric.columns[clean_numeric.isnull().any()]"
   ]
  },
  {
   "cell_type": "code",
   "execution_count": 46,
   "metadata": {},
   "outputs": [
    {
     "data": {
      "text/plain": [
       "id                                0\n",
       "host_id                           0\n",
       "host_response_rate             6324\n",
       "host_listings_count              15\n",
       "latitude                          0\n",
       "longitude                         0\n",
       "accommodates                      0\n",
       "bedrooms                       1869\n",
       "beds                              0\n",
       "price_x                           0\n",
       "minimum_nights_x                  0\n",
       "maximum_nights_x                  0\n",
       "availability_30                   0\n",
       "availability_60                   0\n",
       "availability_90                   0\n",
       "availability_365                  0\n",
       "number_of_reviews                 0\n",
       "number_of_reviews_ltm             0\n",
       "number_of_reviews_l30d            0\n",
       "review_scores_rating              0\n",
       "review_scores_accuracy           18\n",
       "review_scores_cleanliness        18\n",
       "review_scores_checkin            18\n",
       "review_scores_communication      18\n",
       "review_scores_location           18\n",
       "review_scores_value              18\n",
       "reviews_per_month                 0\n",
       "price_y                           0\n",
       "adjusted_price                    0\n",
       "minimum_nights_y                  0\n",
       "maximum_nights_y                  0\n",
       "Mean_Sent_Pol                     0\n",
       "Total_Review_By_Listing           0\n",
       "dtype: int64"
      ]
     },
     "execution_count": 46,
     "metadata": {},
     "output_type": "execute_result"
    }
   ],
   "source": [
    "clean_numeric.isnull().sum()"
   ]
  },
  {
   "cell_type": "code",
   "execution_count": 47,
   "metadata": {
    "id": "sVELuM3ah74b"
   },
   "outputs": [],
   "source": [
    "fill_median = lambda col : col.fillna(col.median())\n",
    "clean_numeric = clean_numeric.apply(fill_median, axis = 0)"
   ]
  },
  {
   "cell_type": "code",
   "execution_count": 48,
   "metadata": {
    "colab": {
     "base_uri": "https://localhost:8080/"
    },
    "id": "z_tgkWwDh9D1",
    "outputId": "4dcc386b-41e7-4d65-9688-1c899dc848df"
   },
   "outputs": [
    {
     "data": {
      "text/plain": [
       "Index([], dtype='object')"
      ]
     },
     "execution_count": 48,
     "metadata": {},
     "output_type": "execute_result"
    }
   ],
   "source": [
    "clean_numeric.columns[clean_numeric.isnull().any()]"
   ]
  },
  {
   "cell_type": "code",
   "execution_count": 49,
   "metadata": {
    "colab": {
     "base_uri": "https://localhost:8080/"
    },
    "id": "vzmQpkXvdNfJ",
    "outputId": "f34525c1-e7ca-407a-d8e4-49b8d54e659b"
   },
   "outputs": [
    {
     "data": {
      "text/plain": [
       "(29842, 33)"
      ]
     },
     "execution_count": 49,
     "metadata": {},
     "output_type": "execute_result"
    }
   ],
   "source": [
    "clean_numeric.shape"
   ]
  },
  {
   "cell_type": "code",
   "execution_count": 50,
   "metadata": {
    "id": "YDUUZ45Lfo8H"
   },
   "outputs": [],
   "source": [
    "from sklearn.utils import shuffle\n",
    "clean_numeric = shuffle(clean_numeric)"
   ]
  },
  {
   "cell_type": "code",
   "execution_count": 51,
   "metadata": {
    "id": "df99JTmyfvIW"
   },
   "outputs": [],
   "source": [
    "clean_numeric.to_csv ('D:/DCU/CA660_Stats/Assignment1/Amsterdam_Netherlands/Intermediate/Clean_Numeric.csv', index = None, header=True)\n",
    "clean_numeric_backup = clean_numeric"
   ]
  },
  {
   "cell_type": "markdown",
   "metadata": {
    "id": "T79oIbX6JYcW"
   },
   "source": [
    "Testing the Linear Regressiion, Random Forest and XGBoost Models with all Features"
   ]
  },
  {
   "cell_type": "code",
   "execution_count": 52,
   "metadata": {
    "id": "dntDZ9N3uLqF"
   },
   "outputs": [],
   "source": [
    "def train_test_id(id_lst, test_portion = 0.3):\n",
    "    \"\"\"\n",
    "        Randomly split training and test id.\n",
    "        Input: \n",
    "            id_lst is the list of all ids\n",
    "        return:\n",
    "            train_id_list, test_id_list\n",
    "    \"\"\"\n",
    "    id_set = set(id_lst)\n",
    "    size = len(id_set)\n",
    "    test_set = set()\n",
    "    while True:\n",
    "        if np.random.rand() <= 0.5:\n",
    "            test_set.add(id_set.pop())\n",
    "        if len(test_set) >= test_portion * size:\n",
    "            break\n",
    "    return id_set, test_set"
   ]
  },
  {
   "cell_type": "code",
   "execution_count": 53,
   "metadata": {
    "id": "buUxbDNwuTH9"
   },
   "outputs": [],
   "source": [
    "def search_params(params, estimator, X, y, cv = 5):\n",
    "    \"\"\"\n",
    "        Search optimal hyper-parameters for estimator.\n",
    "    \"\"\"\n",
    "    clf = GridSearchCV(estimator, params, cv = cv, scoring = 'neg_mean_squared_error', verbose = 2)\n",
    "    clf.fit(X, y)\n",
    "    return clf.best_params_\n",
    "\n",
    "def cal_rmse(y_pred, y_true):\n",
    "    \"\"\"\n",
    "        calculate root mean square error based on predicted and true result.\n",
    "    \"\"\"\n",
    "    return np.sqrt(np.sum((y_pred - y_true)**2 / len(y_pred)))"
   ]
  },
  {
   "cell_type": "code",
   "execution_count": 54,
   "metadata": {
    "id": "1UzYC9IFsmUb"
   },
   "outputs": [],
   "source": [
    "def visualize_pred(y_pred, y_test, model_name):\n",
    "    \"\"\"\n",
    "        Visualize predicted result for 100 randomly selected samples\n",
    "    \"\"\"\n",
    "    # vis_lst = [i for i in range(len(y_pred))]\n",
    "    # np.random.shuffle(vis_lst)\n",
    "    # y_test = y_test.reset_index()\n",
    "\n",
    "    fig, ax = mp.subplots(figsize=(12,3))\n",
    "    ax.set(xlabel='Samples', ylabel='Prices',\n",
    "           title='Comparison between True and Predicted Price for Airbnb in Amsterdam using ' + model_name )\n",
    "    ax.plot(range(len(y_pred[:100])),y_pred[:100])\n",
    "    ax.plot(range(len(y_test[:100])),y_test[:100])\n",
    "    ax.legend(('predicted price', 'true price'),\n",
    "               loc='upper left')\n",
    "    mp.show()"
   ]
  },
  {
   "cell_type": "code",
   "execution_count": 55,
   "metadata": {
    "id": "czYtasrrurs9"
   },
   "outputs": [],
   "source": [
    "X, Y = clean_numeric.loc[:,clean_numeric.columns != 'price_x'], clean_numeric['price_x']"
   ]
  },
  {
   "cell_type": "code",
   "execution_count": 56,
   "metadata": {
    "colab": {
     "base_uri": "https://localhost:8080/"
    },
    "id": "NRY2ORnsvQEy",
    "outputId": "a7f1f416-ec4d-4013-febd-c9a8bc65e9a3"
   },
   "outputs": [
    {
     "name": "stderr",
     "output_type": "stream",
     "text": [
      "29842it [00:00, 1492795.45it/s]\n",
      "29842it [00:00, 1750652.75it/s]\n"
     ]
    }
   ],
   "source": [
    "train_id, test_id = train_test_id(clean_numeric['id'].unique())\n",
    "\n",
    "#Generate training_entries and test_entries:\n",
    "train_entries = list(tqdm(map(lambda x : x in train_id, clean_numeric['id'])))\n",
    "test_entries = list(tqdm(map(lambda x : x in test_id, clean_numeric['id'])))\n",
    "\n",
    "X_train, X_test, y_train, y_test = X[train_entries], X[test_entries], \\\n",
    "                                   Y[train_entries], Y[test_entries]"
   ]
  },
  {
   "cell_type": "code",
   "execution_count": 57,
   "metadata": {
    "colab": {
     "base_uri": "https://localhost:8080/",
     "height": 443
    },
    "id": "loE8VWhpZ0kn",
    "outputId": "baded50b-e01b-43e3-9926-8809e507d958"
   },
   "outputs": [
    {
     "data": {
      "text/html": [
       "<div>\n",
       "<style scoped>\n",
       "    .dataframe tbody tr th:only-of-type {\n",
       "        vertical-align: middle;\n",
       "    }\n",
       "\n",
       "    .dataframe tbody tr th {\n",
       "        vertical-align: top;\n",
       "    }\n",
       "\n",
       "    .dataframe thead th {\n",
       "        text-align: right;\n",
       "    }\n",
       "</style>\n",
       "<table border=\"1\" class=\"dataframe\">\n",
       "  <thead>\n",
       "    <tr style=\"text-align: right;\">\n",
       "      <th></th>\n",
       "      <th>id</th>\n",
       "      <th>host_id</th>\n",
       "      <th>host_response_rate</th>\n",
       "      <th>host_listings_count</th>\n",
       "      <th>latitude</th>\n",
       "      <th>longitude</th>\n",
       "      <th>accommodates</th>\n",
       "      <th>bedrooms</th>\n",
       "      <th>beds</th>\n",
       "      <th>minimum_nights_x</th>\n",
       "      <th>...</th>\n",
       "      <th>review_scores_communication</th>\n",
       "      <th>review_scores_location</th>\n",
       "      <th>review_scores_value</th>\n",
       "      <th>reviews_per_month</th>\n",
       "      <th>price_y</th>\n",
       "      <th>adjusted_price</th>\n",
       "      <th>minimum_nights_y</th>\n",
       "      <th>maximum_nights_y</th>\n",
       "      <th>Mean_Sent_Pol</th>\n",
       "      <th>Total_Review_By_Listing</th>\n",
       "    </tr>\n",
       "  </thead>\n",
       "  <tbody>\n",
       "    <tr>\n",
       "      <th>7614</th>\n",
       "      <td>14561871</td>\n",
       "      <td>4473053</td>\n",
       "      <td>1.00</td>\n",
       "      <td>1.0</td>\n",
       "      <td>52.35320</td>\n",
       "      <td>4.925050</td>\n",
       "      <td>4</td>\n",
       "      <td>2.0</td>\n",
       "      <td>2</td>\n",
       "      <td>4</td>\n",
       "      <td>...</td>\n",
       "      <td>5.00</td>\n",
       "      <td>4.50</td>\n",
       "      <td>5.00</td>\n",
       "      <td>0.07</td>\n",
       "      <td>164.0</td>\n",
       "      <td>164.0</td>\n",
       "      <td>4</td>\n",
       "      <td>14</td>\n",
       "      <td>0.381482</td>\n",
       "      <td>3</td>\n",
       "    </tr>\n",
       "    <tr>\n",
       "      <th>1844</th>\n",
       "      <td>2882337</td>\n",
       "      <td>922459</td>\n",
       "      <td>1.00</td>\n",
       "      <td>1.0</td>\n",
       "      <td>52.37292</td>\n",
       "      <td>4.820300</td>\n",
       "      <td>4</td>\n",
       "      <td>2.0</td>\n",
       "      <td>1</td>\n",
       "      <td>2</td>\n",
       "      <td>...</td>\n",
       "      <td>5.00</td>\n",
       "      <td>5.00</td>\n",
       "      <td>5.00</td>\n",
       "      <td>0.11</td>\n",
       "      <td>203.0</td>\n",
       "      <td>203.0</td>\n",
       "      <td>2</td>\n",
       "      <td>1125</td>\n",
       "      <td>0.212136</td>\n",
       "      <td>2</td>\n",
       "    </tr>\n",
       "    <tr>\n",
       "      <th>775</th>\n",
       "      <td>1018703</td>\n",
       "      <td>125667</td>\n",
       "      <td>1.00</td>\n",
       "      <td>2.0</td>\n",
       "      <td>52.35099</td>\n",
       "      <td>4.886627</td>\n",
       "      <td>2</td>\n",
       "      <td>1.0</td>\n",
       "      <td>0</td>\n",
       "      <td>2</td>\n",
       "      <td>...</td>\n",
       "      <td>4.83</td>\n",
       "      <td>4.76</td>\n",
       "      <td>4.57</td>\n",
       "      <td>2.75</td>\n",
       "      <td>105.0</td>\n",
       "      <td>89.0</td>\n",
       "      <td>1</td>\n",
       "      <td>1124</td>\n",
       "      <td>0.423965</td>\n",
       "      <td>206</td>\n",
       "    </tr>\n",
       "    <tr>\n",
       "      <th>1354</th>\n",
       "      <td>1927634</td>\n",
       "      <td>9314105</td>\n",
       "      <td>1.00</td>\n",
       "      <td>1.0</td>\n",
       "      <td>52.36807</td>\n",
       "      <td>4.934490</td>\n",
       "      <td>4</td>\n",
       "      <td>3.0</td>\n",
       "      <td>1</td>\n",
       "      <td>5</td>\n",
       "      <td>...</td>\n",
       "      <td>4.97</td>\n",
       "      <td>4.61</td>\n",
       "      <td>4.69</td>\n",
       "      <td>0.43</td>\n",
       "      <td>265.0</td>\n",
       "      <td>265.0</td>\n",
       "      <td>5</td>\n",
       "      <td>1125</td>\n",
       "      <td>0.385904</td>\n",
       "      <td>28</td>\n",
       "    </tr>\n",
       "    <tr>\n",
       "      <th>4073</th>\n",
       "      <td>6675077</td>\n",
       "      <td>24927522</td>\n",
       "      <td>0.92</td>\n",
       "      <td>1.0</td>\n",
       "      <td>52.35613</td>\n",
       "      <td>4.888630</td>\n",
       "      <td>2</td>\n",
       "      <td>1.0</td>\n",
       "      <td>0</td>\n",
       "      <td>1</td>\n",
       "      <td>...</td>\n",
       "      <td>4.90</td>\n",
       "      <td>4.88</td>\n",
       "      <td>4.49</td>\n",
       "      <td>0.81</td>\n",
       "      <td>163.0</td>\n",
       "      <td>163.0</td>\n",
       "      <td>1</td>\n",
       "      <td>1125</td>\n",
       "      <td>0.433621</td>\n",
       "      <td>52</td>\n",
       "    </tr>\n",
       "    <tr>\n",
       "      <th>...</th>\n",
       "      <td>...</td>\n",
       "      <td>...</td>\n",
       "      <td>...</td>\n",
       "      <td>...</td>\n",
       "      <td>...</td>\n",
       "      <td>...</td>\n",
       "      <td>...</td>\n",
       "      <td>...</td>\n",
       "      <td>...</td>\n",
       "      <td>...</td>\n",
       "      <td>...</td>\n",
       "      <td>...</td>\n",
       "      <td>...</td>\n",
       "      <td>...</td>\n",
       "      <td>...</td>\n",
       "      <td>...</td>\n",
       "      <td>...</td>\n",
       "      <td>...</td>\n",
       "      <td>...</td>\n",
       "      <td>...</td>\n",
       "      <td>...</td>\n",
       "    </tr>\n",
       "    <tr>\n",
       "      <th>7900</th>\n",
       "      <td>15159146</td>\n",
       "      <td>1826139</td>\n",
       "      <td>1.00</td>\n",
       "      <td>8.0</td>\n",
       "      <td>52.37956</td>\n",
       "      <td>4.894530</td>\n",
       "      <td>6</td>\n",
       "      <td>2.0</td>\n",
       "      <td>2</td>\n",
       "      <td>7</td>\n",
       "      <td>...</td>\n",
       "      <td>4.98</td>\n",
       "      <td>4.96</td>\n",
       "      <td>4.69</td>\n",
       "      <td>14.21</td>\n",
       "      <td>265.0</td>\n",
       "      <td>239.0</td>\n",
       "      <td>5</td>\n",
       "      <td>1124</td>\n",
       "      <td>0.454482</td>\n",
       "      <td>43</td>\n",
       "    </tr>\n",
       "    <tr>\n",
       "      <th>11849</th>\n",
       "      <td>22183604</td>\n",
       "      <td>15216760</td>\n",
       "      <td>1.00</td>\n",
       "      <td>2.0</td>\n",
       "      <td>52.37363</td>\n",
       "      <td>4.880940</td>\n",
       "      <td>2</td>\n",
       "      <td>2.0</td>\n",
       "      <td>1</td>\n",
       "      <td>2</td>\n",
       "      <td>...</td>\n",
       "      <td>5.00</td>\n",
       "      <td>5.00</td>\n",
       "      <td>5.00</td>\n",
       "      <td>0.28</td>\n",
       "      <td>201.0</td>\n",
       "      <td>201.0</td>\n",
       "      <td>2</td>\n",
       "      <td>1125</td>\n",
       "      <td>0.415698</td>\n",
       "      <td>5</td>\n",
       "    </tr>\n",
       "    <tr>\n",
       "      <th>4691</th>\n",
       "      <td>7924857</td>\n",
       "      <td>23387617</td>\n",
       "      <td>1.00</td>\n",
       "      <td>1.0</td>\n",
       "      <td>52.36935</td>\n",
       "      <td>4.867480</td>\n",
       "      <td>6</td>\n",
       "      <td>4.0</td>\n",
       "      <td>4</td>\n",
       "      <td>2</td>\n",
       "      <td>...</td>\n",
       "      <td>4.93</td>\n",
       "      <td>4.78</td>\n",
       "      <td>4.66</td>\n",
       "      <td>0.80</td>\n",
       "      <td>425.0</td>\n",
       "      <td>425.0</td>\n",
       "      <td>2</td>\n",
       "      <td>1125</td>\n",
       "      <td>0.495860</td>\n",
       "      <td>44</td>\n",
       "    </tr>\n",
       "    <tr>\n",
       "      <th>16643</th>\n",
       "      <td>30553701</td>\n",
       "      <td>229196646</td>\n",
       "      <td>0.91</td>\n",
       "      <td>6.0</td>\n",
       "      <td>52.35930</td>\n",
       "      <td>4.926740</td>\n",
       "      <td>4</td>\n",
       "      <td>2.0</td>\n",
       "      <td>1</td>\n",
       "      <td>1</td>\n",
       "      <td>...</td>\n",
       "      <td>3.50</td>\n",
       "      <td>4.50</td>\n",
       "      <td>3.33</td>\n",
       "      <td>1.18</td>\n",
       "      <td>295.0</td>\n",
       "      <td>295.0</td>\n",
       "      <td>1</td>\n",
       "      <td>99</td>\n",
       "      <td>0.108228</td>\n",
       "      <td>5</td>\n",
       "    </tr>\n",
       "    <tr>\n",
       "      <th>11560</th>\n",
       "      <td>21486402</td>\n",
       "      <td>156070312</td>\n",
       "      <td>1.00</td>\n",
       "      <td>1.0</td>\n",
       "      <td>52.35874</td>\n",
       "      <td>4.860160</td>\n",
       "      <td>2</td>\n",
       "      <td>1.0</td>\n",
       "      <td>0</td>\n",
       "      <td>2</td>\n",
       "      <td>...</td>\n",
       "      <td>4.93</td>\n",
       "      <td>4.79</td>\n",
       "      <td>4.64</td>\n",
       "      <td>7.23</td>\n",
       "      <td>59.0</td>\n",
       "      <td>59.0</td>\n",
       "      <td>2</td>\n",
       "      <td>1125</td>\n",
       "      <td>0.414069</td>\n",
       "      <td>223</td>\n",
       "    </tr>\n",
       "  </tbody>\n",
       "</table>\n",
       "<p>20457 rows × 32 columns</p>\n",
       "</div>"
      ],
      "text/plain": [
       "             id    host_id  host_response_rate  host_listings_count  latitude  \\\n",
       "7614   14561871    4473053                1.00                  1.0  52.35320   \n",
       "1844    2882337     922459                1.00                  1.0  52.37292   \n",
       "775     1018703     125667                1.00                  2.0  52.35099   \n",
       "1354    1927634    9314105                1.00                  1.0  52.36807   \n",
       "4073    6675077   24927522                0.92                  1.0  52.35613   \n",
       "...         ...        ...                 ...                  ...       ...   \n",
       "7900   15159146    1826139                1.00                  8.0  52.37956   \n",
       "11849  22183604   15216760                1.00                  2.0  52.37363   \n",
       "4691    7924857   23387617                1.00                  1.0  52.36935   \n",
       "16643  30553701  229196646                0.91                  6.0  52.35930   \n",
       "11560  21486402  156070312                1.00                  1.0  52.35874   \n",
       "\n",
       "       longitude  accommodates  bedrooms  beds  minimum_nights_x  ...  \\\n",
       "7614    4.925050             4       2.0     2                 4  ...   \n",
       "1844    4.820300             4       2.0     1                 2  ...   \n",
       "775     4.886627             2       1.0     0                 2  ...   \n",
       "1354    4.934490             4       3.0     1                 5  ...   \n",
       "4073    4.888630             2       1.0     0                 1  ...   \n",
       "...          ...           ...       ...   ...               ...  ...   \n",
       "7900    4.894530             6       2.0     2                 7  ...   \n",
       "11849   4.880940             2       2.0     1                 2  ...   \n",
       "4691    4.867480             6       4.0     4                 2  ...   \n",
       "16643   4.926740             4       2.0     1                 1  ...   \n",
       "11560   4.860160             2       1.0     0                 2  ...   \n",
       "\n",
       "       review_scores_communication  review_scores_location  \\\n",
       "7614                          5.00                    4.50   \n",
       "1844                          5.00                    5.00   \n",
       "775                           4.83                    4.76   \n",
       "1354                          4.97                    4.61   \n",
       "4073                          4.90                    4.88   \n",
       "...                            ...                     ...   \n",
       "7900                          4.98                    4.96   \n",
       "11849                         5.00                    5.00   \n",
       "4691                          4.93                    4.78   \n",
       "16643                         3.50                    4.50   \n",
       "11560                         4.93                    4.79   \n",
       "\n",
       "       review_scores_value  reviews_per_month  price_y  adjusted_price  \\\n",
       "7614                  5.00               0.07    164.0           164.0   \n",
       "1844                  5.00               0.11    203.0           203.0   \n",
       "775                   4.57               2.75    105.0            89.0   \n",
       "1354                  4.69               0.43    265.0           265.0   \n",
       "4073                  4.49               0.81    163.0           163.0   \n",
       "...                    ...                ...      ...             ...   \n",
       "7900                  4.69              14.21    265.0           239.0   \n",
       "11849                 5.00               0.28    201.0           201.0   \n",
       "4691                  4.66               0.80    425.0           425.0   \n",
       "16643                 3.33               1.18    295.0           295.0   \n",
       "11560                 4.64               7.23     59.0            59.0   \n",
       "\n",
       "       minimum_nights_y  maximum_nights_y  Mean_Sent_Pol  \\\n",
       "7614                  4                14       0.381482   \n",
       "1844                  2              1125       0.212136   \n",
       "775                   1              1124       0.423965   \n",
       "1354                  5              1125       0.385904   \n",
       "4073                  1              1125       0.433621   \n",
       "...                 ...               ...            ...   \n",
       "7900                  5              1124       0.454482   \n",
       "11849                 2              1125       0.415698   \n",
       "4691                  2              1125       0.495860   \n",
       "16643                 1                99       0.108228   \n",
       "11560                 2              1125       0.414069   \n",
       "\n",
       "       Total_Review_By_Listing  \n",
       "7614                         3  \n",
       "1844                         2  \n",
       "775                        206  \n",
       "1354                        28  \n",
       "4073                        52  \n",
       "...                        ...  \n",
       "7900                        43  \n",
       "11849                        5  \n",
       "4691                        44  \n",
       "16643                        5  \n",
       "11560                      223  \n",
       "\n",
       "[20457 rows x 32 columns]"
      ]
     },
     "execution_count": 57,
     "metadata": {},
     "output_type": "execute_result"
    }
   ],
   "source": [
    "X_train"
   ]
  },
  {
   "cell_type": "code",
   "execution_count": 58,
   "metadata": {
    "colab": {
     "base_uri": "https://localhost:8080/"
    },
    "id": "F4p8bhPZtaFD",
    "outputId": "b950160c-1b9e-4d5f-d4d7-60799a8142a0"
   },
   "outputs": [
    {
     "name": "stdout",
     "output_type": "stream",
     "text": [
      "87.62002357286028\n",
      "86.95748213707878\n"
     ]
    }
   ],
   "source": [
    "print(np.std(y_train))\n",
    "print(np.std(y_test))"
   ]
  },
  {
   "cell_type": "markdown",
   "metadata": {
    "id": "mqsOZFgvtgmE"
   },
   "source": [
    "Linear Regression"
   ]
  },
  {
   "cell_type": "code",
   "execution_count": 59,
   "metadata": {
    "colab": {
     "base_uri": "https://localhost:8080/",
     "height": 258
    },
    "id": "e0sJJcyttep-",
    "outputId": "19d214df-18ee-4f80-f6f8-f9fd8ddec0dd"
   },
   "outputs": [
    {
     "name": "stdout",
     "output_type": "stream",
     "text": [
      "RMSE =  65.77618895653174\n"
     ]
    },
    {
     "data": {
      "image/png": "[encoded data removed]",
      "text/plain": [
       "<Figure size 864x216 with 1 Axes>"
      ]
     },
     "metadata": {
      "needs_background": "light"
     },
     "output_type": "display_data"
    }
   ],
   "source": [
    "from sklearn import linear_model\n",
    "\n",
    "regr = linear_model.LinearRegression()\n",
    "\n",
    "# Train the model using the training sets\n",
    "regr.fit(X_train, y_train)\n",
    "\n",
    "# Make predictions using the testing set\n",
    "y_pred_ams = regr.predict(X_test)\n",
    "rmse = cal_rmse(y_pred_ams, y_test)\n",
    "print('RMSE = ',rmse)\n",
    "visualize_pred(y_pred_ams, y_test,'Linear Regression')"
   ]
  },
  {
   "cell_type": "markdown",
   "metadata": {
    "id": "idttuEx0ts5B"
   },
   "source": [
    "Random Forest"
   ]
  },
  {
   "cell_type": "code",
   "execution_count": 60,
   "metadata": {
    "colab": {
     "base_uri": "https://localhost:8080/",
     "height": 258
    },
    "id": "5HObcB-ptwJG",
    "outputId": "8a4b1474-8a6c-4c45-dbe4-c75386d11c28"
   },
   "outputs": [
    {
     "name": "stdout",
     "output_type": "stream",
     "text": [
      "RMSE =  44.10934307750449\n"
     ]
    },
    {
     "data": {
      "image/png": "[encoded data removed]",
      "text/plain": [
       "<Figure size 864x216 with 1 Axes>"
      ]
     },
     "metadata": {
      "needs_background": "light"
     },
     "output_type": "display_data"
    }
   ],
   "source": [
    "from sklearn.ensemble import RandomForestRegressor\n",
    "\n",
    "ams_opt_params = {'max_depth' : 10, 'n_estimators' : 100, 'random_state' : 0}\n",
    "regr = RandomForestRegressor(**ams_opt_params)\n",
    "regr.fit(X_train, y_train)\n",
    "\n",
    "y_pred_ams = regr.predict(X_test)\n",
    "print('RMSE = ',cal_rmse(y_pred_ams, y_test))\n",
    "visualize_pred(y_pred_ams, y_test,'Random Forest')\n"
   ]
  },
  {
   "cell_type": "markdown",
   "metadata": {
    "id": "vuYuTpMOuIZT"
   },
   "source": [
    "XG Boost Regressor"
   ]
  },
  {
   "cell_type": "code",
   "execution_count": 61,
   "metadata": {
    "colab": {
     "base_uri": "https://localhost:8080/",
     "height": 276
    },
    "id": "wA5Xwxg0zQut",
    "outputId": "d9e49d19-3e38-4be5-8d2f-81a2a712490a"
   },
   "outputs": [
    {
     "name": "stdout",
     "output_type": "stream",
     "text": [
      "[15:34:06] WARNING: C:/Users/Administrator/workspace/xgboost-win64_release_1.5.1/src/learner.cc:576: \n",
      "Parameters: { \"n_estimator\" } might not be used.\n",
      "\n",
      "  This could be a false alarm, with some parameters getting used by language bindings but\n",
      "  then being mistakenly passed down to XGBoost core, or some parameter actually being used\n",
      "  but getting flagged wrongly here. Please open an issue if you find any such cases.\n",
      "\n",
      "\n",
      "42.15594318339008\n"
     ]
    },
    {
     "data": {
      "image/png": "[encoded data removed]",
      "text/plain": [
       "<Figure size 864x216 with 1 Axes>"
      ]
     },
     "metadata": {
      "needs_background": "light"
     },
     "output_type": "display_data"
    }
   ],
   "source": [
    "clean_opt_params = {'booster' : 'gbtree', 'max_depth' : 5, 'learning_rate' : 0.1, 'n_estimator' : 100}\n",
    "xgb_ams = XGBRegressor(**clean_opt_params)\n",
    "xgb_ams.fit(X_train, y_train, eval_metric = 'rmse')\n",
    "y_pred_ams = xgb_ams.predict(X_test)\n",
    "print(cal_rmse(y_pred_ams, y_test))\n",
    "visualize_pred(y_pred_ams, y_test, 'XGBoost')"
   ]
  },
  {
   "cell_type": "code",
   "execution_count": 62,
   "metadata": {
    "colab": {
     "base_uri": "https://localhost:8080/",
     "height": 313
    },
    "id": "SC6cyPagzlMn",
    "outputId": "b3c0913e-ecd2-4cb0-ca95-e5bd9e43b181"
   },
   "outputs": [
    {
     "name": "stdout",
     "output_type": "stream",
     "text": [
      "[180.99515  149.2561   191.5621   ...  43.663105  80.71372  240.25551 ]\n",
      "(9385,)\n",
      "(20457,)\n",
      "(20457, 32)\n",
      "(9385, 32)\n"
     ]
    },
    {
     "data": {
      "text/html": [
       "<div>\n",
       "<style scoped>\n",
       "    .dataframe tbody tr th:only-of-type {\n",
       "        vertical-align: middle;\n",
       "    }\n",
       "\n",
       "    .dataframe tbody tr th {\n",
       "        vertical-align: top;\n",
       "    }\n",
       "\n",
       "    .dataframe thead th {\n",
       "        text-align: right;\n",
       "    }\n",
       "</style>\n",
       "<table border=\"1\" class=\"dataframe\">\n",
       "  <thead>\n",
       "    <tr style=\"text-align: right;\">\n",
       "      <th></th>\n",
       "      <th>id</th>\n",
       "      <th>host_id</th>\n",
       "      <th>host_response_rate</th>\n",
       "      <th>host_listings_count</th>\n",
       "      <th>latitude</th>\n",
       "      <th>longitude</th>\n",
       "      <th>accommodates</th>\n",
       "      <th>bedrooms</th>\n",
       "      <th>beds</th>\n",
       "      <th>minimum_nights_x</th>\n",
       "      <th>...</th>\n",
       "      <th>review_scores_communication</th>\n",
       "      <th>review_scores_location</th>\n",
       "      <th>review_scores_value</th>\n",
       "      <th>reviews_per_month</th>\n",
       "      <th>price_y</th>\n",
       "      <th>adjusted_price</th>\n",
       "      <th>minimum_nights_y</th>\n",
       "      <th>maximum_nights_y</th>\n",
       "      <th>Mean_Sent_Pol</th>\n",
       "      <th>Total_Review_By_Listing</th>\n",
       "    </tr>\n",
       "  </thead>\n",
       "  <tbody>\n",
       "    <tr>\n",
       "      <th>24714</th>\n",
       "      <td>44310955</td>\n",
       "      <td>21167882</td>\n",
       "      <td>0.98</td>\n",
       "      <td>34.0</td>\n",
       "      <td>52.35783</td>\n",
       "      <td>4.897860</td>\n",
       "      <td>4</td>\n",
       "      <td>2.0</td>\n",
       "      <td>3</td>\n",
       "      <td>5</td>\n",
       "      <td>...</td>\n",
       "      <td>4.78</td>\n",
       "      <td>4.67</td>\n",
       "      <td>3.78</td>\n",
       "      <td>0.67</td>\n",
       "      <td>217.0</td>\n",
       "      <td>217.0</td>\n",
       "      <td>5</td>\n",
       "      <td>1125</td>\n",
       "      <td>0.199383</td>\n",
       "      <td>3</td>\n",
       "    </tr>\n",
       "    <tr>\n",
       "      <th>7614</th>\n",
       "      <td>14561871</td>\n",
       "      <td>4473053</td>\n",
       "      <td>1.00</td>\n",
       "      <td>1.0</td>\n",
       "      <td>52.35320</td>\n",
       "      <td>4.925050</td>\n",
       "      <td>4</td>\n",
       "      <td>2.0</td>\n",
       "      <td>2</td>\n",
       "      <td>4</td>\n",
       "      <td>...</td>\n",
       "      <td>5.00</td>\n",
       "      <td>4.50</td>\n",
       "      <td>5.00</td>\n",
       "      <td>0.07</td>\n",
       "      <td>164.0</td>\n",
       "      <td>164.0</td>\n",
       "      <td>4</td>\n",
       "      <td>14</td>\n",
       "      <td>0.381482</td>\n",
       "      <td>3</td>\n",
       "    </tr>\n",
       "    <tr>\n",
       "      <th>1844</th>\n",
       "      <td>2882337</td>\n",
       "      <td>922459</td>\n",
       "      <td>1.00</td>\n",
       "      <td>1.0</td>\n",
       "      <td>52.37292</td>\n",
       "      <td>4.820300</td>\n",
       "      <td>4</td>\n",
       "      <td>2.0</td>\n",
       "      <td>1</td>\n",
       "      <td>2</td>\n",
       "      <td>...</td>\n",
       "      <td>5.00</td>\n",
       "      <td>5.00</td>\n",
       "      <td>5.00</td>\n",
       "      <td>0.11</td>\n",
       "      <td>203.0</td>\n",
       "      <td>203.0</td>\n",
       "      <td>2</td>\n",
       "      <td>1125</td>\n",
       "      <td>0.212136</td>\n",
       "      <td>2</td>\n",
       "    </tr>\n",
       "    <tr>\n",
       "      <th>775</th>\n",
       "      <td>1018703</td>\n",
       "      <td>125667</td>\n",
       "      <td>1.00</td>\n",
       "      <td>2.0</td>\n",
       "      <td>52.35099</td>\n",
       "      <td>4.886627</td>\n",
       "      <td>2</td>\n",
       "      <td>1.0</td>\n",
       "      <td>0</td>\n",
       "      <td>2</td>\n",
       "      <td>...</td>\n",
       "      <td>4.83</td>\n",
       "      <td>4.76</td>\n",
       "      <td>4.57</td>\n",
       "      <td>2.75</td>\n",
       "      <td>105.0</td>\n",
       "      <td>89.0</td>\n",
       "      <td>1</td>\n",
       "      <td>1124</td>\n",
       "      <td>0.423965</td>\n",
       "      <td>206</td>\n",
       "    </tr>\n",
       "    <tr>\n",
       "      <th>1354</th>\n",
       "      <td>1927634</td>\n",
       "      <td>9314105</td>\n",
       "      <td>1.00</td>\n",
       "      <td>1.0</td>\n",
       "      <td>52.36807</td>\n",
       "      <td>4.934490</td>\n",
       "      <td>4</td>\n",
       "      <td>3.0</td>\n",
       "      <td>1</td>\n",
       "      <td>5</td>\n",
       "      <td>...</td>\n",
       "      <td>4.97</td>\n",
       "      <td>4.61</td>\n",
       "      <td>4.69</td>\n",
       "      <td>0.43</td>\n",
       "      <td>265.0</td>\n",
       "      <td>265.0</td>\n",
       "      <td>5</td>\n",
       "      <td>1125</td>\n",
       "      <td>0.385904</td>\n",
       "      <td>28</td>\n",
       "    </tr>\n",
       "  </tbody>\n",
       "</table>\n",
       "<p>5 rows × 32 columns</p>\n",
       "</div>"
      ],
      "text/plain": [
       "             id   host_id  host_response_rate  host_listings_count  latitude  \\\n",
       "24714  44310955  21167882                0.98                 34.0  52.35783   \n",
       "7614   14561871   4473053                1.00                  1.0  52.35320   \n",
       "1844    2882337    922459                1.00                  1.0  52.37292   \n",
       "775     1018703    125667                1.00                  2.0  52.35099   \n",
       "1354    1927634   9314105                1.00                  1.0  52.36807   \n",
       "\n",
       "       longitude  accommodates  bedrooms  beds  minimum_nights_x  ...  \\\n",
       "24714   4.897860             4       2.0     3                 5  ...   \n",
       "7614    4.925050             4       2.0     2                 4  ...   \n",
       "1844    4.820300             4       2.0     1                 2  ...   \n",
       "775     4.886627             2       1.0     0                 2  ...   \n",
       "1354    4.934490             4       3.0     1                 5  ...   \n",
       "\n",
       "       review_scores_communication  review_scores_location  \\\n",
       "24714                         4.78                    4.67   \n",
       "7614                          5.00                    4.50   \n",
       "1844                          5.00                    5.00   \n",
       "775                           4.83                    4.76   \n",
       "1354                          4.97                    4.61   \n",
       "\n",
       "       review_scores_value  reviews_per_month  price_y  adjusted_price  \\\n",
       "24714                 3.78               0.67    217.0           217.0   \n",
       "7614                  5.00               0.07    164.0           164.0   \n",
       "1844                  5.00               0.11    203.0           203.0   \n",
       "775                   4.57               2.75    105.0            89.0   \n",
       "1354                  4.69               0.43    265.0           265.0   \n",
       "\n",
       "       minimum_nights_y  maximum_nights_y  Mean_Sent_Pol  \\\n",
       "24714                 5              1125       0.199383   \n",
       "7614                  4                14       0.381482   \n",
       "1844                  2              1125       0.212136   \n",
       "775                   1              1124       0.423965   \n",
       "1354                  5              1125       0.385904   \n",
       "\n",
       "       Total_Review_By_Listing  \n",
       "24714                        3  \n",
       "7614                         3  \n",
       "1844                         2  \n",
       "775                        206  \n",
       "1354                        28  \n",
       "\n",
       "[5 rows x 32 columns]"
      ]
     },
     "execution_count": 62,
     "metadata": {},
     "output_type": "execute_result"
    }
   ],
   "source": [
    "print(y_pred_ams)\n",
    "print(y_pred_ams.shape)\n",
    "print(y_train.shape)\n",
    "print(X_train.shape)\n",
    "print(X_test.shape)\n",
    "X.head()"
   ]
  },
  {
   "cell_type": "code",
   "execution_count": 63,
   "metadata": {
    "id": "dZ7M5OMR9cWo"
   },
   "outputs": [],
   "source": [
    "def plot_fold_performance(rmse):\n",
    "    \"\"\"\n",
    "        Plot root mean square error based on model validation \n",
    "    \"\"\"\n",
    "    print('Standard Deviation = ',np.std(rmse))\n",
    "    fig, ax = mp.subplots(figsize=(12,3))\n",
    "    ax.set(xlabel='Iterations', ylabel='RMS Error',\n",
    "    title='Performance of the 4 Folds Validation')\n",
    "    x= range(len(rmse))\n",
    "    y=np.around(rmse,decimals= 2)\n",
    "    ax.plot(x,y)\n",
    "    for i,j in zip(x,y):\n",
    "        ax.annotate(str(j),xy=(i,j))\n",
    "    \n",
    "    mp.show()\n"
   ]
  },
  {
   "cell_type": "code",
   "execution_count": 64,
   "metadata": {
    "colab": {
     "base_uri": "https://localhost:8080/",
     "height": 674
    },
    "id": "Bnx0d-Bm-0lf",
    "outputId": "26a048ce-affd-485c-fc7d-956dfda1c653"
   },
   "outputs": [
    {
     "name": "stdout",
     "output_type": "stream",
     "text": [
      "[15:34:08] WARNING: C:/Users/Administrator/workspace/xgboost-win64_release_1.5.1/src/learner.cc:576: \n",
      "Parameters: { \"n_estimator\" } might not be used.\n",
      "\n",
      "  This could be a false alarm, with some parameters getting used by language bindings but\n",
      "  then being mistakenly passed down to XGBoost core, or some parameter actually being used\n",
      "  but getting flagged wrongly here. Please open an issue if you find any such cases.\n",
      "\n",
      "\n",
      "RMSE =  90.59557278726909\n",
      "[15:34:09] WARNING: C:/Users/Administrator/workspace/xgboost-win64_release_1.5.1/src/learner.cc:576: \n",
      "Parameters: { \"n_estimator\" } might not be used.\n",
      "\n",
      "  This could be a false alarm, with some parameters getting used by language bindings but\n",
      "  then being mistakenly passed down to XGBoost core, or some parameter actually being used\n",
      "  but getting flagged wrongly here. Please open an issue if you find any such cases.\n",
      "\n",
      "\n",
      "RMSE =  91.04789558221904\n",
      "[15:34:10] WARNING: C:/Users/Administrator/workspace/xgboost-win64_release_1.5.1/src/learner.cc:576: \n",
      "Parameters: { \"n_estimator\" } might not be used.\n",
      "\n",
      "  This could be a false alarm, with some parameters getting used by language bindings but\n",
      "  then being mistakenly passed down to XGBoost core, or some parameter actually being used\n",
      "  but getting flagged wrongly here. Please open an issue if you find any such cases.\n",
      "\n",
      "\n",
      "RMSE =  89.47597645564875\n",
      "[15:34:11] WARNING: C:/Users/Administrator/workspace/xgboost-win64_release_1.5.1/src/learner.cc:576: \n",
      "Parameters: { \"n_estimator\" } might not be used.\n",
      "\n",
      "  This could be a false alarm, with some parameters getting used by language bindings but\n",
      "  then being mistakenly passed down to XGBoost core, or some parameter actually being used\n",
      "  but getting flagged wrongly here. Please open an issue if you find any such cases.\n",
      "\n",
      "\n",
      "RMSE =  89.9797701717995\n",
      "[15:34:12] WARNING: C:/Users/Administrator/workspace/xgboost-win64_release_1.5.1/src/learner.cc:576: \n",
      "Parameters: { \"n_estimator\" } might not be used.\n",
      "\n",
      "  This could be a false alarm, with some parameters getting used by language bindings but\n",
      "  then being mistakenly passed down to XGBoost core, or some parameter actually being used\n",
      "  but getting flagged wrongly here. Please open an issue if you find any such cases.\n",
      "\n",
      "\n",
      "RMSE =  90.15423532237884\n",
      "[15:34:14] WARNING: C:/Users/Administrator/workspace/xgboost-win64_release_1.5.1/src/learner.cc:576: \n",
      "Parameters: { \"n_estimator\" } might not be used.\n",
      "\n",
      "  This could be a false alarm, with some parameters getting used by language bindings but\n",
      "  then being mistakenly passed down to XGBoost core, or some parameter actually being used\n",
      "  but getting flagged wrongly here. Please open an issue if you find any such cases.\n",
      "\n",
      "\n",
      "RMSE =  90.96851650147875\n",
      "[15:34:15] WARNING: C:/Users/Administrator/workspace/xgboost-win64_release_1.5.1/src/learner.cc:576: \n",
      "Parameters: { \"n_estimator\" } might not be used.\n",
      "\n",
      "  This could be a false alarm, with some parameters getting used by language bindings but\n",
      "  then being mistakenly passed down to XGBoost core, or some parameter actually being used\n",
      "  but getting flagged wrongly here. Please open an issue if you find any such cases.\n",
      "\n",
      "\n",
      "RMSE =  88.76175712055944\n",
      "[15:34:16] WARNING: C:/Users/Administrator/workspace/xgboost-win64_release_1.5.1/src/learner.cc:576: \n",
      "Parameters: { \"n_estimator\" } might not be used.\n",
      "\n",
      "  This could be a false alarm, with some parameters getting used by language bindings but\n",
      "  then being mistakenly passed down to XGBoost core, or some parameter actually being used\n",
      "  but getting flagged wrongly here. Please open an issue if you find any such cases.\n",
      "\n",
      "\n",
      "RMSE =  92.72065121096975\n",
      "[15:34:17] WARNING: C:/Users/Administrator/workspace/xgboost-win64_release_1.5.1/src/learner.cc:576: \n",
      "Parameters: { \"n_estimator\" } might not be used.\n",
      "\n",
      "  This could be a false alarm, with some parameters getting used by language bindings but\n",
      "  then being mistakenly passed down to XGBoost core, or some parameter actually being used\n",
      "  but getting flagged wrongly here. Please open an issue if you find any such cases.\n",
      "\n",
      "\n",
      "RMSE =  91.85341834486384\n",
      "[15:34:18] WARNING: C:/Users/Administrator/workspace/xgboost-win64_release_1.5.1/src/learner.cc:576: \n",
      "Parameters: { \"n_estimator\" } might not be used.\n",
      "\n",
      "  This could be a false alarm, with some parameters getting used by language bindings but\n",
      "  then being mistakenly passed down to XGBoost core, or some parameter actually being used\n",
      "  but getting flagged wrongly here. Please open an issue if you find any such cases.\n",
      "\n",
      "\n",
      "RMSE =  91.01798135383721\n",
      "[15:34:20] WARNING: C:/Users/Administrator/workspace/xgboost-win64_release_1.5.1/src/learner.cc:576: \n",
      "Parameters: { \"n_estimator\" } might not be used.\n",
      "\n",
      "  This could be a false alarm, with some parameters getting used by language bindings but\n",
      "  then being mistakenly passed down to XGBoost core, or some parameter actually being used\n",
      "  but getting flagged wrongly here. Please open an issue if you find any such cases.\n",
      "\n",
      "\n",
      "RMSE =  90.35028489429419\n",
      "[15:34:21] WARNING: C:/Users/Administrator/workspace/xgboost-win64_release_1.5.1/src/learner.cc:576: \n",
      "Parameters: { \"n_estimator\" } might not be used.\n",
      "\n",
      "  This could be a false alarm, with some parameters getting used by language bindings but\n",
      "  then being mistakenly passed down to XGBoost core, or some parameter actually being used\n",
      "  but getting flagged wrongly here. Please open an issue if you find any such cases.\n",
      "\n",
      "\n",
      "RMSE =  88.46428779781759\n",
      "Standard Deviation =  1.1603173\n"
     ]
    },
    {
     "data": {
      "image/png": "[encoded data removed]",
      "text/plain": [
       "<Figure size 864x216 with 1 Axes>"
      ]
     },
     "metadata": {
      "needs_background": "light"
     },
     "output_type": "display_data"
    }
   ],
   "source": [
    "from sklearn.model_selection import RepeatedKFold \n",
    "import array\n",
    "import statistics as st\n",
    "\n",
    "kf = RepeatedKFold(n_splits=4, n_repeats=3, random_state=None) \n",
    "clean_opt_params = {'booster' : 'gbtree', 'max_depth' : 5, 'n_estimator' : 100}\n",
    "xgb_ams = XGBRegressor(**clean_opt_params)\n",
    "temp_rmse = array.array('f')\n",
    "for train_index, test_index in kf.split(X):\n",
    "    #print(\"TRAIN:\", train_index, \"TEST:\", test_index)\n",
    "    X_train = X.iloc[train_index]\n",
    "    X_test = X.iloc[test_index]\n",
    "    y_train, y_test = Y[train_index], Y[test_index]\n",
    "\n",
    "    xgb_ams.fit(X_train, y_train, eval_metric = 'rmse')\n",
    "    y_pred_ams = xgb_ams.predict(X_test)\n",
    "    rmse = cal_rmse(y_pred_ams, y_test)\n",
    "    temp_rmse.append(rmse)\n",
    "    print('RMSE = ',rmse)\n",
    "plot_fold_performance(temp_rmse)"
   ]
  },
  {
   "cell_type": "markdown",
   "metadata": {
    "id": "M7hAJmXdd_mf"
   },
   "source": [
    "Model Implementation with Selected Features"
   ]
  },
  {
   "cell_type": "code",
   "execution_count": 65,
   "metadata": {
    "id": "YHorN8nyeGei"
   },
   "outputs": [],
   "source": [
    "selected_df=pd.read_csv('D:/DCU/CA660_Stats/Assignment1/Amsterdam_Netherlands/Intermediate/Final_v1.csv')"
   ]
  },
  {
   "cell_type": "code",
   "execution_count": 66,
   "metadata": {
    "id": "bw0qJyA-e_mt"
   },
   "outputs": [],
   "source": [
    "def cal_rmse1(y_pred, y_true):\n",
    "    \"\"\"\n",
    "        calculate root mean square error based on predicted and true result.\n",
    "    \"\"\"\n",
    "    return np.sqrt(np.sum((y_pred - y_true)**2 / len(y_pred)))"
   ]
  },
  {
   "cell_type": "code",
   "execution_count": 67,
   "metadata": {
    "id": "Dghd2ds5fB35"
   },
   "outputs": [],
   "source": [
    "from matplotlib import pyplot as plt\n",
    "def visualize_pred1(y_pred, y_test,model_name):\n",
    "    \"\"\"\n",
    "        Visualize predicted result for 100 randomly selected samples\n",
    "    \"\"\"\n",
    "    vis_lst = [i for i in range(len(y_pred))]\n",
    "    np.random.shuffle(vis_lst)\n",
    "    y_test = y_test.reset_index()\n",
    "\n",
    "    fig, ax = plt.subplots(figsize=(12,3))\n",
    "    ax.set(xlabel='Samples', ylabel='Prices',\n",
    "           title='Comparison of Predicted and Actual Price using Selected Featues using ' + model_name)\n",
    "    ax.plot(range(len(y_pred[vis_lst[:100]])),y_pred[vis_lst[:100]])\n",
    "    ax.plot(range(len(y_test.loc[vis_lst[:100], 'price_x'])),y_test.loc[vis_lst[:100], 'price_x'])\n",
    "    ax.legend(('Predicted price', 'Actual price'),\n",
    "               loc='upper left')\n",
    "    ax.grid(),\n",
    "    plt.show()"
   ]
  },
  {
   "cell_type": "code",
   "execution_count": 68,
   "metadata": {
    "id": "pL1cPlsVfP1R"
   },
   "outputs": [],
   "source": [
    "### Assigning X and Y for label\n",
    "selected_df.reset_index(inplace=True)\n",
    "X, Y = selected_df.loc[:,selected_df.columns != 'price_x'], selected_df['price_x']"
   ]
  },
  {
   "cell_type": "code",
   "execution_count": 69,
   "metadata": {
    "id": "auV06F5UfSDp"
   },
   "outputs": [],
   "source": [
    "from sklearn.model_selection import train_test_split\n",
    "from sklearn.metrics import accuracy_score\n",
    "\n",
    "seed = 7\n",
    "test_size = 0.3\n",
    "X_train, X_test, y_train, y_test = train_test_split(X, Y, test_size=test_size, random_state=seed)"
   ]
  },
  {
   "cell_type": "code",
   "execution_count": 70,
   "metadata": {
    "colab": {
     "base_uri": "https://localhost:8080/"
    },
    "id": "OstqIL4hfTmS",
    "outputId": "38113f20-dd53-4495-fb30-3ee74b519729"
   },
   "outputs": [
    {
     "name": "stdout",
     "output_type": "stream",
     "text": [
      "87.02720140806004\n",
      "88.44438079024998\n"
     ]
    }
   ],
   "source": [
    "print(np.std(y_train))\n",
    "print(np.std(y_test))"
   ]
  },
  {
   "cell_type": "markdown",
   "metadata": {
    "id": "unoBperofgaP"
   },
   "source": [
    "Linear Regression With Selected Features"
   ]
  },
  {
   "cell_type": "code",
   "execution_count": 71,
   "metadata": {
    "colab": {
     "base_uri": "https://localhost:8080/",
     "height": 258
    },
    "id": "IJIwQUYEfjhZ",
    "outputId": "6745cb9b-d584-441b-99fe-e90a43ca099c"
   },
   "outputs": [
    {
     "name": "stdout",
     "output_type": "stream",
     "text": [
      "RMSE =  68.65790782610696\n"
     ]
    },
    {
     "data": {
      "image/png": "[encoded data removed]",
      "text/plain": [
       "<Figure size 864x216 with 1 Axes>"
      ]
     },
     "metadata": {
      "needs_background": "light"
     },
     "output_type": "display_data"
    }
   ],
   "source": [
    "from sklearn import linear_model\n",
    "\n",
    "regr = linear_model.LinearRegression()\n",
    "\n",
    "# Train the model using the training sets\n",
    "regr.fit(X_train, y_train)\n",
    "\n",
    "# Make predictions using the testing set\n",
    "y_pred_ams = regr.predict(X_test)\n",
    "rmse = cal_rmse1(y_pred_ams, y_test)\n",
    "print('RMSE = ',rmse)\n",
    "visualize_pred1(y_pred_ams, y_test,'Linear Regression')"
   ]
  },
  {
   "cell_type": "markdown",
   "metadata": {
    "id": "NFggpHDbfmAM"
   },
   "source": [
    "Random Forest Regressor with Selected Features"
   ]
  },
  {
   "cell_type": "code",
   "execution_count": 72,
   "metadata": {
    "colab": {
     "base_uri": "https://localhost:8080/",
     "height": 258
    },
    "id": "ngnJSZ3Afr5Q",
    "outputId": "9cb6669e-e18e-4ad3-f657-3375bc28cbe0"
   },
   "outputs": [
    {
     "name": "stdout",
     "output_type": "stream",
     "text": [
      "RMSE =  72.83305160794505\n"
     ]
    },
    {
     "data": {
      "image/png": "[encoded data removed]",
      "text/plain": [
       "<Figure size 864x216 with 1 Axes>"
      ]
     },
     "metadata": {
      "needs_background": "light"
     },
     "output_type": "display_data"
    }
   ],
   "source": [
    "from sklearn.ensemble import RandomForestRegressor\n",
    "\n",
    "ams_opt_params = {'max_depth' : 2, 'n_estimators' : 100, 'random_state' : 0}\n",
    "regr = RandomForestRegressor(**ams_opt_params)\n",
    "regr.fit(X_train, y_train)\n",
    "\n",
    "y_pred_ams = regr.predict(X_test)\n",
    "print('RMSE = ',cal_rmse1(y_pred_ams, y_test))\n",
    "visualize_pred1(y_pred_ams, y_test,'Random Forest')\n"
   ]
  },
  {
   "cell_type": "code",
   "execution_count": 73,
   "metadata": {
    "colab": {
     "base_uri": "https://localhost:8080/",
     "height": 258
    },
    "id": "x1MDl7WIj3x4",
    "outputId": "0174a6b8-78fb-4ab2-f44f-3aec95bc8f7b"
   },
   "outputs": [
    {
     "name": "stdout",
     "output_type": "stream",
     "text": [
      "RMSE =  33.6934576350901\n"
     ]
    },
    {
     "data": {
      "image/png": "[encoded data removed]",
      "text/plain": [
       "<Figure size 864x216 with 1 Axes>"
      ]
     },
     "metadata": {
      "needs_background": "light"
     },
     "output_type": "display_data"
    }
   ],
   "source": [
    "from sklearn.ensemble import RandomForestRegressor\n",
    "\n",
    "ams_opt_params = {'max_depth' : 15, 'n_estimators' : 100, 'random_state' : 0}\n",
    "regr = RandomForestRegressor(**ams_opt_params)\n",
    "regr.fit(X_train, y_train)\n",
    "\n",
    "y_pred_ams = regr.predict(X_test)\n",
    "print('RMSE = ',cal_rmse1(y_pred_ams, y_test))\n",
    "visualize_pred1(y_pred_ams, y_test,'Random Forest')\n"
   ]
  },
  {
   "cell_type": "markdown",
   "metadata": {
    "id": "XdF5IbKDfvcq"
   },
   "source": [
    "XG Boost Regressor with Selected Features"
   ]
  },
  {
   "cell_type": "code",
   "execution_count": 74,
   "metadata": {
    "colab": {
     "base_uri": "https://localhost:8080/",
     "height": 276
    },
    "id": "NelpWuV7fy2H",
    "outputId": "15392706-8f93-4597-dcef-8a6fe22e60ad"
   },
   "outputs": [
    {
     "name": "stdout",
     "output_type": "stream",
     "text": [
      "[15:34:29] WARNING: C:/Users/Administrator/workspace/xgboost-win64_release_1.5.1/src/learner.cc:576: \n",
      "Parameters: { \"n_estimator\" } might not be used.\n",
      "\n",
      "  This could be a false alarm, with some parameters getting used by language bindings but\n",
      "  then being mistakenly passed down to XGBoost core, or some parameter actually being used\n",
      "  but getting flagged wrongly here. Please open an issue if you find any such cases.\n",
      "\n",
      "\n",
      "29.99667312006926\n"
     ]
    },
    {
     "data": {
      "image/png": "[encoded data removed]",
      "text/plain": [
       "<Figure size 864x216 with 1 Axes>"
      ]
     },
     "metadata": {
      "needs_background": "light"
     },
     "output_type": "display_data"
    }
   ],
   "source": [
    "clean_opt_params = {'booster' : 'gbtree', 'max_depth' : 15, 'learning_rate' : 0.1, 'n_estimator' : 100}\n",
    "xgb_ams = XGBRegressor(**clean_opt_params)\n",
    "xgb_ams.fit(X_train, y_train, eval_metric = 'rmse')\n",
    "y_pred_ams = xgb_ams.predict(X_test)\n",
    "print(cal_rmse(y_pred_ams, y_test))\n",
    "visualize_pred1(y_pred_ams, y_test, 'XGBoost')"
   ]
  },
  {
   "cell_type": "code",
   "execution_count": 75,
   "metadata": {
    "id": "_EEn8fiPf5tw"
   },
   "outputs": [],
   "source": [
    "def plot_fold_performance1(rmse):\n",
    "    \"\"\"\n",
    "        Plot root mean square error based on model validation \n",
    "    \"\"\"\n",
    "    print('Standard Deviation = ',np.std(rmse))\n",
    "    fig, ax = mp.subplots(figsize=(12,3))\n",
    "    ax.set(xlabel='Iterations', ylabel='RMS Error',\n",
    "    title='Performance of the 4 Folds Validation')\n",
    "    x= range(len(rmse))\n",
    "    y=np.around(rmse,decimals= 2)\n",
    "    ax.plot(x,y)\n",
    "    for i,j in zip(x,y):\n",
    "        ax.annotate(str(j),xy=(i,j))\n",
    "    \n",
    "    mp.show()\n"
   ]
  },
  {
   "cell_type": "code",
   "execution_count": 76,
   "metadata": {
    "colab": {
     "base_uri": "https://localhost:8080/",
     "height": 674
    },
    "id": "1vazRhUxgi9S",
    "outputId": "6db77e4c-455e-44f7-a372-f42eca5f1d7f"
   },
   "outputs": [
    {
     "name": "stdout",
     "output_type": "stream",
     "text": [
      "[15:34:35] WARNING: C:/Users/Administrator/workspace/xgboost-win64_release_1.5.1/src/learner.cc:576: \n",
      "Parameters: { \"n_estimator\" } might not be used.\n",
      "\n",
      "  This could be a false alarm, with some parameters getting used by language bindings but\n",
      "  then being mistakenly passed down to XGBoost core, or some parameter actually being used\n",
      "  but getting flagged wrongly here. Please open an issue if you find any such cases.\n",
      "\n",
      "\n",
      "RMSE =  30.612453000398293\n",
      "[15:34:41] WARNING: C:/Users/Administrator/workspace/xgboost-win64_release_1.5.1/src/learner.cc:576: \n",
      "Parameters: { \"n_estimator\" } might not be used.\n",
      "\n",
      "  This could be a false alarm, with some parameters getting used by language bindings but\n",
      "  then being mistakenly passed down to XGBoost core, or some parameter actually being used\n",
      "  but getting flagged wrongly here. Please open an issue if you find any such cases.\n",
      "\n",
      "\n",
      "RMSE =  29.82316089890551\n",
      "[15:34:46] WARNING: C:/Users/Administrator/workspace/xgboost-win64_release_1.5.1/src/learner.cc:576: \n",
      "Parameters: { \"n_estimator\" } might not be used.\n",
      "\n",
      "  This could be a false alarm, with some parameters getting used by language bindings but\n",
      "  then being mistakenly passed down to XGBoost core, or some parameter actually being used\n",
      "  but getting flagged wrongly here. Please open an issue if you find any such cases.\n",
      "\n",
      "\n",
      "RMSE =  31.091929715956066\n",
      "[15:34:52] WARNING: C:/Users/Administrator/workspace/xgboost-win64_release_1.5.1/src/learner.cc:576: \n",
      "Parameters: { \"n_estimator\" } might not be used.\n",
      "\n",
      "  This could be a false alarm, with some parameters getting used by language bindings but\n",
      "  then being mistakenly passed down to XGBoost core, or some parameter actually being used\n",
      "  but getting flagged wrongly here. Please open an issue if you find any such cases.\n",
      "\n",
      "\n",
      "RMSE =  29.109061437011086\n",
      "[15:34:57] WARNING: C:/Users/Administrator/workspace/xgboost-win64_release_1.5.1/src/learner.cc:576: \n",
      "Parameters: { \"n_estimator\" } might not be used.\n",
      "\n",
      "  This could be a false alarm, with some parameters getting used by language bindings but\n",
      "  then being mistakenly passed down to XGBoost core, or some parameter actually being used\n",
      "  but getting flagged wrongly here. Please open an issue if you find any such cases.\n",
      "\n",
      "\n",
      "RMSE =  27.63024910595523\n",
      "[15:35:03] WARNING: C:/Users/Administrator/workspace/xgboost-win64_release_1.5.1/src/learner.cc:576: \n",
      "Parameters: { \"n_estimator\" } might not be used.\n",
      "\n",
      "  This could be a false alarm, with some parameters getting used by language bindings but\n",
      "  then being mistakenly passed down to XGBoost core, or some parameter actually being used\n",
      "  but getting flagged wrongly here. Please open an issue if you find any such cases.\n",
      "\n",
      "\n",
      "RMSE =  30.562192553679335\n",
      "[15:35:09] WARNING: C:/Users/Administrator/workspace/xgboost-win64_release_1.5.1/src/learner.cc:576: \n",
      "Parameters: { \"n_estimator\" } might not be used.\n",
      "\n",
      "  This could be a false alarm, with some parameters getting used by language bindings but\n",
      "  then being mistakenly passed down to XGBoost core, or some parameter actually being used\n",
      "  but getting flagged wrongly here. Please open an issue if you find any such cases.\n",
      "\n",
      "\n",
      "RMSE =  30.105082818687244\n",
      "[15:35:15] WARNING: C:/Users/Administrator/workspace/xgboost-win64_release_1.5.1/src/learner.cc:576: \n",
      "Parameters: { \"n_estimator\" } might not be used.\n",
      "\n",
      "  This could be a false alarm, with some parameters getting used by language bindings but\n",
      "  then being mistakenly passed down to XGBoost core, or some parameter actually being used\n",
      "  but getting flagged wrongly here. Please open an issue if you find any such cases.\n",
      "\n",
      "\n",
      "RMSE =  34.186446697170496\n",
      "[15:35:20] WARNING: C:/Users/Administrator/workspace/xgboost-win64_release_1.5.1/src/learner.cc:576: \n",
      "Parameters: { \"n_estimator\" } might not be used.\n",
      "\n",
      "  This could be a false alarm, with some parameters getting used by language bindings but\n",
      "  then being mistakenly passed down to XGBoost core, or some parameter actually being used\n",
      "  but getting flagged wrongly here. Please open an issue if you find any such cases.\n",
      "\n",
      "\n",
      "RMSE =  31.08140907856758\n",
      "[15:35:26] WARNING: C:/Users/Administrator/workspace/xgboost-win64_release_1.5.1/src/learner.cc:576: \n",
      "Parameters: { \"n_estimator\" } might not be used.\n",
      "\n",
      "  This could be a false alarm, with some parameters getting used by language bindings but\n",
      "  then being mistakenly passed down to XGBoost core, or some parameter actually being used\n",
      "  but getting flagged wrongly here. Please open an issue if you find any such cases.\n",
      "\n",
      "\n",
      "RMSE =  30.289960663021592\n",
      "[15:35:32] WARNING: C:/Users/Administrator/workspace/xgboost-win64_release_1.5.1/src/learner.cc:576: \n",
      "Parameters: { \"n_estimator\" } might not be used.\n",
      "\n",
      "  This could be a false alarm, with some parameters getting used by language bindings but\n",
      "  then being mistakenly passed down to XGBoost core, or some parameter actually being used\n",
      "  but getting flagged wrongly here. Please open an issue if you find any such cases.\n",
      "\n",
      "\n",
      "RMSE =  23.776378815002783\n",
      "[15:35:37] WARNING: C:/Users/Administrator/workspace/xgboost-win64_release_1.5.1/src/learner.cc:576: \n",
      "Parameters: { \"n_estimator\" } might not be used.\n",
      "\n",
      "  This could be a false alarm, with some parameters getting used by language bindings but\n",
      "  then being mistakenly passed down to XGBoost core, or some parameter actually being used\n",
      "  but getting flagged wrongly here. Please open an issue if you find any such cases.\n",
      "\n",
      "\n",
      "RMSE =  28.046072149718825\n",
      "Standard Deviation =  2.389813\n"
     ]
    },
    {
     "data": {
      "image/png": "[encoded data removed]",
      "text/plain": [
       "<Figure size 864x216 with 1 Axes>"
      ]
     },
     "metadata": {
      "needs_background": "light"
     },
     "output_type": "display_data"
    }
   ],
   "source": [
    "from sklearn.model_selection import RepeatedKFold \n",
    "import array\n",
    "import statistics as st\n",
    "\n",
    "kf = RepeatedKFold(n_splits=4, n_repeats=3, random_state=None) \n",
    "clean_opt_params = {'booster' : 'gbtree', 'max_depth' : 15, 'n_estimator' :100}\n",
    "xgb_ams = XGBRegressor(**clean_opt_params)\n",
    "temp_rmse = array.array('f')\n",
    "for train_index, test_index in kf.split(X):\n",
    "    #print(\"TRAIN:\", train_index, \"TEST:\", test_index)\n",
    "    X_train = X.iloc[train_index]\n",
    "    X_test = X.iloc[test_index]\n",
    "    y_train, y_test = Y[train_index], Y[test_index]\n",
    "\n",
    "    xgb_ams.fit(X_train, y_train, eval_metric = 'rmse')\n",
    "    y_pred_ams = xgb_ams.predict(X_test)\n",
    "    rmse = cal_rmse(y_pred_ams, y_test)\n",
    "    temp_rmse.append(rmse)\n",
    "    print('RMSE = ',rmse)\n",
    "plot_fold_performance1(temp_rmse)"
   ]
  }
 ],
 "metadata": {
  "accelerator": "GPU",
  "colab": {
   "collapsed_sections": [],
   "name": "Price Prediction of Amsterdam AirBnb.ipynb",
   "provenance": []
  },
  "kernelspec": {
   "display_name": "Python 3",
   "language": "python",
   "name": "python3"
  },
  "language_info": {
   "codemirror_mode": {
    "name": "ipython",
    "version": 3
   },
   "file_extension": ".py",
   "mimetype": "text/x-python",
   "name": "python",
   "nbconvert_exporter": "python",
   "pygments_lexer": "ipython3",
   "version": "3.8.8"
  }
 },
 "nbformat": 4,
 "nbformat_minor": 1
}
