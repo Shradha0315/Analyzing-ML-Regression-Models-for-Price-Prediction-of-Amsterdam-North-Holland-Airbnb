{
 "cells": [
  {
   "cell_type": "markdown",
   "id": "d5bf7d6f",
   "metadata": {},
   "source": [
    "Testing Randomness of Data,Normality of Data and Performing Variance Test"
   ]
  },
  {
   "cell_type": "code",
   "execution_count": 1,
   "id": "7965c1e6",
   "metadata": {},
   "outputs": [],
   "source": [
    "import numpy as np # linear algebra\n",
    "import pandas as pd # data processing, CSV file I/O (e.g. pd.read_csv)\n",
    "import seaborn as sns\n",
    "import os\n",
    "import matplotlib.pyplot as plt\n",
    "import warnings \n",
    "warnings.filterwarnings('ignore')"
   ]
  },
  {
   "cell_type": "code",
   "execution_count": 2,
   "id": "59be8cf9",
   "metadata": {},
   "outputs": [],
   "source": [
    "df = pd.read_csv('D:/DCU/CA660_Stats/Assignment1/Amsterdam_Netherlands/Intermediate/Merged_Clean.csv')"
   ]
  },
  {
   "cell_type": "code",
   "execution_count": 3,
   "id": "a511cd8a",
   "metadata": {},
   "outputs": [
    {
     "data": {
      "text/html": [
       "<div>\n",
       "<style scoped>\n",
       "    .dataframe tbody tr th:only-of-type {\n",
       "        vertical-align: middle;\n",
       "    }\n",
       "\n",
       "    .dataframe tbody tr th {\n",
       "        vertical-align: top;\n",
       "    }\n",
       "\n",
       "    .dataframe thead th {\n",
       "        text-align: right;\n",
       "    }\n",
       "</style>\n",
       "<table border=\"1\" class=\"dataframe\">\n",
       "  <thead>\n",
       "    <tr style=\"text-align: right;\">\n",
       "      <th></th>\n",
       "      <th>id</th>\n",
       "      <th>host_id</th>\n",
       "      <th>host_response_time</th>\n",
       "      <th>host_response_rate</th>\n",
       "      <th>host_is_superhost</th>\n",
       "      <th>host_listings_count</th>\n",
       "      <th>host_has_profile_pic</th>\n",
       "      <th>host_identity_verified</th>\n",
       "      <th>neighbourhood</th>\n",
       "      <th>neighbourhood_cleansed</th>\n",
       "      <th>...</th>\n",
       "      <th>instant_bookable</th>\n",
       "      <th>reviews_per_month</th>\n",
       "      <th>date</th>\n",
       "      <th>available</th>\n",
       "      <th>price_y</th>\n",
       "      <th>adjusted_price</th>\n",
       "      <th>minimum_nights_y</th>\n",
       "      <th>maximum_nights_y</th>\n",
       "      <th>Mean_Sent_Pol</th>\n",
       "      <th>Total_Review_By_Listing</th>\n",
       "    </tr>\n",
       "  </thead>\n",
       "  <tbody>\n",
       "    <tr>\n",
       "      <th>0</th>\n",
       "      <td>2818</td>\n",
       "      <td>3159</td>\n",
       "      <td>within an hour</td>\n",
       "      <td>1.0</td>\n",
       "      <td>t</td>\n",
       "      <td>1.0</td>\n",
       "      <td>t</td>\n",
       "      <td>t</td>\n",
       "      <td>Amsterdam, North Holland, Netherlands</td>\n",
       "      <td>Oostelijk Havengebied - Indische Buurt</td>\n",
       "      <td>...</td>\n",
       "      <td>t</td>\n",
       "      <td>2.83</td>\n",
       "      <td>2021-11-04</td>\n",
       "      <td>f</td>\n",
       "      <td>59.0</td>\n",
       "      <td>59.0</td>\n",
       "      <td>3</td>\n",
       "      <td>1125</td>\n",
       "      <td>0.383577</td>\n",
       "      <td>239</td>\n",
       "    </tr>\n",
       "    <tr>\n",
       "      <th>1</th>\n",
       "      <td>2818</td>\n",
       "      <td>3159</td>\n",
       "      <td>within an hour</td>\n",
       "      <td>1.0</td>\n",
       "      <td>t</td>\n",
       "      <td>1.0</td>\n",
       "      <td>t</td>\n",
       "      <td>t</td>\n",
       "      <td>Amsterdam, North Holland, Netherlands</td>\n",
       "      <td>Oostelijk Havengebied - Indische Buurt</td>\n",
       "      <td>...</td>\n",
       "      <td>t</td>\n",
       "      <td>2.83</td>\n",
       "      <td>2021-12-02</td>\n",
       "      <td>f</td>\n",
       "      <td>69.0</td>\n",
       "      <td>69.0</td>\n",
       "      <td>3</td>\n",
       "      <td>1125</td>\n",
       "      <td>0.383577</td>\n",
       "      <td>239</td>\n",
       "    </tr>\n",
       "    <tr>\n",
       "      <th>2</th>\n",
       "      <td>2818</td>\n",
       "      <td>3159</td>\n",
       "      <td>within an hour</td>\n",
       "      <td>1.0</td>\n",
       "      <td>t</td>\n",
       "      <td>1.0</td>\n",
       "      <td>t</td>\n",
       "      <td>t</td>\n",
       "      <td>Amsterdam, North Holland, Netherlands</td>\n",
       "      <td>Oostelijk Havengebied - Indische Buurt</td>\n",
       "      <td>...</td>\n",
       "      <td>t</td>\n",
       "      <td>2.83</td>\n",
       "      <td>2021-12-28</td>\n",
       "      <td>f</td>\n",
       "      <td>61.0</td>\n",
       "      <td>61.0</td>\n",
       "      <td>3</td>\n",
       "      <td>1125</td>\n",
       "      <td>0.383577</td>\n",
       "      <td>239</td>\n",
       "    </tr>\n",
       "    <tr>\n",
       "      <th>3</th>\n",
       "      <td>2818</td>\n",
       "      <td>3159</td>\n",
       "      <td>within an hour</td>\n",
       "      <td>1.0</td>\n",
       "      <td>t</td>\n",
       "      <td>1.0</td>\n",
       "      <td>t</td>\n",
       "      <td>t</td>\n",
       "      <td>Amsterdam, North Holland, Netherlands</td>\n",
       "      <td>Oostelijk Havengebied - Indische Buurt</td>\n",
       "      <td>...</td>\n",
       "      <td>t</td>\n",
       "      <td>2.83</td>\n",
       "      <td>2021-12-30</td>\n",
       "      <td>f</td>\n",
       "      <td>65.0</td>\n",
       "      <td>65.0</td>\n",
       "      <td>3</td>\n",
       "      <td>1125</td>\n",
       "      <td>0.383577</td>\n",
       "      <td>239</td>\n",
       "    </tr>\n",
       "    <tr>\n",
       "      <th>4</th>\n",
       "      <td>2818</td>\n",
       "      <td>3159</td>\n",
       "      <td>within an hour</td>\n",
       "      <td>1.0</td>\n",
       "      <td>t</td>\n",
       "      <td>1.0</td>\n",
       "      <td>t</td>\n",
       "      <td>t</td>\n",
       "      <td>Amsterdam, North Holland, Netherlands</td>\n",
       "      <td>Oostelijk Havengebied - Indische Buurt</td>\n",
       "      <td>...</td>\n",
       "      <td>t</td>\n",
       "      <td>2.83</td>\n",
       "      <td>2021-12-31</td>\n",
       "      <td>f</td>\n",
       "      <td>63.0</td>\n",
       "      <td>63.0</td>\n",
       "      <td>3</td>\n",
       "      <td>1125</td>\n",
       "      <td>0.383577</td>\n",
       "      <td>239</td>\n",
       "    </tr>\n",
       "  </tbody>\n",
       "</table>\n",
       "<p>5 rows × 47 columns</p>\n",
       "</div>"
      ],
      "text/plain": [
       "     id  host_id host_response_time  host_response_rate host_is_superhost  \\\n",
       "0  2818     3159     within an hour                 1.0                 t   \n",
       "1  2818     3159     within an hour                 1.0                 t   \n",
       "2  2818     3159     within an hour                 1.0                 t   \n",
       "3  2818     3159     within an hour                 1.0                 t   \n",
       "4  2818     3159     within an hour                 1.0                 t   \n",
       "\n",
       "   host_listings_count host_has_profile_pic host_identity_verified  \\\n",
       "0                  1.0                    t                      t   \n",
       "1                  1.0                    t                      t   \n",
       "2                  1.0                    t                      t   \n",
       "3                  1.0                    t                      t   \n",
       "4                  1.0                    t                      t   \n",
       "\n",
       "                           neighbourhood  \\\n",
       "0  Amsterdam, North Holland, Netherlands   \n",
       "1  Amsterdam, North Holland, Netherlands   \n",
       "2  Amsterdam, North Holland, Netherlands   \n",
       "3  Amsterdam, North Holland, Netherlands   \n",
       "4  Amsterdam, North Holland, Netherlands   \n",
       "\n",
       "                   neighbourhood_cleansed  ...  instant_bookable  \\\n",
       "0  Oostelijk Havengebied - Indische Buurt  ...                 t   \n",
       "1  Oostelijk Havengebied - Indische Buurt  ...                 t   \n",
       "2  Oostelijk Havengebied - Indische Buurt  ...                 t   \n",
       "3  Oostelijk Havengebied - Indische Buurt  ...                 t   \n",
       "4  Oostelijk Havengebied - Indische Buurt  ...                 t   \n",
       "\n",
       "   reviews_per_month        date available  price_y adjusted_price  \\\n",
       "0               2.83  2021-11-04         f     59.0           59.0   \n",
       "1               2.83  2021-12-02         f     69.0           69.0   \n",
       "2               2.83  2021-12-28         f     61.0           61.0   \n",
       "3               2.83  2021-12-30         f     65.0           65.0   \n",
       "4               2.83  2021-12-31         f     63.0           63.0   \n",
       "\n",
       "   minimum_nights_y  maximum_nights_y Mean_Sent_Pol  Total_Review_By_Listing  \n",
       "0                 3              1125      0.383577                      239  \n",
       "1                 3              1125      0.383577                      239  \n",
       "2                 3              1125      0.383577                      239  \n",
       "3                 3              1125      0.383577                      239  \n",
       "4                 3              1125      0.383577                      239  \n",
       "\n",
       "[5 rows x 47 columns]"
      ]
     },
     "execution_count": 3,
     "metadata": {},
     "output_type": "execute_result"
    }
   ],
   "source": [
    "df.head(5)"
   ]
  },
  {
   "cell_type": "code",
   "execution_count": 4,
   "id": "6b82117b",
   "metadata": {},
   "outputs": [
    {
     "data": {
      "text/plain": [
       "id                                0\n",
       "host_id                           0\n",
       "host_response_time             6324\n",
       "host_response_rate             6324\n",
       "host_is_superhost                 0\n",
       "host_listings_count              15\n",
       "host_has_profile_pic              0\n",
       "host_identity_verified            0\n",
       "neighbourhood                     0\n",
       "neighbourhood_cleansed            0\n",
       "latitude                          0\n",
       "longitude                         0\n",
       "property_type                     0\n",
       "room_type                         0\n",
       "accommodates                      0\n",
       "bathrooms_text                   93\n",
       "bedrooms                       1869\n",
       "beds                            707\n",
       "amenities                         0\n",
       "price_x                           0\n",
       "minimum_nights_x                  0\n",
       "maximum_nights_x                  0\n",
       "has_availability                  0\n",
       "availability_30                   0\n",
       "availability_60                   0\n",
       "availability_90                   0\n",
       "availability_365                  0\n",
       "number_of_reviews                 0\n",
       "number_of_reviews_ltm             0\n",
       "number_of_reviews_l30d            0\n",
       "review_scores_rating              0\n",
       "review_scores_accuracy           18\n",
       "review_scores_cleanliness        18\n",
       "review_scores_checkin            18\n",
       "review_scores_communication      18\n",
       "review_scores_location           18\n",
       "review_scores_value              18\n",
       "instant_bookable                  0\n",
       "reviews_per_month                 0\n",
       "date                              0\n",
       "available                         0\n",
       "price_y                           0\n",
       "adjusted_price                    0\n",
       "minimum_nights_y                  0\n",
       "maximum_nights_y                  0\n",
       "Mean_Sent_Pol                     0\n",
       "Total_Review_By_Listing           0\n",
       "dtype: int64"
      ]
     },
     "execution_count": 4,
     "metadata": {},
     "output_type": "execute_result"
    }
   ],
   "source": [
    "df.isnull().sum()"
   ]
  },
  {
   "cell_type": "code",
   "execution_count": 5,
   "id": "acc1a8c3",
   "metadata": {},
   "outputs": [
    {
     "name": "stdout",
     "output_type": "stream",
     "text": [
      "<class 'pandas.core.frame.DataFrame'>\n",
      "RangeIndex: 29842 entries, 0 to 29841\n",
      "Data columns (total 47 columns):\n",
      " #   Column                       Non-Null Count  Dtype  \n",
      "---  ------                       --------------  -----  \n",
      " 0   id                           29842 non-null  int64  \n",
      " 1   host_id                      29842 non-null  int64  \n",
      " 2   host_response_time           23518 non-null  object \n",
      " 3   host_response_rate           23518 non-null  float64\n",
      " 4   host_is_superhost            29842 non-null  object \n",
      " 5   host_listings_count          29827 non-null  float64\n",
      " 6   host_has_profile_pic         29842 non-null  object \n",
      " 7   host_identity_verified       29842 non-null  object \n",
      " 8   neighbourhood                29842 non-null  object \n",
      " 9   neighbourhood_cleansed       29842 non-null  object \n",
      " 10  latitude                     29842 non-null  float64\n",
      " 11  longitude                    29842 non-null  float64\n",
      " 12  property_type                29842 non-null  object \n",
      " 13  room_type                    29842 non-null  object \n",
      " 14  accommodates                 29842 non-null  int64  \n",
      " 15  bathrooms_text               29749 non-null  object \n",
      " 16  bedrooms                     27973 non-null  float64\n",
      " 17  beds                         29135 non-null  float64\n",
      " 18  amenities                    29842 non-null  object \n",
      " 19  price_x                      29842 non-null  float64\n",
      " 20  minimum_nights_x             29842 non-null  int64  \n",
      " 21  maximum_nights_x             29842 non-null  int64  \n",
      " 22  has_availability             29842 non-null  object \n",
      " 23  availability_30              29842 non-null  int64  \n",
      " 24  availability_60              29842 non-null  int64  \n",
      " 25  availability_90              29842 non-null  int64  \n",
      " 26  availability_365             29842 non-null  int64  \n",
      " 27  number_of_reviews            29842 non-null  int64  \n",
      " 28  number_of_reviews_ltm        29842 non-null  int64  \n",
      " 29  number_of_reviews_l30d       29842 non-null  int64  \n",
      " 30  review_scores_rating         29842 non-null  float64\n",
      " 31  review_scores_accuracy       29824 non-null  float64\n",
      " 32  review_scores_cleanliness    29824 non-null  float64\n",
      " 33  review_scores_checkin        29824 non-null  float64\n",
      " 34  review_scores_communication  29824 non-null  float64\n",
      " 35  review_scores_location       29824 non-null  float64\n",
      " 36  review_scores_value          29824 non-null  float64\n",
      " 37  instant_bookable             29842 non-null  object \n",
      " 38  reviews_per_month            29842 non-null  float64\n",
      " 39  date                         29842 non-null  object \n",
      " 40  available                    29842 non-null  object \n",
      " 41  price_y                      29842 non-null  float64\n",
      " 42  adjusted_price               29842 non-null  float64\n",
      " 43  minimum_nights_y             29842 non-null  int64  \n",
      " 44  maximum_nights_y             29842 non-null  int64  \n",
      " 45  Mean_Sent_Pol                29842 non-null  float64\n",
      " 46  Total_Review_By_Listing      29842 non-null  int64  \n",
      "dtypes: float64(18), int64(15), object(14)\n",
      "memory usage: 10.7+ MB\n"
     ]
    }
   ],
   "source": [
    "df.info()"
   ]
  },
  {
   "cell_type": "code",
   "execution_count": 6,
   "id": "82b709b4",
   "metadata": {},
   "outputs": [
    {
     "data": {
      "text/plain": [
       "0    2.83\n",
       "1    2.83\n",
       "2    2.83\n",
       "3    2.83\n",
       "4    2.83\n",
       "5    2.83\n",
       "6    2.83\n",
       "7    2.83\n",
       "8    2.83\n",
       "9    2.83\n",
       "Name: reviews_per_month, dtype: float64"
      ]
     },
     "execution_count": 6,
     "metadata": {},
     "output_type": "execute_result"
    }
   ],
   "source": [
    "df['reviews_per_month'].head(10)"
   ]
  },
  {
   "cell_type": "code",
   "execution_count": 7,
   "id": "c3937a26",
   "metadata": {},
   "outputs": [
    {
     "data": {
      "text/plain": [
       "1.8689012130554266"
      ]
     },
     "execution_count": 7,
     "metadata": {},
     "output_type": "execute_result"
    }
   ],
   "source": [
    "df['reviews_per_month'].mean()"
   ]
  },
  {
   "cell_type": "code",
   "execution_count": 8,
   "id": "59ddb5eb",
   "metadata": {},
   "outputs": [],
   "source": [
    "df=df.dropna()"
   ]
  },
  {
   "cell_type": "code",
   "execution_count": 9,
   "id": "ee9941f4",
   "metadata": {},
   "outputs": [
    {
     "data": {
      "text/plain": [
       "id                             0\n",
       "host_id                        0\n",
       "host_response_time             0\n",
       "host_response_rate             0\n",
       "host_is_superhost              0\n",
       "host_listings_count            0\n",
       "host_has_profile_pic           0\n",
       "host_identity_verified         0\n",
       "neighbourhood                  0\n",
       "neighbourhood_cleansed         0\n",
       "latitude                       0\n",
       "longitude                      0\n",
       "property_type                  0\n",
       "room_type                      0\n",
       "accommodates                   0\n",
       "bathrooms_text                 0\n",
       "bedrooms                       0\n",
       "beds                           0\n",
       "amenities                      0\n",
       "price_x                        0\n",
       "minimum_nights_x               0\n",
       "maximum_nights_x               0\n",
       "has_availability               0\n",
       "availability_30                0\n",
       "availability_60                0\n",
       "availability_90                0\n",
       "availability_365               0\n",
       "number_of_reviews              0\n",
       "number_of_reviews_ltm          0\n",
       "number_of_reviews_l30d         0\n",
       "review_scores_rating           0\n",
       "review_scores_accuracy         0\n",
       "review_scores_cleanliness      0\n",
       "review_scores_checkin          0\n",
       "review_scores_communication    0\n",
       "review_scores_location         0\n",
       "review_scores_value            0\n",
       "instant_bookable               0\n",
       "reviews_per_month              0\n",
       "date                           0\n",
       "available                      0\n",
       "price_y                        0\n",
       "adjusted_price                 0\n",
       "minimum_nights_y               0\n",
       "maximum_nights_y               0\n",
       "Mean_Sent_Pol                  0\n",
       "Total_Review_By_Listing        0\n",
       "dtype: int64"
      ]
     },
     "execution_count": 9,
     "metadata": {},
     "output_type": "execute_result"
    }
   ],
   "source": [
    "df.isnull().sum()"
   ]
  },
  {
   "cell_type": "code",
   "execution_count": 11,
   "id": "1ad6f9bb",
   "metadata": {},
   "outputs": [
    {
     "data": {
      "text/plain": [
       "count    21562.000000\n",
       "mean       153.703599\n",
       "std         88.322812\n",
       "min          9.000000\n",
       "25%         95.000000\n",
       "50%        136.000000\n",
       "75%        187.000000\n",
       "max       1399.000000\n",
       "Name: price_x, dtype: float64"
      ]
     },
     "execution_count": 11,
     "metadata": {},
     "output_type": "execute_result"
    }
   ],
   "source": [
    "df['price_x'].describe()"
   ]
  },
  {
   "cell_type": "code",
   "execution_count": 12,
   "id": "ec47aaa2",
   "metadata": {},
   "outputs": [],
   "source": [
    "Q1 = df['price_x'].quantile(0.25)\n",
    "Q3 = df['price_x'].quantile(0.75)\n",
    "IQR=Q3-Q1\n",
    "df = df[~((df['price_x']<(Q1-1.5*IQR))|(df['price_x']>(Q3+1.5-IQR)))]"
   ]
  },
  {
   "cell_type": "markdown",
   "id": "affa8819",
   "metadata": {},
   "source": [
    "Testing Distribution of Price using Shapiro Test"
   ]
  },
  {
   "cell_type": "code",
   "execution_count": 14,
   "id": "b737a922",
   "metadata": {},
   "outputs": [
    {
     "data": {
      "image/png": "[encoded data removed]",
      "text/plain": [
       "<Figure size 720x504 with 1 Axes>"
      ]
     },
     "metadata": {
      "needs_background": "light"
     },
     "output_type": "display_data"
    }
   ],
   "source": [
    "plt.figure(figsize=(10,7))\n",
    "sns.distplot(df.price_x,color='b')\n",
    "plt.xlabel(\"Price\")\n",
    "plt.title(\"Distribution of Price of Apartments\")\n",
    "plt.show()"
   ]
  },
  {
   "cell_type": "markdown",
   "id": "cba73026",
   "metadata": {},
   "source": [
    "Ho = Distribution is normal\n",
    "Ha= Distribution of price is not normal"
   ]
  },
  {
   "cell_type": "markdown",
   "id": "bf29ab82",
   "metadata": {},
   "source": [
    "Using Shapiro test provided by scipy library"
   ]
  },
  {
   "cell_type": "code",
   "execution_count": 15,
   "id": "92f4b451",
   "metadata": {},
   "outputs": [
    {
     "data": {
      "text/plain": [
       "ShapiroResult(statistic=0.9145455360412598, pvalue=0.0)"
      ]
     },
     "execution_count": 15,
     "metadata": {},
     "output_type": "execute_result"
    }
   ],
   "source": [
    "import scipy.stats as st\n",
    "st.shapiro(df.price_x)"
   ]
  },
  {
   "cell_type": "markdown",
   "id": "580532bc",
   "metadata": {},
   "source": [
    "Our test value is 0.914 which is greater than p-value, So we need to reject the hypothesis. In our merged dataset of listing,calendar and reviews, the distribution is not normal"
   ]
  },
  {
   "cell_type": "markdown",
   "id": "5afd93fd",
   "metadata": {},
   "source": [
    "Since we are testing variance on we are using Levene, test we will test below hypothesis:\n",
    "\n",
    "Ho (null hypothesis): The variance of all room types (private, shared_room,hotel and entire_home are equal\n",
    "Ha (alternate hypothesis): The variance of all room types (private, shared_room,hotel and entire_home are equal"
   ]
  },
  {
   "cell_type": "code",
   "execution_count": 21,
   "id": "8a21c958",
   "metadata": {},
   "outputs": [],
   "source": [
    "pvt = df[df['room_type'] == 'Private room']\n",
    "share = df[df['room_type'] == 'Shared room']\n",
    "apt = df[df['room_type'] == 'Entire home/apt']\n",
    "htl = df[df['room_type'] == 'Hotel room']"
   ]
  },
  {
   "cell_type": "code",
   "execution_count": 22,
   "id": "d69e615c",
   "metadata": {},
   "outputs": [
    {
     "data": {
      "text/plain": [
       "LeveneResult(statistic=130.48236914308492, pvalue=1.0390251795226972e-81)"
      ]
     },
     "execution_count": 22,
     "metadata": {},
     "output_type": "execute_result"
    }
   ],
   "source": [
    "import scipy.stats as st\n",
    "st.levene(pvt.price_x, share.price_x, apt.price_x,htl.price_x)"
   ]
  },
  {
   "cell_type": "markdown",
   "id": "2c379ae8",
   "metadata": {},
   "source": [
    "Since the p value is less than  alpha =5%, we will reject this hypothesis. So, we can conclude that the rooom types have different variances."
   ]
  },
  {
   "cell_type": "code",
   "execution_count": 43,
   "id": "3ac8be0f",
   "metadata": {},
   "outputs": [
    {
     "data": {
      "image/png": "[encoded data removed]",
      "text/plain": [
       "<Figure size 720x432 with 1 Axes>"
      ]
     },
     "metadata": {
      "needs_background": "light"
     },
     "output_type": "display_data"
    }
   ],
   "source": [
    "plt.figure(figsize=(10,6))\n",
    "plt.title(\"Variance of Room Types\")\n",
    "sns.boxplot(y='price_x',x='room_type',data=df)\n",
    "plt.show()"
   ]
  },
  {
   "cell_type": "markdown",
   "id": "076824b1",
   "metadata": {},
   "source": [
    "Perfoming One Anova Test to determine dependency of price of listing on neighbourhood as neighbourhood is a categorical value and has more than one categories"
   ]
  },
  {
   "cell_type": "code",
   "execution_count": 28,
   "id": "6ce36942",
   "metadata": {},
   "outputs": [
    {
     "data": {
      "text/plain": [
       "array(['Oostelijk Havengebied - Indische Buurt', 'Centrum-West',\n",
       "       'Centrum-Oost', 'Slotervaart', 'De Baarsjes - Oud-West',\n",
       "       'Westerpark', 'Zuid', 'Noord-Oost', 'Oud-Noord',\n",
       "       'De Pijp - Rivierenbuurt', 'Geuzenveld - Slotermeer', 'Oud-Oost',\n",
       "       'Noord-West', 'Buitenveldert - Zuidas', 'Osdorp',\n",
       "       'Bijlmer-Centrum', 'Gaasperdam - Driemond',\n",
       "       'De Aker - Nieuw Sloten', 'Bos en Lommer', 'Watergraafsmeer',\n",
       "       'IJburg - Zeeburgereiland', 'Bijlmer-Oost'], dtype=object)"
      ]
     },
     "execution_count": 28,
     "metadata": {},
     "output_type": "execute_result"
    }
   ],
   "source": [
    "df['neighbourhood_cleansed'].unique()"
   ]
  },
  {
   "cell_type": "code",
   "execution_count": 35,
   "id": "82ea50d7",
   "metadata": {},
   "outputs": [],
   "source": [
    "a= df[df['neighbourhood_cleansed'] == 'Oostelijk Havengebied - Indische Buurt']['price_x']\n",
    "b= df[df['neighbourhood_cleansed'] == 'Centrum-West']['price_x']\n",
    "c= df[df['neighbourhood_cleansed'] == 'Slotervaart']['price_x']\n",
    "d = df[df['neighbourhood_cleansed'] == 'Centrum-Oost']['price_x']\n",
    "e = df[df['neighbourhood_cleansed'] == 'De Baarsjes - Oud-West']['price_x']\n",
    "f = df[df['neighbourhood_cleansed'] == 'Westerpark']['price_x']\n",
    "g = df[df['neighbourhood_cleansed'] == 'Zuid']['price_x']\n",
    "h = df[df['neighbourhood_cleansed'] == 'Noord-Oost']['price_x']\n",
    "i = df[df['neighbourhood_cleansed'] == 'Oud-Noord']['price_x']\n",
    "j = df[df['neighbourhood_cleansed'] == 'De Pijp - Rivierenbuurt']['price_x']\n",
    "k = df[df['neighbourhood_cleansed'] == 'Geuzenveld - Slotermeer']['price_x']\n",
    "l = df[df['neighbourhood_cleansed'] == 'Oud-Oost']['price_x']\n",
    "m = df[df['neighbourhood_cleansed'] == 'Osdorp']['price_x']\n",
    "n = df[df['neighbourhood_cleansed'] == 'Buitenveldert - Zuidas']['price_x']\n",
    "o = df[df['neighbourhood_cleansed'] == 'Noord-West']['price_x']\n",
    "p = df[df['neighbourhood_cleansed'] == 'Bijlmer-Centrum']['price_x']\n",
    "q = df[df['neighbourhood_cleansed'] == 'Gaasperdam - Driemond']['price_x']\n",
    "r = df[df['neighbourhood_cleansed'] == 'Bos en Lommer']['price_x']\n",
    "s = df[df['neighbourhood_cleansed'] == 'De Aker - Nieuw Sloten']['price_x']\n",
    "t = df[df['neighbourhood_cleansed'] == 'Watergraafsmeer']['price_x']\n",
    "u = df[df['neighbourhood_cleansed'] == 'IJburg - Zeeburgereiland']['price_x']\n",
    "v = df[df['neighbourhood_cleansed'] == 'Bijlmer-Oost']['price_x']"
   ]
  },
  {
   "cell_type": "markdown",
   "id": "db60467a",
   "metadata": {},
   "source": [
    "Ho= Mean Price is same for all Neighbourhoods\n",
    "Ha= Mean Price is not same for all Neighbourhoods"
   ]
  },
  {
   "cell_type": "code",
   "execution_count": 37,
   "id": "84926f40",
   "metadata": {},
   "outputs": [
    {
     "data": {
      "text/plain": [
       "F_onewayResult(statistic=61.19193872087742, pvalue=3.959271066038013e-232)"
      ]
     },
     "execution_count": 37,
     "metadata": {},
     "output_type": "execute_result"
    }
   ],
   "source": [
    "st.f_oneway(a,b,c,d,e,f,g,h,i,j,k,l,m,n,o,p,q,r,s,t,u,v)"
   ]
  },
  {
   "cell_type": "markdown",
   "id": "c30922b9",
   "metadata": {},
   "source": [
    "As p-value is less than 0.05(alpha vale), we need to go with alternate hypothesis that mean prices of listings are not same across neighbourhoods of Amsterdam"
   ]
  },
  {
   "cell_type": "code",
   "execution_count": 44,
   "id": "a8716bd1",
   "metadata": {},
   "outputs": [
    {
     "data": {
      "image/png": "[encoded data removed]",
      "text/plain": [
       "<Figure size 432x288 with 1 Axes>"
      ]
     },
     "metadata": {
      "needs_background": "light"
     },
     "output_type": "display_data"
    }
   ],
   "source": [
    "neighbour = ['Oostelijk Havengebied - Indische Buurt','Centrum-West','Slotervaart','Centrum-Oost','De Baarsjes - Oud-West','Westerpark','Zuid','Noord-Oost','Oud-Noord','De Pijp - Rivierenbuurt','Geuzenveld - Slotermeer','Oud-Oost','Osdorp','Buitenveldert - Zuidas','Noord-West','Bijlmer-Centrum','Gaasperdam - Driemond','Bos en Lommer','De Aker - Nieuw Sloten','Watergraafsmeer','IJburg - Zeeburgereiland','Bijlmer-Oost']\n",
    "x = pd.DataFrame([a.mean(),b.mean(),c.mean(),d.mean(),e.mean(),f.mean(),g.mean(),h.mean(),i.mean(),j.mean(),k.mean(),l.mean(),m.mean(),n.mean(),o.mean(),p.mean(),q.mean(),r.mean(),s.mean(),t.mean(),u.mean(),v.mean()], index=neighbour)\n",
    "x.plot.bar(color='m')\n",
    "plt.title(\"Mean Price of Listings across Neighbourhoods\")\n",
    "plt.show()"
   ]
  },
  {
   "cell_type": "markdown",
   "id": "a251ed43",
   "metadata": {},
   "source": [
    "We are testing Relation Between Room Type and Neighbourhood\n",
    "Since both are categorical variables having more than 2 categories, we will use Chi-Square Test"
   ]
  },
  {
   "cell_type": "markdown",
   "id": "cb455936",
   "metadata": {},
   "source": [
    "Ho (null hypothesis): There is no relation between Room Type and Neighbourhood Group.\n",
    "\n",
    "Ha (alternate hypothesis): There is an relation between Room Type and Neighbourhood Group"
   ]
  },
  {
   "cell_type": "code",
   "execution_count": 50,
   "id": "26d22309",
   "metadata": {},
   "outputs": [],
   "source": [
    "tab = pd.crosstab(df['room_type'],df['neighbourhood_cleansed'])"
   ]
  },
  {
   "cell_type": "code",
   "execution_count": 51,
   "id": "1c5a6a58",
   "metadata": {},
   "outputs": [
    {
     "data": {
      "text/plain": [
       "(3483.3534362203263,\n",
       " 0.0,\n",
       " 63,\n",
       " array([[7.67806268e+00, 1.91951567e+00, 3.57029915e+01, 8.25391738e+00,\n",
       "         9.57838319e+01, 2.25543091e+02, 1.47802707e+01, 1.73140313e+02,\n",
       "         8.56103989e+01, 1.07492877e+01, 1.76595442e+01, 9.98148148e+00,\n",
       "         1.61239316e+01, 5.04832621e+01, 4.28051994e+01, 1.24768519e+01,\n",
       "         5.72015670e+01, 5.62418091e+01, 2.09227208e+01, 1.42044160e+01,\n",
       "         4.14615385e+01, 7.92759972e+01],\n",
       "        [2.77777778e+00, 6.94444444e-01, 1.29166667e+01, 2.98611111e+00,\n",
       "         3.46527778e+01, 8.15972222e+01, 5.34722222e+00, 6.26388889e+01,\n",
       "         3.09722222e+01, 3.88888889e+00, 6.38888889e+00, 3.61111111e+00,\n",
       "         5.83333333e+00, 1.82638889e+01, 1.54861111e+01, 4.51388889e+00,\n",
       "         2.06944444e+01, 2.03472222e+01, 7.56944444e+00, 5.13888889e+00,\n",
       "         1.50000000e+01, 2.86805556e+01],\n",
       "        [2.84330484e+01, 7.10826211e+00, 1.32213675e+02, 3.05655271e+01,\n",
       "         3.54702279e+02, 8.35220798e+02, 5.47336182e+01, 6.41165242e+02,\n",
       "         3.17028490e+02, 3.98062678e+01, 6.53960114e+01, 3.69629630e+01,\n",
       "         5.97094017e+01, 1.86947293e+02, 1.58514245e+02, 4.62037037e+01,\n",
       "         2.11826211e+02, 2.08272080e+02, 7.74800570e+01, 5.26011396e+01,\n",
       "         1.53538462e+02, 2.93571225e+02],\n",
       "        [1.11111111e+00, 2.77777778e-01, 5.16666667e+00, 1.19444444e+00,\n",
       "         1.38611111e+01, 3.26388889e+01, 2.13888889e+00, 2.50555556e+01,\n",
       "         1.23888889e+01, 1.55555556e+00, 2.55555556e+00, 1.44444444e+00,\n",
       "         2.33333333e+00, 7.30555556e+00, 6.19444444e+00, 1.80555556e+00,\n",
       "         8.27777778e+00, 8.13888889e+00, 3.02777778e+00, 2.05555556e+00,\n",
       "         6.00000000e+00, 1.14722222e+01]]))"
      ]
     },
     "execution_count": 51,
     "metadata": {},
     "output_type": "execute_result"
    }
   ],
   "source": [
    "st.chi2_contingency(tab)"
   ]
  },
  {
   "cell_type": "markdown",
   "id": "644a6600",
   "metadata": {},
   "source": [
    "Since p-value(0.0) is less than test value, we will reject the NULL hypothesis. There is a relation between neighbourhood and the room type available "
   ]
  },
  {
   "cell_type": "code",
   "execution_count": 55,
   "id": "7ee51126",
   "metadata": {},
   "outputs": [
    {
     "data": {
      "image/png": "[encoded data removed]",
      "text/plain": [
       "<Figure size 432x288 with 1 Axes>"
      ]
     },
     "metadata": {
      "needs_background": "light"
     },
     "output_type": "display_data"
    }
   ],
   "source": [
    "ct = pd.crosstab(df['neighbourhood_cleansed'],df['room_type'])\n",
    "ct.plot.bar(stacked=True)\n",
    "plt.show()"
   ]
  },
  {
   "cell_type": "code",
   "execution_count": null,
   "id": "bb938d96",
   "metadata": {},
   "outputs": [],
   "source": []
  }
 ],
 "metadata": {
  "kernelspec": {
   "display_name": "Python 3",
   "language": "python",
   "name": "python3"
  },
  "language_info": {
   "codemirror_mode": {
    "name": "ipython",
    "version": 3
   },
   "file_extension": ".py",
   "mimetype": "text/x-python",
   "name": "python",
   "nbconvert_exporter": "python",
   "pygments_lexer": "ipython3",
   "version": "3.8.8"
  }
 },
 "nbformat": 4,
 "nbformat_minor": 5
}
