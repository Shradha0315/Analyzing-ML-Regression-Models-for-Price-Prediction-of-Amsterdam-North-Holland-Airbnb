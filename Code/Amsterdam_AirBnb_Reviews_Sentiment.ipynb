{
 "cells": [
  {
   "cell_type": "markdown",
   "metadata": {
    "id": "9LbOsVYg9JNi"
   },
   "source": [
    "Calculating Sentiment Score of Reviews.csv¶"
   ]
  },
  {
   "cell_type": "markdown",
   "metadata": {
    "id": "GSVdEu8b9XUE"
   },
   "source": [
    "Connecting to Google Drive and obtaining the raw data of reviews"
   ]
  },
  {
   "cell_type": "code",
   "execution_count": 1,
   "metadata": {
    "id": "c2siKLdEtaB-"
   },
   "outputs": [],
   "source": [
    "import glob\n",
    "import pandas as pd\n",
    "import numpy as np\n",
    "import os\n",
    "from datetime import date\n",
    "today = date.today()\n",
    "import matplotlib.pyplot as plt\n",
    "import seaborn as sns\n",
    "from pathlib import Path\n",
    "from os.path import basename\n",
    "from datetime import datetime, timedelta\n",
    "sns.set_context(\"talk\")\n",
    "import scipy.stats as statsimport \n",
    "import pandas as pd\n",
    "import numpy as np\n",
    "import matplotlib.pyplot as plt\n",
    "import re\n",
    "from textblob import TextBlob"
   ]
  },
  {
   "cell_type": "markdown",
   "metadata": {
    "id": "W0DklFHf9d9C"
   },
   "source": []
  },
  {
   "cell_type": "code",
   "execution_count": 2,
   "metadata": {
    "id": "O9m0GC8ntGKU"
   },
   "outputs": [],
   "source": [
    "df = pd.read_csv('D:/DCU/CA660_Stats/Assignment1/Amsterdam_Netherlands/RawDataset/reviews.csv')\n",
    "# Dataset is now stored in a Pandas Dataframe"
   ]
  },
  {
   "cell_type": "code",
   "execution_count": 3,
   "metadata": {
    "colab": {
     "base_uri": "https://localhost:8080/"
    },
    "id": "_0HL208XtfEj",
    "outputId": "2be674f2-1f7f-44b1-8298-99d29f63071b"
   },
   "outputs": [
    {
     "data": {
      "text/plain": [
       "(266861, 6)"
      ]
     },
     "execution_count": 3,
     "metadata": {},
     "output_type": "execute_result"
    }
   ],
   "source": [
    "df.shape"
   ]
  },
  {
   "cell_type": "markdown",
   "metadata": {
    "id": "I_isH3zr9hP1"
   },
   "source": [
    "Dropping Comments having NULL values"
   ]
  },
  {
   "cell_type": "code",
   "execution_count": 4,
   "metadata": {
    "id": "O0J-CyBLtidc"
   },
   "outputs": [],
   "source": [
    "empty_list=[]\n",
    "for i in range(len(df['comments'])):\n",
    "    if type(df['comments'][i]) == float:\n",
    "        empty_list.append(i)"
   ]
  },
  {
   "cell_type": "code",
   "execution_count": 5,
   "metadata": {
    "id": "oQQxyie5tkWY"
   },
   "outputs": [],
   "source": [
    "df.drop(df.index[empty_list], inplace=True)"
   ]
  },
  {
   "cell_type": "code",
   "execution_count": 6,
   "metadata": {
    "colab": {
     "base_uri": "https://localhost:8080/"
    },
    "id": "6rULKPfqtlNJ",
    "outputId": "7f37eeb9-dfc5-42ff-bda4-f598f25a6979"
   },
   "outputs": [
    {
     "data": {
      "text/plain": [
       "(266622, 6)"
      ]
     },
     "execution_count": 6,
     "metadata": {},
     "output_type": "execute_result"
    }
   ],
   "source": [
    "df.shape"
   ]
  },
  {
   "cell_type": "code",
   "execution_count": 7,
   "metadata": {
    "id": "nL6vFbUNtq6T"
   },
   "outputs": [],
   "source": [
    "df['comments'] = df['comments'].astype(str)"
   ]
  },
  {
   "cell_type": "code",
   "execution_count": 8,
   "metadata": {
    "colab": {
     "base_uri": "https://localhost:8080/",
     "height": 363
    },
    "id": "I0ByLzQ6ts0H",
    "outputId": "f298780f-0725-424d-f1a2-2b9b51fc91e4"
   },
   "outputs": [
    {
     "data": {
      "text/html": [
       "<div>\n",
       "<style scoped>\n",
       "    .dataframe tbody tr th:only-of-type {\n",
       "        vertical-align: middle;\n",
       "    }\n",
       "\n",
       "    .dataframe tbody tr th {\n",
       "        vertical-align: top;\n",
       "    }\n",
       "\n",
       "    .dataframe thead th {\n",
       "        text-align: right;\n",
       "    }\n",
       "</style>\n",
       "<table border=\"1\" class=\"dataframe\">\n",
       "  <thead>\n",
       "    <tr style=\"text-align: right;\">\n",
       "      <th></th>\n",
       "      <th>listing_id</th>\n",
       "      <th>id</th>\n",
       "      <th>date</th>\n",
       "      <th>reviewer_id</th>\n",
       "      <th>reviewer_name</th>\n",
       "      <th>comments</th>\n",
       "    </tr>\n",
       "  </thead>\n",
       "  <tbody>\n",
       "    <tr>\n",
       "      <th>106275</th>\n",
       "      <td>6571994</td>\n",
       "      <td>591963778</td>\n",
       "      <td>2020-01-12</td>\n",
       "      <td>34029081</td>\n",
       "      <td>Beatriz</td>\n",
       "      <td>Anne's place is awesome. A clean cosy home, no...</td>\n",
       "    </tr>\n",
       "    <tr>\n",
       "      <th>214990</th>\n",
       "      <td>23587213</td>\n",
       "      <td>653722998</td>\n",
       "      <td>2020-08-20</td>\n",
       "      <td>297370492</td>\n",
       "      <td>Elisabeth</td>\n",
       "      <td>Staying on Roel and Malou‘s boat is such a uni...</td>\n",
       "    </tr>\n",
       "    <tr>\n",
       "      <th>20551</th>\n",
       "      <td>690757</td>\n",
       "      <td>32532701</td>\n",
       "      <td>2015-05-19</td>\n",
       "      <td>28693512</td>\n",
       "      <td>Shan Shan</td>\n",
       "      <td>L'appartement est très bien entretenu, chic et...</td>\n",
       "    </tr>\n",
       "    <tr>\n",
       "      <th>124344</th>\n",
       "      <td>9003963</td>\n",
       "      <td>156353414</td>\n",
       "      <td>2017-05-30</td>\n",
       "      <td>396824</td>\n",
       "      <td>Tam-Anh</td>\n",
       "      <td>Very communicative and welcoming host! Lovely ...</td>\n",
       "    </tr>\n",
       "    <tr>\n",
       "      <th>215347</th>\n",
       "      <td>23628998</td>\n",
       "      <td>269927570</td>\n",
       "      <td>2018-05-28</td>\n",
       "      <td>187418430</td>\n",
       "      <td>Noy</td>\n",
       "      <td>A beautiful and cozy apartment. The host left ...</td>\n",
       "    </tr>\n",
       "    <tr>\n",
       "      <th>121891</th>\n",
       "      <td>8660698</td>\n",
       "      <td>313324646</td>\n",
       "      <td>2018-08-25</td>\n",
       "      <td>46890386</td>\n",
       "      <td>Kristina</td>\n",
       "      <td>Really a repeat of what I wrote to Mike:  I pi...</td>\n",
       "    </tr>\n",
       "    <tr>\n",
       "      <th>113087</th>\n",
       "      <td>7382576</td>\n",
       "      <td>104059304</td>\n",
       "      <td>2016-09-25</td>\n",
       "      <td>42828595</td>\n",
       "      <td>Keith</td>\n",
       "      <td>A wonderful apartment. Hans and Patty were hel...</td>\n",
       "    </tr>\n",
       "    <tr>\n",
       "      <th>177585</th>\n",
       "      <td>17470838</td>\n",
       "      <td>183439591</td>\n",
       "      <td>2017-08-17</td>\n",
       "      <td>49470881</td>\n",
       "      <td>Alessandro</td>\n",
       "      <td>L'appartamento si trova in una zona tranquilla...</td>\n",
       "    </tr>\n",
       "    <tr>\n",
       "      <th>143262</th>\n",
       "      <td>12130964</td>\n",
       "      <td>545471408</td>\n",
       "      <td>2019-10-12</td>\n",
       "      <td>160885927</td>\n",
       "      <td>Christian</td>\n",
       "      <td>Ernst is one of a kind. The space he listed wa...</td>\n",
       "    </tr>\n",
       "    <tr>\n",
       "      <th>164555</th>\n",
       "      <td>15527704</td>\n",
       "      <td>329507456</td>\n",
       "      <td>2018-09-29</td>\n",
       "      <td>186258612</td>\n",
       "      <td>Sandra</td>\n",
       "      <td>Won't be disappointed. Lovely change from busy...</td>\n",
       "    </tr>\n",
       "  </tbody>\n",
       "</table>\n",
       "</div>"
      ],
      "text/plain": [
       "        listing_id         id        date  reviewer_id reviewer_name  \\\n",
       "106275     6571994  591963778  2020-01-12     34029081       Beatriz   \n",
       "214990    23587213  653722998  2020-08-20    297370492     Elisabeth   \n",
       "20551       690757   32532701  2015-05-19     28693512     Shan Shan   \n",
       "124344     9003963  156353414  2017-05-30       396824       Tam-Anh   \n",
       "215347    23628998  269927570  2018-05-28    187418430           Noy   \n",
       "121891     8660698  313324646  2018-08-25     46890386      Kristina   \n",
       "113087     7382576  104059304  2016-09-25     42828595         Keith   \n",
       "177585    17470838  183439591  2017-08-17     49470881    Alessandro   \n",
       "143262    12130964  545471408  2019-10-12    160885927     Christian   \n",
       "164555    15527704  329507456  2018-09-29    186258612        Sandra   \n",
       "\n",
       "                                                 comments  \n",
       "106275  Anne's place is awesome. A clean cosy home, no...  \n",
       "214990  Staying on Roel and Malou‘s boat is such a uni...  \n",
       "20551   L'appartement est très bien entretenu, chic et...  \n",
       "124344  Very communicative and welcoming host! Lovely ...  \n",
       "215347  A beautiful and cozy apartment. The host left ...  \n",
       "121891  Really a repeat of what I wrote to Mike:  I pi...  \n",
       "113087  A wonderful apartment. Hans and Patty were hel...  \n",
       "177585  L'appartamento si trova in una zona tranquilla...  \n",
       "143262  Ernst is one of a kind. The space he listed wa...  \n",
       "164555  Won't be disappointed. Lovely change from busy...  "
      ]
     },
     "execution_count": 8,
     "metadata": {},
     "output_type": "execute_result"
    }
   ],
   "source": [
    "df.sample(10)"
   ]
  },
  {
   "cell_type": "markdown",
   "metadata": {
    "id": "_AonR0D09mTK"
   },
   "source": [
    "Sentiment Analysis: Using features of TextBlob to determine polarity and Subjectivity of a Comment¶"
   ]
  },
  {
   "cell_type": "code",
   "execution_count": 9,
   "metadata": {
    "id": "L5bJ2Ccytu-J"
   },
   "outputs": [],
   "source": [
    "PosExample = df.loc[0,'comments']\n",
    "NegExample = df.loc[528,'comments']"
   ]
  },
  {
   "cell_type": "code",
   "execution_count": 10,
   "metadata": {
    "colab": {
     "base_uri": "https://localhost:8080/"
    },
    "id": "nK9bIim_twh1",
    "outputId": "99087412-08c1-415f-f3e9-4fc452e1caaa"
   },
   "outputs": [
    {
     "name": "stdout",
     "output_type": "stream",
     "text": [
      "Positive Example: Daniel is really cool. The place was nice and clean. Very quiet neighborhood. He had maps and a lonely planet guide book in the room for you to use. I didnt have any trouble finding the place from Central Station. I would defintely come back! Thanks!\n"
     ]
    },
    {
     "data": {
      "text/plain": [
       "Sentiment(polarity=0.14074074074074075, subjectivity=0.4592592592592593)"
      ]
     },
     "execution_count": 10,
     "metadata": {},
     "output_type": "execute_result"
    }
   ],
   "source": [
    "# Will be using TextBlob sentiment tool. Docs found here..\n",
    "#https://textblob.readthedocs.io/en/dev/index.html\n",
    "from textblob import TextBlob\n",
    "print (f'Positive Example: {PosExample}')\n",
    "TextBlob(PosExample).sentiment"
   ]
  },
  {
   "cell_type": "code",
   "execution_count": 11,
   "metadata": {
    "colab": {
     "base_uri": "https://localhost:8080/"
    },
    "id": "mk2onsqQtyk5",
    "outputId": "e57848ed-f666-4f3e-e814-4a8ae0cf1fad"
   },
   "outputs": [
    {
     "name": "stdout",
     "output_type": "stream",
     "text": [
      "\n",
      "Negative Example: Very bad experience.<br/><br/>He glued the chewing gum on the pillow, And Alexander Always Late Reply, And He said he need to work, will give us the key very late when we’re coming.<br/>This guy is a joke, Do not try to Sleep here.\n"
     ]
    },
    {
     "data": {
      "text/plain": [
       "Sentiment(polarity=-0.3999999999999999, subjectivity=0.8116666666666668)"
      ]
     },
     "execution_count": 11,
     "metadata": {},
     "output_type": "execute_result"
    }
   ],
   "source": [
    "print (f'\\nNegative Example: {NegExample}')\n",
    "TextBlob(NegExample).sentiment"
   ]
  },
  {
   "cell_type": "code",
   "execution_count": 12,
   "metadata": {
    "id": "giIqnLalt1nw"
   },
   "outputs": [],
   "source": [
    "#Create function that I will apply to dataframe.\n",
    "def Sentiment(CommentColumn):\n",
    "    Senti = TextBlob(CommentColumn).sentiment\n",
    "    polarity = Senti[0]\n",
    "    subjectivity = Senti[1]\n",
    "    return polarity,subjectivity"
   ]
  },
  {
   "cell_type": "code",
   "execution_count": 13,
   "metadata": {
    "colab": {
     "base_uri": "https://localhost:8080/"
    },
    "id": "K6e5ajYgt3ek",
    "outputId": "edd72ac0-5d98-42fe-be80-d9b8ba5ae6e6"
   },
   "outputs": [
    {
     "name": "stderr",
     "output_type": "stream",
     "text": [
      "<ipython-input-13-4212761e2a66>:2: DeprecationWarning: The default dtype for empty Series will be 'object' instead of 'float64' in a future version. Specify a dtype explicitly to silence this warning.\n",
      "  df['polarity'] = pd.Series()\n",
      "<ipython-input-13-4212761e2a66>:3: DeprecationWarning: The default dtype for empty Series will be 'object' instead of 'float64' in a future version. Specify a dtype explicitly to silence this warning.\n",
      "  df['subjectivity'] = pd.Series()\n",
      "C:\\Users\\Asus\\anaconda3\\lib\\site-packages\\pandas\\core\\indexing.py:1637: SettingWithCopyWarning: \n",
      "A value is trying to be set on a copy of a slice from a DataFrame\n",
      "\n",
      "See the caveats in the documentation: https://pandas.pydata.org/pandas-docs/stable/user_guide/indexing.html#returning-a-view-versus-a-copy\n",
      "  self._setitem_single_block(indexer, value, name)\n"
     ]
    }
   ],
   "source": [
    "#apply function\n",
    "df['polarity'] = pd.Series()\n",
    "df['subjectivity'] = pd.Series()\n",
    "for i in range(len(df['comments'])):\n",
    "  Senti = TextBlob(df['comments'].iloc[i]).sentiment\n",
    "  df['polarity'].iloc[i] = Senti[0]\n",
    "  df['subjectivity'].iloc[i] = Senti[1]"
   ]
  },
  {
   "cell_type": "code",
   "execution_count": 14,
   "metadata": {
    "colab": {
     "base_uri": "https://localhost:8080/",
     "height": 112
    },
    "id": "SbRgap0dw97N",
    "outputId": "f8b42957-68b0-47b4-9abd-19e590cffc17"
   },
   "outputs": [
    {
     "data": {
      "text/html": [
       "<div>\n",
       "<style scoped>\n",
       "    .dataframe tbody tr th:only-of-type {\n",
       "        vertical-align: middle;\n",
       "    }\n",
       "\n",
       "    .dataframe tbody tr th {\n",
       "        vertical-align: top;\n",
       "    }\n",
       "\n",
       "    .dataframe thead th {\n",
       "        text-align: right;\n",
       "    }\n",
       "</style>\n",
       "<table border=\"1\" class=\"dataframe\">\n",
       "  <thead>\n",
       "    <tr style=\"text-align: right;\">\n",
       "      <th></th>\n",
       "      <th>comments</th>\n",
       "      <th>polarity</th>\n",
       "      <th>subjectivity</th>\n",
       "    </tr>\n",
       "  </thead>\n",
       "  <tbody>\n",
       "    <tr>\n",
       "      <th>254334</th>\n",
       "      <td>Appartement très bien placé, proche des lieux ...</td>\n",
       "      <td>0.000000</td>\n",
       "      <td>0.000000</td>\n",
       "    </tr>\n",
       "    <tr>\n",
       "      <th>108628</th>\n",
       "      <td>Sehr sauber, super Lage wenn man viel zu Fuß g...</td>\n",
       "      <td>0.333333</td>\n",
       "      <td>0.666667</td>\n",
       "    </tr>\n",
       "  </tbody>\n",
       "</table>\n",
       "</div>"
      ],
      "text/plain": [
       "                                                 comments  polarity  \\\n",
       "254334  Appartement très bien placé, proche des lieux ...  0.000000   \n",
       "108628  Sehr sauber, super Lage wenn man viel zu Fuß g...  0.333333   \n",
       "\n",
       "        subjectivity  \n",
       "254334      0.000000  \n",
       "108628      0.666667  "
      ]
     },
     "execution_count": 14,
     "metadata": {},
     "output_type": "execute_result"
    }
   ],
   "source": [
    "df[['comments','polarity','subjectivity']].sample(2)"
   ]
  },
  {
   "cell_type": "code",
   "execution_count": 15,
   "metadata": {
    "colab": {
     "base_uri": "https://localhost:8080/",
     "height": 206
    },
    "id": "DPxmNpcRxBmP",
    "outputId": "d75e750a-79b3-4e49-cf7f-c97bd7a58437"
   },
   "outputs": [
    {
     "data": {
      "text/html": [
       "<div>\n",
       "<style scoped>\n",
       "    .dataframe tbody tr th:only-of-type {\n",
       "        vertical-align: middle;\n",
       "    }\n",
       "\n",
       "    .dataframe tbody tr th {\n",
       "        vertical-align: top;\n",
       "    }\n",
       "\n",
       "    .dataframe thead th {\n",
       "        text-align: right;\n",
       "    }\n",
       "</style>\n",
       "<table border=\"1\" class=\"dataframe\">\n",
       "  <thead>\n",
       "    <tr style=\"text-align: right;\">\n",
       "      <th></th>\n",
       "      <th>comments</th>\n",
       "      <th>polarity</th>\n",
       "      <th>subjectivity</th>\n",
       "    </tr>\n",
       "  </thead>\n",
       "  <tbody>\n",
       "    <tr>\n",
       "      <th>88360</th>\n",
       "      <td>Die Unterkunft entsprach genau den Bildern. Sü...</td>\n",
       "      <td>-1.0</td>\n",
       "      <td>0.666667</td>\n",
       "    </tr>\n",
       "    <tr>\n",
       "      <th>20961</th>\n",
       "      <td>Petit week-end à Amsterdam avec deux amies, De...</td>\n",
       "      <td>-1.0</td>\n",
       "      <td>1.000000</td>\n",
       "    </tr>\n",
       "    <tr>\n",
       "      <th>208329</th>\n",
       "      <td>L'appartement d'Emelie est très joli et bien p...</td>\n",
       "      <td>-1.0</td>\n",
       "      <td>1.000000</td>\n",
       "    </tr>\n",
       "    <tr>\n",
       "      <th>125494</th>\n",
       "      <td>Her behavior was terrible. no polite. and the ...</td>\n",
       "      <td>-1.0</td>\n",
       "      <td>1.000000</td>\n",
       "    </tr>\n",
       "    <tr>\n",
       "      <th>79260</th>\n",
       "      <td>Même si nous sommes arrivé en retard car nous ...</td>\n",
       "      <td>-1.0</td>\n",
       "      <td>1.000000</td>\n",
       "    </tr>\n",
       "  </tbody>\n",
       "</table>\n",
       "</div>"
      ],
      "text/plain": [
       "                                                 comments  polarity  \\\n",
       "88360   Die Unterkunft entsprach genau den Bildern. Sü...      -1.0   \n",
       "20961   Petit week-end à Amsterdam avec deux amies, De...      -1.0   \n",
       "208329  L'appartement d'Emelie est très joli et bien p...      -1.0   \n",
       "125494  Her behavior was terrible. no polite. and the ...      -1.0   \n",
       "79260   Même si nous sommes arrivé en retard car nous ...      -1.0   \n",
       "\n",
       "        subjectivity  \n",
       "88360       0.666667  \n",
       "20961       1.000000  \n",
       "208329      1.000000  \n",
       "125494      1.000000  \n",
       "79260       1.000000  "
      ]
     },
     "execution_count": 15,
     "metadata": {},
     "output_type": "execute_result"
    }
   ],
   "source": [
    "df[['comments','polarity','subjectivity']].sort_values(by='polarity').head(5)"
   ]
  },
  {
   "cell_type": "code",
   "execution_count": 16,
   "metadata": {
    "colab": {
     "base_uri": "https://localhost:8080/",
     "height": 206
    },
    "id": "ZT6ZD68kxDTr",
    "outputId": "a3b2cc1c-cd9b-4a84-e768-38d12c792089"
   },
   "outputs": [
    {
     "data": {
      "text/html": [
       "<div>\n",
       "<style scoped>\n",
       "    .dataframe tbody tr th:only-of-type {\n",
       "        vertical-align: middle;\n",
       "    }\n",
       "\n",
       "    .dataframe tbody tr th {\n",
       "        vertical-align: top;\n",
       "    }\n",
       "\n",
       "    .dataframe thead th {\n",
       "        text-align: right;\n",
       "    }\n",
       "</style>\n",
       "<table border=\"1\" class=\"dataframe\">\n",
       "  <thead>\n",
       "    <tr style=\"text-align: right;\">\n",
       "      <th></th>\n",
       "      <th>comments</th>\n",
       "      <th>polarity</th>\n",
       "      <th>subjectivity</th>\n",
       "    </tr>\n",
       "  </thead>\n",
       "  <tbody>\n",
       "    <tr>\n",
       "      <th>204804</th>\n",
       "      <td>Everything was perfect. It’s a perfect place a...</td>\n",
       "      <td>1.0</td>\n",
       "      <td>1.00</td>\n",
       "    </tr>\n",
       "    <tr>\n",
       "      <th>1691</th>\n",
       "      <td>The perfect host!</td>\n",
       "      <td>1.0</td>\n",
       "      <td>1.00</td>\n",
       "    </tr>\n",
       "    <tr>\n",
       "      <th>89132</th>\n",
       "      <td>Exclusive and excellent place to stay in Amste...</td>\n",
       "      <td>1.0</td>\n",
       "      <td>1.00</td>\n",
       "    </tr>\n",
       "    <tr>\n",
       "      <th>219032</th>\n",
       "      <td>It was perfect ! Thank you Marc !</td>\n",
       "      <td>1.0</td>\n",
       "      <td>1.00</td>\n",
       "    </tr>\n",
       "    <tr>\n",
       "      <th>159034</th>\n",
       "      <td>great location! lots of restaurants and bars n...</td>\n",
       "      <td>1.0</td>\n",
       "      <td>0.75</td>\n",
       "    </tr>\n",
       "  </tbody>\n",
       "</table>\n",
       "</div>"
      ],
      "text/plain": [
       "                                                 comments  polarity  \\\n",
       "204804  Everything was perfect. It’s a perfect place a...       1.0   \n",
       "1691                                    The perfect host!       1.0   \n",
       "89132   Exclusive and excellent place to stay in Amste...       1.0   \n",
       "219032                  It was perfect ! Thank you Marc !       1.0   \n",
       "159034  great location! lots of restaurants and bars n...       1.0   \n",
       "\n",
       "        subjectivity  \n",
       "204804          1.00  \n",
       "1691            1.00  \n",
       "89132           1.00  \n",
       "219032          1.00  \n",
       "159034          0.75  "
      ]
     },
     "execution_count": 16,
     "metadata": {},
     "output_type": "execute_result"
    }
   ],
   "source": [
    "df[['comments','polarity','subjectivity']].sort_values(by='polarity').tail(5)"
   ]
  },
  {
   "cell_type": "markdown",
   "metadata": {
    "id": "OOQv4tdw927V"
   },
   "source": [
    "We will calculate sentiments of commenst which are only in English"
   ]
  },
  {
   "cell_type": "code",
   "execution_count": 17,
   "metadata": {
    "colab": {
     "base_uri": "https://localhost:8080/"
    },
    "id": "_77DXeuvxG4t",
    "outputId": "14f8976c-52f0-4aff-eaa2-98f3ca35cada"
   },
   "outputs": [
    {
     "name": "stdout",
     "output_type": "stream",
     "text": [
      "Requirement already satisfied: langdetect in c:\\users\\asus\\anaconda3\\lib\\site-packages (1.0.9)\n",
      "Requirement already satisfied: six in c:\\users\\asus\\anaconda3\\lib\\site-packages (from langdetect) (1.15.0)\n",
      "Note: you may need to restart the kernel to use updated packages.\n"
     ]
    }
   ],
   "source": [
    "pip install langdetect"
   ]
  },
  {
   "cell_type": "code",
   "execution_count": 18,
   "metadata": {
    "id": "xEwi_gOwxP2X"
   },
   "outputs": [],
   "source": [
    "from langdetect import detect"
   ]
  },
  {
   "cell_type": "code",
   "execution_count": 19,
   "metadata": {
    "id": "YwVH-uJ7xShQ"
   },
   "outputs": [],
   "source": [
    "def detectlanguage(Comment):\n",
    "    try:\n",
    "        return detect(Comment)\n",
    "    except:\n",
    "        return \"NoLang\""
   ]
  },
  {
   "cell_type": "code",
   "execution_count": 20,
   "metadata": {
    "colab": {
     "base_uri": "https://localhost:8080/"
    },
    "id": "x7n-Z1IoxWvG",
    "outputId": "c9b825c5-4d06-457d-ee22-1a7e88ad8048"
   },
   "outputs": [
    {
     "name": "stderr",
     "output_type": "stream",
     "text": [
      "<ipython-input-20-94f6e13d9b92>:1: DeprecationWarning: The default dtype for empty Series will be 'object' instead of 'float64' in a future version. Specify a dtype explicitly to silence this warning.\n",
      "  df['Language'] = pd.Series()\n",
      "C:\\Users\\Asus\\anaconda3\\lib\\site-packages\\pandas\\core\\indexing.py:1637: SettingWithCopyWarning: \n",
      "A value is trying to be set on a copy of a slice from a DataFrame\n",
      "\n",
      "See the caveats in the documentation: https://pandas.pydata.org/pandas-docs/stable/user_guide/indexing.html#returning-a-view-versus-a-copy\n",
      "  self._setitem_single_block(indexer, value, name)\n"
     ]
    }
   ],
   "source": [
    "df['Language'] = pd.Series()\n",
    "for i in range(len(df['comments'])):\n",
    "  df['Language'].iloc[i] = detectlanguage(df['comments'].iloc[i])"
   ]
  },
  {
   "cell_type": "code",
   "execution_count": 21,
   "metadata": {
    "colab": {
     "base_uri": "https://localhost:8080/",
     "height": 174
    },
    "id": "EKDy0FkX355h",
    "outputId": "480bce1b-028b-46d5-c045-774316fefd71"
   },
   "outputs": [
    {
     "data": {
      "text/html": [
       "<div>\n",
       "<style scoped>\n",
       "    .dataframe tbody tr th:only-of-type {\n",
       "        vertical-align: middle;\n",
       "    }\n",
       "\n",
       "    .dataframe tbody tr th {\n",
       "        vertical-align: top;\n",
       "    }\n",
       "\n",
       "    .dataframe thead th {\n",
       "        text-align: right;\n",
       "    }\n",
       "</style>\n",
       "<table border=\"1\" class=\"dataframe\">\n",
       "  <thead>\n",
       "    <tr style=\"text-align: right;\">\n",
       "      <th></th>\n",
       "      <th>comments</th>\n",
       "      <th>polarity</th>\n",
       "      <th>subjectivity</th>\n",
       "      <th>Language</th>\n",
       "    </tr>\n",
       "  </thead>\n",
       "  <tbody>\n",
       "    <tr>\n",
       "      <th>92670</th>\n",
       "      <td>Excellent séjour passé, la chambre et le logem...</td>\n",
       "      <td>1.0</td>\n",
       "      <td>1.0</td>\n",
       "      <td>fr</td>\n",
       "    </tr>\n",
       "    <tr>\n",
       "      <th>18715</th>\n",
       "      <td>Ein Toller Gastgeber mit vielen wertvollen Tip...</td>\n",
       "      <td>0.2</td>\n",
       "      <td>0.3</td>\n",
       "      <td>de</td>\n",
       "    </tr>\n",
       "    <tr>\n",
       "      <th>183201</th>\n",
       "      <td>Très agréable chambre dans un quartier légèrem...</td>\n",
       "      <td>0.0</td>\n",
       "      <td>0.0</td>\n",
       "      <td>fr</td>\n",
       "    </tr>\n",
       "    <tr>\n",
       "      <th>177347</th>\n",
       "      <td>estancia inmejorable</td>\n",
       "      <td>0.0</td>\n",
       "      <td>0.0</td>\n",
       "      <td>es</td>\n",
       "    </tr>\n",
       "  </tbody>\n",
       "</table>\n",
       "</div>"
      ],
      "text/plain": [
       "                                                 comments  polarity  \\\n",
       "92670   Excellent séjour passé, la chambre et le logem...       1.0   \n",
       "18715   Ein Toller Gastgeber mit vielen wertvollen Tip...       0.2   \n",
       "183201  Très agréable chambre dans un quartier légèrem...       0.0   \n",
       "177347                               estancia inmejorable       0.0   \n",
       "\n",
       "        subjectivity Language  \n",
       "92670            1.0       fr  \n",
       "18715            0.3       de  \n",
       "183201           0.0       fr  \n",
       "177347           0.0       es  "
      ]
     },
     "execution_count": 21,
     "metadata": {},
     "output_type": "execute_result"
    }
   ],
   "source": [
    "df[(df['Language']!=\"en\")][['comments','polarity','subjectivity','Language']].sample(4)"
   ]
  },
  {
   "cell_type": "markdown",
   "metadata": {
    "id": "Zs1hDOLQ-ClI"
   },
   "source": [
    "Filtering and storing only English comments"
   ]
  },
  {
   "cell_type": "code",
   "execution_count": 22,
   "metadata": {
    "colab": {
     "base_uri": "https://localhost:8080/"
    },
    "id": "F0M9fGkn3_W5",
    "outputId": "5f2e8189-201c-4a7c-939e-fc24455d16d3"
   },
   "outputs": [
    {
     "name": "stdout",
     "output_type": "stream",
     "text": [
      "(266622, 9)\n",
      "(205892, 9)\n"
     ]
    }
   ],
   "source": [
    "print (df.shape)\n",
    "df1 = df[df['Language']=='en']\n",
    "print (df1.shape)"
   ]
  },
  {
   "cell_type": "code",
   "execution_count": 23,
   "metadata": {
    "colab": {
     "base_uri": "https://localhost:8080/",
     "height": 488
    },
    "id": "tTlxmM4o4LfE",
    "outputId": "8547d640-f357-4971-8644-19fcad88d9dd"
   },
   "outputs": [
    {
     "data": {
      "text/html": [
       "<div>\n",
       "<style scoped>\n",
       "    .dataframe tbody tr th:only-of-type {\n",
       "        vertical-align: middle;\n",
       "    }\n",
       "\n",
       "    .dataframe tbody tr th {\n",
       "        vertical-align: top;\n",
       "    }\n",
       "\n",
       "    .dataframe thead th {\n",
       "        text-align: right;\n",
       "    }\n",
       "</style>\n",
       "<table border=\"1\" class=\"dataframe\">\n",
       "  <thead>\n",
       "    <tr style=\"text-align: right;\">\n",
       "      <th></th>\n",
       "      <th>comments</th>\n",
       "      <th>polarity</th>\n",
       "      <th>subjectivity</th>\n",
       "    </tr>\n",
       "  </thead>\n",
       "  <tbody>\n",
       "    <tr>\n",
       "      <th>159913</th>\n",
       "      <td>Worst place ever</td>\n",
       "      <td>-1.000000</td>\n",
       "      <td>1.000000</td>\n",
       "    </tr>\n",
       "    <tr>\n",
       "      <th>125494</th>\n",
       "      <td>Her behavior was terrible. no polite. and the ...</td>\n",
       "      <td>-1.000000</td>\n",
       "      <td>1.000000</td>\n",
       "    </tr>\n",
       "    <tr>\n",
       "      <th>215748</th>\n",
       "      <td>I've forgotten something, so I'm emailing but ...</td>\n",
       "      <td>-1.000000</td>\n",
       "      <td>1.000000</td>\n",
       "    </tr>\n",
       "    <tr>\n",
       "      <th>166669</th>\n",
       "      <td>It's a terrible mistake to choose this place!!</td>\n",
       "      <td>-1.000000</td>\n",
       "      <td>1.000000</td>\n",
       "    </tr>\n",
       "    <tr>\n",
       "      <th>157052</th>\n",
       "      <td>You won't be disappointed! Book it up!</td>\n",
       "      <td>-1.000000</td>\n",
       "      <td>0.750000</td>\n",
       "    </tr>\n",
       "    <tr>\n",
       "      <th>243222</th>\n",
       "      <td>Too bad....&lt;br/&gt;It was the worst experience.</td>\n",
       "      <td>-1.000000</td>\n",
       "      <td>1.000000</td>\n",
       "    </tr>\n",
       "    <tr>\n",
       "      <th>94589</th>\n",
       "      <td>Terrible experience with this host.&lt;br/&gt;They s...</td>\n",
       "      <td>-1.000000</td>\n",
       "      <td>1.000000</td>\n",
       "    </tr>\n",
       "    <tr>\n",
       "      <th>209003</th>\n",
       "      <td>Very disappointed at the lack of a river view.</td>\n",
       "      <td>-0.975000</td>\n",
       "      <td>0.975000</td>\n",
       "    </tr>\n",
       "    <tr>\n",
       "      <th>138336</th>\n",
       "      <td>You won’t be disappointed!</td>\n",
       "      <td>-0.937500</td>\n",
       "      <td>0.750000</td>\n",
       "    </tr>\n",
       "    <tr>\n",
       "      <th>172950</th>\n",
       "      <td>The pictures show the place off well and if yo...</td>\n",
       "      <td>-0.937500</td>\n",
       "      <td>0.750000</td>\n",
       "    </tr>\n",
       "    <tr>\n",
       "      <th>264689</th>\n",
       "      <td>The place is very dirty, there are a lot of th...</td>\n",
       "      <td>-0.890000</td>\n",
       "      <td>1.000000</td>\n",
       "    </tr>\n",
       "    <tr>\n",
       "      <th>96788</th>\n",
       "      <td>My worst stay in any accommodation , the room ...</td>\n",
       "      <td>-0.825000</td>\n",
       "      <td>0.975000</td>\n",
       "    </tr>\n",
       "    <tr>\n",
       "      <th>209341</th>\n",
       "      <td>Think twice before booking this \"luxurious \" a...</td>\n",
       "      <td>-0.780000</td>\n",
       "      <td>0.910000</td>\n",
       "    </tr>\n",
       "    <tr>\n",
       "      <th>262498</th>\n",
       "      <td>It was very cold on night. I massaged the host...</td>\n",
       "      <td>-0.758095</td>\n",
       "      <td>0.952381</td>\n",
       "    </tr>\n",
       "  </tbody>\n",
       "</table>\n",
       "</div>"
      ],
      "text/plain": [
       "                                                 comments  polarity  \\\n",
       "159913                                   Worst place ever -1.000000   \n",
       "125494  Her behavior was terrible. no polite. and the ... -1.000000   \n",
       "215748  I've forgotten something, so I'm emailing but ... -1.000000   \n",
       "166669    It's a terrible mistake to choose this place!!  -1.000000   \n",
       "157052             You won't be disappointed! Book it up! -1.000000   \n",
       "243222       Too bad....<br/>It was the worst experience. -1.000000   \n",
       "94589   Terrible experience with this host.<br/>They s... -1.000000   \n",
       "209003     Very disappointed at the lack of a river view. -0.975000   \n",
       "138336                         You won’t be disappointed! -0.937500   \n",
       "172950  The pictures show the place off well and if yo... -0.937500   \n",
       "264689  The place is very dirty, there are a lot of th... -0.890000   \n",
       "96788   My worst stay in any accommodation , the room ... -0.825000   \n",
       "209341  Think twice before booking this \"luxurious \" a... -0.780000   \n",
       "262498  It was very cold on night. I massaged the host... -0.758095   \n",
       "\n",
       "        subjectivity  \n",
       "159913      1.000000  \n",
       "125494      1.000000  \n",
       "215748      1.000000  \n",
       "166669      1.000000  \n",
       "157052      0.750000  \n",
       "243222      1.000000  \n",
       "94589       1.000000  \n",
       "209003      0.975000  \n",
       "138336      0.750000  \n",
       "172950      0.750000  \n",
       "264689      1.000000  \n",
       "96788       0.975000  \n",
       "209341      0.910000  \n",
       "262498      0.952381  "
      ]
     },
     "execution_count": 23,
     "metadata": {},
     "output_type": "execute_result"
    }
   ],
   "source": [
    "df1[['comments','polarity','subjectivity']].sort_values(by='polarity').head(14)"
   ]
  },
  {
   "cell_type": "code",
   "execution_count": 24,
   "metadata": {
    "colab": {
     "base_uri": "https://localhost:8080/",
     "height": 520
    },
    "id": "X2d2XG7u4O9_",
    "outputId": "79d02f22-1e2f-4ff6-c2e2-0e02b6dcf869"
   },
   "outputs": [
    {
     "data": {
      "text/html": [
       "<div>\n",
       "<style scoped>\n",
       "    .dataframe tbody tr th:only-of-type {\n",
       "        vertical-align: middle;\n",
       "    }\n",
       "\n",
       "    .dataframe tbody tr th {\n",
       "        vertical-align: top;\n",
       "    }\n",
       "\n",
       "    .dataframe thead th {\n",
       "        text-align: right;\n",
       "    }\n",
       "</style>\n",
       "<table border=\"1\" class=\"dataframe\">\n",
       "  <thead>\n",
       "    <tr style=\"text-align: right;\">\n",
       "      <th></th>\n",
       "      <th>comments</th>\n",
       "      <th>polarity</th>\n",
       "      <th>subjectivity</th>\n",
       "    </tr>\n",
       "  </thead>\n",
       "  <tbody>\n",
       "    <tr>\n",
       "      <th>188048</th>\n",
       "      <td>Everything perfect</td>\n",
       "      <td>1.0</td>\n",
       "      <td>1.000</td>\n",
       "    </tr>\n",
       "    <tr>\n",
       "      <th>33210</th>\n",
       "      <td>It was a great stay!!!</td>\n",
       "      <td>1.0</td>\n",
       "      <td>0.750</td>\n",
       "    </tr>\n",
       "    <tr>\n",
       "      <th>188075</th>\n",
       "      <td>Perfect place to stay</td>\n",
       "      <td>1.0</td>\n",
       "      <td>1.000</td>\n",
       "    </tr>\n",
       "    <tr>\n",
       "      <th>188076</th>\n",
       "      <td>A great place to stay in Amsterdam!</td>\n",
       "      <td>1.0</td>\n",
       "      <td>0.750</td>\n",
       "    </tr>\n",
       "    <tr>\n",
       "      <th>139904</th>\n",
       "      <td>Very great !</td>\n",
       "      <td>1.0</td>\n",
       "      <td>0.975</td>\n",
       "    </tr>\n",
       "    <tr>\n",
       "      <th>259302</th>\n",
       "      <td>Alles was perfect!</td>\n",
       "      <td>1.0</td>\n",
       "      <td>1.000</td>\n",
       "    </tr>\n",
       "    <tr>\n",
       "      <th>139645</th>\n",
       "      <td>Perfect location!</td>\n",
       "      <td>1.0</td>\n",
       "      <td>1.000</td>\n",
       "    </tr>\n",
       "    <tr>\n",
       "      <th>41231</th>\n",
       "      <td>Great spot!</td>\n",
       "      <td>1.0</td>\n",
       "      <td>0.750</td>\n",
       "    </tr>\n",
       "    <tr>\n",
       "      <th>188115</th>\n",
       "      <td>Everything was perfect</td>\n",
       "      <td>1.0</td>\n",
       "      <td>1.000</td>\n",
       "    </tr>\n",
       "    <tr>\n",
       "      <th>139544</th>\n",
       "      <td>It is a wonderful room. Recommended!</td>\n",
       "      <td>1.0</td>\n",
       "      <td>1.000</td>\n",
       "    </tr>\n",
       "    <tr>\n",
       "      <th>76063</th>\n",
       "      <td>The boat, location, Bop &amp; Eve, the cat. Everyt...</td>\n",
       "      <td>1.0</td>\n",
       "      <td>0.650</td>\n",
       "    </tr>\n",
       "    <tr>\n",
       "      <th>76080</th>\n",
       "      <td>Everything was wonderful.</td>\n",
       "      <td>1.0</td>\n",
       "      <td>1.000</td>\n",
       "    </tr>\n",
       "    <tr>\n",
       "      <th>225311</th>\n",
       "      <td>It was really awesome place and host!!</td>\n",
       "      <td>1.0</td>\n",
       "      <td>1.000</td>\n",
       "    </tr>\n",
       "    <tr>\n",
       "      <th>22277</th>\n",
       "      <td>Had a great time!</td>\n",
       "      <td>1.0</td>\n",
       "      <td>0.750</td>\n",
       "    </tr>\n",
       "    <tr>\n",
       "      <th>258822</th>\n",
       "      <td>Excellent host, awesome views, would stay here...</td>\n",
       "      <td>1.0</td>\n",
       "      <td>1.000</td>\n",
       "    </tr>\n",
       "  </tbody>\n",
       "</table>\n",
       "</div>"
      ],
      "text/plain": [
       "                                                 comments  polarity  \\\n",
       "188048                                 Everything perfect       1.0   \n",
       "33210                              It was a great stay!!!       1.0   \n",
       "188075                              Perfect place to stay       1.0   \n",
       "188076                A great place to stay in Amsterdam!       1.0   \n",
       "139904                                      Very great !        1.0   \n",
       "259302                                 Alles was perfect!       1.0   \n",
       "139645                                  Perfect location!       1.0   \n",
       "41231                                         Great spot!       1.0   \n",
       "188115                             Everything was perfect       1.0   \n",
       "139544               It is a wonderful room. Recommended!       1.0   \n",
       "76063   The boat, location, Bop & Eve, the cat. Everyt...       1.0   \n",
       "76080                          Everything was wonderful.        1.0   \n",
       "225311             It was really awesome place and host!!       1.0   \n",
       "22277                                   Had a great time!       1.0   \n",
       "258822  Excellent host, awesome views, would stay here...       1.0   \n",
       "\n",
       "        subjectivity  \n",
       "188048         1.000  \n",
       "33210          0.750  \n",
       "188075         1.000  \n",
       "188076         0.750  \n",
       "139904         0.975  \n",
       "259302         1.000  \n",
       "139645         1.000  \n",
       "41231          0.750  \n",
       "188115         1.000  \n",
       "139544         1.000  \n",
       "76063          0.650  \n",
       "76080          1.000  \n",
       "225311         1.000  \n",
       "22277          0.750  \n",
       "258822         1.000  "
      ]
     },
     "execution_count": 24,
     "metadata": {},
     "output_type": "execute_result"
    }
   ],
   "source": [
    "df1[['comments','polarity','subjectivity']].sort_values(by='polarity').tail(15)"
   ]
  },
  {
   "cell_type": "markdown",
   "metadata": {
    "id": "WQRZ8ACh-KwJ"
   },
   "source": [
    "Average Sentiment Score and Total Reviews for each Listing"
   ]
  },
  {
   "cell_type": "code",
   "execution_count": 25,
   "metadata": {
    "colab": {
     "base_uri": "https://localhost:8080/",
     "height": 363
    },
    "id": "UZ4kCINe4TUi",
    "outputId": "0fd8f799-65dd-452b-c28e-f3f92c8740c2"
   },
   "outputs": [
    {
     "data": {
      "text/html": [
       "<div>\n",
       "<style scoped>\n",
       "    .dataframe tbody tr th:only-of-type {\n",
       "        vertical-align: middle;\n",
       "    }\n",
       "\n",
       "    .dataframe tbody tr th {\n",
       "        vertical-align: top;\n",
       "    }\n",
       "\n",
       "    .dataframe thead th {\n",
       "        text-align: right;\n",
       "    }\n",
       "</style>\n",
       "<table border=\"1\" class=\"dataframe\">\n",
       "  <thead>\n",
       "    <tr style=\"text-align: right;\">\n",
       "      <th></th>\n",
       "      <th>listing_id</th>\n",
       "      <th>Mean_Sent_Pol</th>\n",
       "    </tr>\n",
       "  </thead>\n",
       "  <tbody>\n",
       "    <tr>\n",
       "      <th>0</th>\n",
       "      <td>2818</td>\n",
       "      <td>0.384147</td>\n",
       "    </tr>\n",
       "    <tr>\n",
       "      <th>1</th>\n",
       "      <td>20168</td>\n",
       "      <td>0.360117</td>\n",
       "    </tr>\n",
       "    <tr>\n",
       "      <th>2</th>\n",
       "      <td>27886</td>\n",
       "      <td>0.455166</td>\n",
       "    </tr>\n",
       "    <tr>\n",
       "      <th>3</th>\n",
       "      <td>28871</td>\n",
       "      <td>0.447745</td>\n",
       "    </tr>\n",
       "    <tr>\n",
       "      <th>4</th>\n",
       "      <td>29051</td>\n",
       "      <td>0.419484</td>\n",
       "    </tr>\n",
       "    <tr>\n",
       "      <th>5</th>\n",
       "      <td>44391</td>\n",
       "      <td>0.397880</td>\n",
       "    </tr>\n",
       "    <tr>\n",
       "      <th>6</th>\n",
       "      <td>47061</td>\n",
       "      <td>0.393944</td>\n",
       "    </tr>\n",
       "    <tr>\n",
       "      <th>7</th>\n",
       "      <td>49552</td>\n",
       "      <td>0.433848</td>\n",
       "    </tr>\n",
       "    <tr>\n",
       "      <th>8</th>\n",
       "      <td>49790</td>\n",
       "      <td>0.408929</td>\n",
       "    </tr>\n",
       "    <tr>\n",
       "      <th>9</th>\n",
       "      <td>50523</td>\n",
       "      <td>0.449047</td>\n",
       "    </tr>\n",
       "  </tbody>\n",
       "</table>\n",
       "</div>"
      ],
      "text/plain": [
       "   listing_id  Mean_Sent_Pol\n",
       "0        2818       0.384147\n",
       "1       20168       0.360117\n",
       "2       27886       0.455166\n",
       "3       28871       0.447745\n",
       "4       29051       0.419484\n",
       "5       44391       0.397880\n",
       "6       47061       0.393944\n",
       "7       49552       0.433848\n",
       "8       49790       0.408929\n",
       "9       50523       0.449047"
      ]
     },
     "execution_count": 25,
     "metadata": {},
     "output_type": "execute_result"
    }
   ],
   "source": [
    "Mean_Sent_Pol=df1.groupby('listing_id').mean()['polarity'].rename_axis('listing_id').reset_index(name='Mean_Sent_Pol')\n",
    "Mean_Sent_Pol.head(10)"
   ]
  },
  {
   "cell_type": "code",
   "execution_count": 26,
   "metadata": {
    "colab": {
     "base_uri": "https://localhost:8080/",
     "height": 520
    },
    "id": "vvZkM9Cq4uPI",
    "outputId": "d43de772-0bec-4371-8eaa-f4fedb98c7b5"
   },
   "outputs": [
    {
     "data": {
      "text/html": [
       "<div>\n",
       "<style scoped>\n",
       "    .dataframe tbody tr th:only-of-type {\n",
       "        vertical-align: middle;\n",
       "    }\n",
       "\n",
       "    .dataframe tbody tr th {\n",
       "        vertical-align: top;\n",
       "    }\n",
       "\n",
       "    .dataframe thead th {\n",
       "        text-align: right;\n",
       "    }\n",
       "</style>\n",
       "<table border=\"1\" class=\"dataframe\">\n",
       "  <thead>\n",
       "    <tr style=\"text-align: right;\">\n",
       "      <th></th>\n",
       "      <th>listing_id</th>\n",
       "      <th>Total_Review_By_Listing</th>\n",
       "    </tr>\n",
       "  </thead>\n",
       "  <tbody>\n",
       "    <tr>\n",
       "      <th>4846</th>\n",
       "      <td>49880878</td>\n",
       "      <td>1</td>\n",
       "    </tr>\n",
       "    <tr>\n",
       "      <th>4631</th>\n",
       "      <td>22168849</td>\n",
       "      <td>1</td>\n",
       "    </tr>\n",
       "    <tr>\n",
       "      <th>4632</th>\n",
       "      <td>51501124</td>\n",
       "      <td>1</td>\n",
       "    </tr>\n",
       "    <tr>\n",
       "      <th>4633</th>\n",
       "      <td>41466832</td>\n",
       "      <td>1</td>\n",
       "    </tr>\n",
       "    <tr>\n",
       "      <th>4634</th>\n",
       "      <td>48004872</td>\n",
       "      <td>1</td>\n",
       "    </tr>\n",
       "    <tr>\n",
       "      <th>4635</th>\n",
       "      <td>27287775</td>\n",
       "      <td>1</td>\n",
       "    </tr>\n",
       "    <tr>\n",
       "      <th>4636</th>\n",
       "      <td>40044862</td>\n",
       "      <td>1</td>\n",
       "    </tr>\n",
       "    <tr>\n",
       "      <th>4637</th>\n",
       "      <td>35145947</td>\n",
       "      <td>1</td>\n",
       "    </tr>\n",
       "    <tr>\n",
       "      <th>4638</th>\n",
       "      <td>45314111</td>\n",
       "      <td>1</td>\n",
       "    </tr>\n",
       "    <tr>\n",
       "      <th>4639</th>\n",
       "      <td>12548328</td>\n",
       "      <td>1</td>\n",
       "    </tr>\n",
       "    <tr>\n",
       "      <th>4640</th>\n",
       "      <td>45263913</td>\n",
       "      <td>1</td>\n",
       "    </tr>\n",
       "    <tr>\n",
       "      <th>4641</th>\n",
       "      <td>40498677</td>\n",
       "      <td>1</td>\n",
       "    </tr>\n",
       "    <tr>\n",
       "      <th>4642</th>\n",
       "      <td>33008830</td>\n",
       "      <td>1</td>\n",
       "    </tr>\n",
       "    <tr>\n",
       "      <th>4643</th>\n",
       "      <td>47573699</td>\n",
       "      <td>1</td>\n",
       "    </tr>\n",
       "    <tr>\n",
       "      <th>4644</th>\n",
       "      <td>49042011</td>\n",
       "      <td>1</td>\n",
       "    </tr>\n",
       "  </tbody>\n",
       "</table>\n",
       "</div>"
      ],
      "text/plain": [
       "      listing_id  Total_Review_By_Listing\n",
       "4846    49880878                        1\n",
       "4631    22168849                        1\n",
       "4632    51501124                        1\n",
       "4633    41466832                        1\n",
       "4634    48004872                        1\n",
       "4635    27287775                        1\n",
       "4636    40044862                        1\n",
       "4637    35145947                        1\n",
       "4638    45314111                        1\n",
       "4639    12548328                        1\n",
       "4640    45263913                        1\n",
       "4641    40498677                        1\n",
       "4642    33008830                        1\n",
       "4643    47573699                        1\n",
       "4644    49042011                        1"
      ]
     },
     "execution_count": 26,
     "metadata": {},
     "output_type": "execute_result"
    }
   ],
   "source": [
    "Total_Review_By_Listing=pd.DataFrame(df1['listing_id'].value_counts().rename_axis('listing_id').reset_index(name='Total_Review_By_Listing'))\n",
    "Total_Review_By_Listing.sort_values(by='Total_Review_By_Listing').head(15)"
   ]
  },
  {
   "cell_type": "markdown",
   "metadata": {
    "id": "aP-SgQED-Pu3"
   },
   "source": [
    "Merging Total Review and Average Sentiment Score to Concise_Review"
   ]
  },
  {
   "cell_type": "code",
   "execution_count": 27,
   "metadata": {
    "id": "l1GgQVKq6NNp"
   },
   "outputs": [],
   "source": [
    "concise_review=pd.merge(Mean_Sent_Pol,Total_Review_By_Listing,on ='listing_id')"
   ]
  },
  {
   "cell_type": "code",
   "execution_count": 28,
   "metadata": {
    "colab": {
     "base_uri": "https://localhost:8080/",
     "height": 206
    },
    "id": "y3RI4mtc6b2C",
    "outputId": "b2608486-7235-421b-d4b1-f51ce49b16bb"
   },
   "outputs": [
    {
     "data": {
      "text/html": [
       "<div>\n",
       "<style scoped>\n",
       "    .dataframe tbody tr th:only-of-type {\n",
       "        vertical-align: middle;\n",
       "    }\n",
       "\n",
       "    .dataframe tbody tr th {\n",
       "        vertical-align: top;\n",
       "    }\n",
       "\n",
       "    .dataframe thead th {\n",
       "        text-align: right;\n",
       "    }\n",
       "</style>\n",
       "<table border=\"1\" class=\"dataframe\">\n",
       "  <thead>\n",
       "    <tr style=\"text-align: right;\">\n",
       "      <th></th>\n",
       "      <th>listing_id</th>\n",
       "      <th>Mean_Sent_Pol</th>\n",
       "      <th>Total_Review_By_Listing</th>\n",
       "    </tr>\n",
       "  </thead>\n",
       "  <tbody>\n",
       "    <tr>\n",
       "      <th>0</th>\n",
       "      <td>2818</td>\n",
       "      <td>0.384147</td>\n",
       "      <td>238</td>\n",
       "    </tr>\n",
       "    <tr>\n",
       "      <th>1</th>\n",
       "      <td>20168</td>\n",
       "      <td>0.360117</td>\n",
       "      <td>282</td>\n",
       "    </tr>\n",
       "    <tr>\n",
       "      <th>2</th>\n",
       "      <td>27886</td>\n",
       "      <td>0.455166</td>\n",
       "      <td>184</td>\n",
       "    </tr>\n",
       "    <tr>\n",
       "      <th>3</th>\n",
       "      <td>28871</td>\n",
       "      <td>0.447745</td>\n",
       "      <td>271</td>\n",
       "    </tr>\n",
       "    <tr>\n",
       "      <th>4</th>\n",
       "      <td>29051</td>\n",
       "      <td>0.419484</td>\n",
       "      <td>451</td>\n",
       "    </tr>\n",
       "  </tbody>\n",
       "</table>\n",
       "</div>"
      ],
      "text/plain": [
       "   listing_id  Mean_Sent_Pol  Total_Review_By_Listing\n",
       "0        2818       0.384147                      238\n",
       "1       20168       0.360117                      282\n",
       "2       27886       0.455166                      184\n",
       "3       28871       0.447745                      271\n",
       "4       29051       0.419484                      451"
      ]
     },
     "execution_count": 28,
     "metadata": {},
     "output_type": "execute_result"
    }
   ],
   "source": [
    "concise_review.head()"
   ]
  },
  {
   "cell_type": "markdown",
   "metadata": {
    "id": "D98W3ObC-Wty"
   },
   "source": [
    "Retrieving the concise_review.csv dataset"
   ]
  },
  {
   "cell_type": "code",
   "execution_count": 29,
   "metadata": {
    "id": "QxyqsaeZ7xc2"
   },
   "outputs": [],
   "source": [
    "concise_review.to_csv('D:/DCU/CA660_Stats/Assignment1/Amsterdam_Netherlands/Intermediate/sent_review.csv',index=False)"
   ]
  },
  {
   "cell_type": "markdown",
   "metadata": {
    "id": "2BgZpCbj-w6c"
   },
   "source": [
    "Checking the Distribution of Average Sentiment Score"
   ]
  },
  {
   "cell_type": "code",
   "execution_count": 30,
   "metadata": {
    "colab": {
     "base_uri": "https://localhost:8080/",
     "height": 279
    },
    "id": "bcJC1mzN-eMU",
    "outputId": "05bff1e9-d899-4d28-c88a-a48b90658e4b"
   },
   "outputs": [
    {
     "data": {
      "image/png": "[encoded data removed]",
      "text/plain": [
       "<Figure size 432x288 with 1 Axes>"
      ]
     },
     "metadata": {
      "needs_background": "light"
     },
     "output_type": "display_data"
    }
   ],
   "source": [
    "plt.hist([concise_review.Mean_Sent_Pol],bins=100)\n",
    "plt.show()"
   ]
  }
 ],
 "metadata": {
  "accelerator": "GPU",
  "colab": {
   "collapsed_sections": [],
   "name": "Amsterdam AirBnb Reviews Sentiment.ipynb",
   "provenance": []
  },
  "kernelspec": {
   "display_name": "Python 3",
   "language": "python",
   "name": "python3"
  },
  "language_info": {
   "codemirror_mode": {
    "name": "ipython",
    "version": 3
   },
   "file_extension": ".py",
   "mimetype": "text/x-python",
   "name": "python",
   "nbconvert_exporter": "python",
   "pygments_lexer": "ipython3",
   "version": "3.8.8"
  }
 },
 "nbformat": 4,
 "nbformat_minor": 1
}
